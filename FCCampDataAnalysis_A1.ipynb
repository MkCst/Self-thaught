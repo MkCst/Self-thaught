{
 "cells": [
  {
   "cell_type": "markdown",
   "metadata": {},
   "source": [
    "# Calculador de media varianza y desviacion estandar\n",
    "\n",
    "**Asignación**\n",
    "Crea una función llamada calculate() en mean_var_std.py que utilice Numpy para obtener la media, la varianza, la desviación estándar, el máximo, el mínimo y la suma de las filas, las columnas y los elementos de una matriz de 3 x 3.\n",
    "\n",
    "La entrada de la función debe ser una lista que contenga 9 dígitos. La función debe convertir la lista en una matriz Numpy de 3 x 3, y luego devolver un diccionario que contenga la media, la varianza, la desviación estándar, el máximo, el mínimo y la suma en ambos ejes y para la matriz aplanada.\n",
    "\n",
    "El diccionario devuelto debe seguir este formato:\n",
    "\n",
    "```python\n",
    "\n",
    "{\n",
    "  'mean': [axis1, axis2, flattened],\n",
    "  'variance': [axis1, axis2, flattened],\n",
    "  'standard deviation': [axis1, axis2, flattened],\n",
    "  'max': [axis1, axis2, flattened],\n",
    "  'min': [axis1, axis2, flattened],\n",
    "  'sum': [axis1, axis2, flattened]\n",
    "}\n",
    "\n",
    "```\n",
    "\n",
    "Si se pasa a la función una lista que contenga menos de 9 elementos, debería lanzar una excepción ValueError con el mensaje \"List must contain nine numbers.\" Los valores del diccionario devuelto deben ser listas y no matrices Numpy.\n",
    "\n",
    "Por ejemplo: `calculate([0,1,2,3,4,5,6,7,8])` debe devolver:\n",
    "\n",
    "```python\n",
    "{\n",
    "  'mean': [[3.0, 4.0, 5.0], [1.0, 4.0, 7.0], 4.0], \n",
    "  'variance': [[6.0, 6.0, 6.0], [0.6666666666666666, 0.6666666666666666, 0.6666666666666666], 6.666666666666667], \n",
    "  'standard deviation': [[2.449489742783178, 2.449489742783178, 2.449489742783178], [0.816496580927726, 0.816496580927726, 0.816496580927726], 2.581988897471611],\n",
    "  'max': [[6, 7, 8], [2, 5, 8], 8],\n",
    "  'min': [[0, 1, 2], [0, 3, 6], 0],\n",
    "  'sum': [[9, 12, 15], [3, 12, 21], 36]\n",
    "}\n",
    "\n",
    "```\n"
   ]
  },
  {
   "cell_type": "code",
   "execution_count": 1,
   "metadata": {},
   "outputs": [],
   "source": [
    "import numpy as np\n",
    "\n",
    "def calculate(list):\n",
    "    if (len(list)!=9):\n",
    "        raise ValueError(\"List must contain \")\n",
    "\n"
   ]
  },
  {
   "cell_type": "code",
   "execution_count": null,
   "metadata": {},
   "outputs": [],
   "source": []
  }
 ],
 "metadata": {
  "interpreter": {
   "hash": "c469c999aae2bf6d578d6881606ced546d1546d312a4811937df5b24665ee8bc"
  },
  "kernelspec": {
   "display_name": "Python 3.8.8 64-bit ('base': conda)",
   "name": "python3"
  },
  "language_info": {
   "codemirror_mode": {
    "name": "ipython",
    "version": 3
   },
   "file_extension": ".py",
   "mimetype": "text/x-python",
   "name": "python",
   "nbconvert_exporter": "python",
   "pygments_lexer": "ipython3",
   "version": "3.8.8"
  },
  "orig_nbformat": 4
 },
 "nbformat": 4,
 "nbformat_minor": 2
}
