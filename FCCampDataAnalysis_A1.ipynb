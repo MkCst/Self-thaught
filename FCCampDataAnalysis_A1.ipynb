{
 "cells": [
  {
   "cell_type": "markdown",
   "metadata": {},
   "source": [
    "# Calculador de media varianza y desviacion estandar\n",
    "\n",
    "**Asignación**\n",
    "Crea una función llamada calculate() en mean_var_std.py que utilice Numpy para obtener la media, la varianza, la desviación estándar, el máximo, el mínimo y la suma de las filas, las columnas y los elementos de una matriz de 3 x 3.\n",
    "\n",
    "La entrada de la función debe ser una lista que contenga 9 dígitos. La función debe convertir la lista en una matriz Numpy de 3 x 3, y luego devolver un diccionario que contenga la media, la varianza, la desviación estándar, el máximo, el mínimo y la suma en ambos ejes y para la matriz aplanada.\n",
    "\n",
    "El diccionario devuelto debe seguir este formato:\n",
    "\n",
    "```python\n",
    "\n",
    "{\n",
    "  'mean': [axis1, axis2, flattened],\n",
    "  'variance': [axis1, axis2, flattened],\n",
    "  'standard deviation': [axis1, axis2, flattened],\n",
    "  'max': [axis1, axis2, flattened],\n",
    "  'min': [axis1, axis2, flattened],\n",
    "  'sum': [axis1, axis2, flattened]\n",
    "}\n",
    "\n",
    "```\n",
    "\n",
    "Si se pasa a la función una lista que contenga menos de 9 elementos, debería lanzar una excepción ValueError con el mensaje \"List must contain nine numbers.\" Los valores del diccionario devuelto deben ser listas y no matrices Numpy.\n",
    "\n",
    "Por ejemplo: `calculate([0,1,2,3,4,5,6,7,8])` debe devolver:\n",
    "\n",
    "```python\n",
    "{\n",
    "  'mean': [[3.0, 4.0, 5.0], [1.0, 4.0, 7.0], 4.0], \n",
    "  'variance': [[6.0, 6.0, 6.0], [0.6666666666666666, 0.6666666666666666, 0.6666666666666666], 6.666666666666667], \n",
    "  'standard deviation': [[2.449489742783178, 2.449489742783178, 2.449489742783178], [0.816496580927726, 0.816496580927726, 0.816496580927726], 2.581988897471611],\n",
    "  'max': [[6, 7, 8], [2, 5, 8], 8],\n",
    "  'min': [[0, 1, 2], [0, 3, 6], 0],\n",
    "  'sum': [[9, 12, 15], [3, 12, 21], 36]\n",
    "}\n",
    "\n",
    "```\n"
   ]
  },
  {
   "cell_type": "code",
   "execution_count": 23,
   "metadata": {},
   "outputs": [
    {
     "name": "stdout",
     "output_type": "stream",
     "text": [
      "[[0, 1, 2], [3, 4, 5], [6, 7, 8]]\n",
      "\n",
      "[[0, 3, 6], [1, 4, 7], [2, 5, 8]]\n"
     ]
    }
   ],
   "source": [
    "## Esto genera el una lista de listas segun el formato\n",
    "lista = [_ for _ in range(0,9)]\n",
    "\n",
    "def frm_list(lista, side):\n",
    "    \"\"\"Forma conjuntos de tamaño 'side' con los elementos de la lista, \n",
    "        deja fuera elementos restantes\"\"\"\n",
    "    inicio=0\n",
    "    listaFormat = []\n",
    "    for i in range (len(lista)+1):\n",
    "        if i%side==0 and i>0:\n",
    "            listaFormat.append(lista[inicio:i])\n",
    "            inicio = i\n",
    "    return listaFormat\n",
    "\n",
    "def matriz_numeros(lista, size):\n",
    "    rows = frm_list(lista, size)\n",
    "    columns = []\n",
    "    for i in range(size):\n",
    "        for j in rows:\n",
    "            columns.append(j[i])\n",
    "    # Se agrupa segun tamaño requerido\n",
    "    columns = frm_list(columns,size)\n",
    "    return (rows,columns)\n",
    "\n",
    "filas, columnas = matriz_numeros(lista,3) \n",
    "print(filas)\n",
    "print()\n",
    "print(columnas)\n"
   ]
  },
  {
   "cell_type": "code",
   "execution_count": null,
   "metadata": {},
   "outputs": [],
   "source": []
  },
  {
   "cell_type": "code",
   "execution_count": 4,
   "metadata": {},
   "outputs": [
    {
     "name": "stdout",
     "output_type": "stream",
     "text": [
      "[0, 1, 2, 3, 4, 5, 6, 7, 8]\n",
      "{'mean': [[3.0, 4.0, 5.0], [1.0, 4.0, 7.0], 4.0], 'variance': [[6.0, 6.0, 6.0], [0.6666666666666666, 0.6666666666666666, 0.6666666666666666], 6.666666666666667], 'standar desviaton': [[2.449489742783178, 2.449489742783178, 2.449489742783178], [0.816496580927726, 0.816496580927726, 0.816496580927726], 2.581988897471611], 'max': [[6, 7, 8], [2, 5, 8], 8], 'min': [[0, 1, 2], [0, 3, 6], 0], 'sum': [[9, 12, 15], [3, 12, 21], 36]}\n"
     ]
    }
   ],
   "source": [
    "import numpy as np\n",
    "\n",
    "def frm_list(lista, side):\n",
    "    \"\"\"Forma conjuntos de tamaño 'side' con los elementos de la lista, \n",
    "        deja fuera elementos restantes\"\"\"\n",
    "    inicio=0\n",
    "    listaFormat = []\n",
    "    for i in range (len(lista)+1):\n",
    "        if i%side==0 and i>0:\n",
    "            listaFormat.append(lista[inicio:i])\n",
    "            inicio = i\n",
    "    return listaFormat\n",
    "\n",
    "def matriz_numeros(lista, size):\n",
    "    rows = frm_list(lista, size)\n",
    "    columns = []\n",
    "    for i in range(size):\n",
    "        for j in rows:\n",
    "            columns.append(j[i])\n",
    "    # Se agrupa segun tamaño requerido\n",
    "    columns = frm_list(columns,size)\n",
    "    return (rows,columns)\n",
    "\n",
    "\n",
    "def calculate(lista):\n",
    "    if (len(lista)!=9):\n",
    "        raise ValueError(\"List must contain nine numbers.\")\n",
    "    \n",
    "    rows, columns= matriz_numeros(lista, 3)\n",
    "    # creando arreglos numpy para usar sus metodos\n",
    "    rows = np.array(rows)\n",
    "    columns = np.array(columns)\n",
    "    #print(rows)\n",
    "    #print(columns)\n",
    "    \n",
    "    # Creando listas segun lo que se necesite calcular\n",
    "    mean_rows = ([x.mean() for x in rows]) #media\n",
    "    mean_columns = ([x.mean() for x in columns])\n",
    "    \n",
    "    var_rows = ([x.var() for x in rows]) #varianza\n",
    "    var_columns = ([x.var() for x in columns])\n",
    "    \n",
    "    std_rows = ([x.std() for x in rows]) #desviacion estandar\n",
    "    std_columns = ([x.std() for x in columns])\n",
    "    \n",
    "    max_rows = ([x.max() for x in rows])\n",
    "    max_columns = ([x.max() for x in columns])\n",
    "    \n",
    "    min_rows = ([x.min() for x in rows])\n",
    "    min_columns = ([x.min() for x in columns])\n",
    "    \n",
    "    sum_rows = ([x.sum() for x in rows])\n",
    "    sum_columns = ([x.sum() for x in columns])\n",
    "    \n",
    "    \n",
    "    return{\n",
    "        \"mean\": [ mean_columns, mean_rows, rows.mean()],\n",
    "        \"variance\": [var_columns, var_rows, rows.var()],\n",
    "        \"standar desviaton\": [std_columns, std_rows, rows.std()],\n",
    "        \"max\": [max_columns, max_rows, rows.max()],\n",
    "        \"min\": [min_columns, min_rows, rows.min()],\n",
    "        \"sum\": [sum_columns, sum_rows, rows.sum()],\n",
    "    }\n",
    "\n",
    "lista = [_ for _ in range(0,9)]\n",
    "print(lista)\n",
    "print(calculate(lista))"
   ]
  },
  {
   "cell_type": "code",
   "execution_count": null,
   "metadata": {},
   "outputs": [],
   "source": []
  }
 ],
 "metadata": {
  "interpreter": {
   "hash": "c469c999aae2bf6d578d6881606ced546d1546d312a4811937df5b24665ee8bc"
  },
  "kernelspec": {
   "display_name": "Python 3.8.8 64-bit ('base': conda)",
   "name": "python3"
  },
  "language_info": {
   "codemirror_mode": {
    "name": "ipython",
    "version": 3
   },
   "file_extension": ".py",
   "mimetype": "text/x-python",
   "name": "python",
   "nbconvert_exporter": "python",
   "pygments_lexer": "ipython3",
   "version": "3.8.8"
  },
  "orig_nbformat": 4
 },
 "nbformat": 4,
 "nbformat_minor": 2
}
