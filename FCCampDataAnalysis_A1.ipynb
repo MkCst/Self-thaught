{
 "cells": [
  {
   "cell_type": "markdown",
   "source": [
    "# Calculador de media varianza y desviacion estandar\r\n",
    "\r\n",
    "**Asignación**\r\n",
    "Crea una función llamada calculate() en mean_var_std.py que utilice Numpy para obtener la media, la varianza, la desviación estándar, el máximo, el mínimo y la suma de las filas, las columnas y los elementos de una matriz de 3 x 3.\r\n",
    "\r\n",
    "La entrada de la función debe ser una lista que contenga 9 dígitos. La función debe convertir la lista en una matriz Numpy de 3 x 3, y luego devolver un diccionario que contenga la media, la varianza, la desviación estándar, el máximo, el mínimo y la suma en ambos ejes y para la matriz aplanada.\r\n",
    "\r\n",
    "El diccionario devuelto debe seguir este formato:\r\n",
    "\r\n",
    "```python\r\n",
    "\r\n",
    "{\r\n",
    "  'mean': [axis1, axis2, flattened],\r\n",
    "  'variance': [axis1, axis2, flattened],\r\n",
    "  'standard deviation': [axis1, axis2, flattened],\r\n",
    "  'max': [axis1, axis2, flattened],\r\n",
    "  'min': [axis1, axis2, flattened],\r\n",
    "  'sum': [axis1, axis2, flattened]\r\n",
    "}\r\n",
    "\r\n",
    "```\r\n",
    "\r\n",
    "Si se pasa a la función una lista que contenga menos de 9 elementos, debería lanzar una excepción ValueError con el mensaje \"List must contain nine numbers.\" Los valores del diccionario devuelto deben ser listas y no matrices Numpy.\r\n",
    "\r\n",
    "Por ejemplo: `calculate([0,1,2,3,4,5,6,7,8])` debe devolver:\r\n",
    "\r\n",
    "```python\r\n",
    "{\r\n",
    "  'mean': [[3.0, 4.0, 5.0], [1.0, 4.0, 7.0], 4.0], \r\n",
    "  'variance': [[6.0, 6.0, 6.0], [0.6666666666666666, 0.6666666666666666, 0.6666666666666666], 6.666666666666667], \r\n",
    "  'standard deviation': [[2.449489742783178, 2.449489742783178, 2.449489742783178], [0.816496580927726, 0.816496580927726, 0.816496580927726], 2.581988897471611],\r\n",
    "  'max': [[6, 7, 8], [2, 5, 8], 8],\r\n",
    "  'min': [[0, 1, 2], [0, 3, 6], 0],\r\n",
    "  'sum': [[9, 12, 15], [3, 12, 21], 36]\r\n",
    "}\r\n",
    "\r\n",
    "```\r\n"
   ],
   "metadata": {}
  },
  {
   "cell_type": "code",
   "execution_count": null,
   "source": [],
   "outputs": [],
   "metadata": {}
  }
 ],
 "metadata": {
  "orig_nbformat": 4,
  "language_info": {
   "name": "python"
  }
 },
 "nbformat": 4,
 "nbformat_minor": 2
}