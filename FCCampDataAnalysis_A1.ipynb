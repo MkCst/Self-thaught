{
 "cells": [
  {
   "cell_type": "markdown",
   "metadata": {},
   "source": [
    "# Calculador de media varianza y desviacion estandar\n",
    "\n",
    "**Asignación**\n",
    "Crea una función llamada calculate() en mean_var_std.py que utilice Numpy para obtener la media, la varianza, la desviación estándar, el máximo, el mínimo y la suma de las filas, las columnas y los elementos de una matriz de 3 x 3.\n",
    "\n",
    "La entrada de la función debe ser una lista que contenga 9 dígitos. La función debe convertir la lista en una matriz Numpy de 3 x 3, y luego devolver un diccionario que contenga la media, la varianza, la desviación estándar, el máximo, el mínimo y la suma en ambos ejes y para la matriz aplanada.\n",
    "\n",
    "El diccionario devuelto debe seguir este formato:\n",
    "\n",
    "```python\n",
    "\n",
    "{\n",
    "  'mean': [axis1, axis2, flattened],\n",
    "  'variance': [axis1, axis2, flattened],\n",
    "  'standard deviation': [axis1, axis2, flattened],\n",
    "  'max': [axis1, axis2, flattened],\n",
    "  'min': [axis1, axis2, flattened],\n",
    "  'sum': [axis1, axis2, flattened]\n",
    "}\n",
    "\n",
    "```\n",
    "\n",
    "Si se pasa a la función una lista que contenga menos de 9 elementos, debería lanzar una excepción ValueError con el mensaje \"List must contain nine numbers.\" Los valores del diccionario devuelto deben ser listas y no matrices Numpy.\n",
    "\n",
    "Por ejemplo: `calculate([0,1,2,3,4,5,6,7,8])` debe devolver:\n",
    "\n",
    "```python\n",
    "{\n",
    "  'mean': [[3.0, 4.0, 5.0], [1.0, 4.0, 7.0], 4.0], \n",
    "  'variance': [[6.0, 6.0, 6.0], [0.6666666666666666, 0.6666666666666666, 0.6666666666666666], 6.666666666666667], \n",
    "  'standard deviation': [[2.449489742783178, 2.449489742783178, 2.449489742783178], [0.816496580927726, 0.816496580927726, 0.816496580927726], 2.581988897471611],\n",
    "  'max': [[6, 7, 8], [2, 5, 8], 8],\n",
    "  'min': [[0, 1, 2], [0, 3, 6], 0],\n",
    "  'sum': [[9, 12, 15], [3, 12, 21], 36]\n",
    "}\n",
    "\n",
    "```\n"
   ]
  },
  {
   "cell_type": "code",
   "execution_count": 1,
   "metadata": {},
   "outputs": [],
   "source": [
    "import numpy as np\n",
    "\n",
    "def calculate(list):\n",
    "    if (len(list)!=9):\n",
    "        raise ValueError(\"List must contain \")\n",
    "\n"
   ]
  },
  {
   "cell_type": "code",
   "execution_count": 19,
   "metadata": {},
   "outputs": [
    {
     "name": "stdout",
     "output_type": "stream",
     "text": [
      "[[0, 1, 2, 3, 4, 5, 6, 7, 8, 9], [10, 11, 12, 13, 14, 15, 16, 17, 18, 19], [20, 21, 22, 23, 24, 25, 26, 27, 28, 29], [30, 31, 32, 33, 34, 35, 36, 37, 38, 39], [40, 41, 42, 43, 44, 45, 46, 47, 48, 49], [50, 51, 52, 53, 54, 55, 56, 57, 58, 59], [60, 61, 62, 63, 64, 65, 66, 67, 68, 69], [70, 71, 72, 73, 74, 75, 76, 77, 78, 79], [80, 81, 82, 83, 84, 85, 86, 87, 88, 89], [90, 91, 92, 93, 94, 95, 96, 97, 98, 99]]\n",
      "\n",
      "[[0, 10, 20, 30, 40, 50, 60, 70, 80, 90], [1, 11, 21, 31, 41, 51, 61, 71, 81, 91], [2, 12, 22, 32, 42, 52, 62, 72, 82, 92], [3, 13, 23, 33, 43, 53, 63, 73, 83, 93], [4, 14, 24, 34, 44, 54, 64, 74, 84, 94], [5, 15, 25, 35, 45, 55, 65, 75, 85, 95], [6, 16, 26, 36, 46, 56, 66, 76, 86, 96], [7, 17, 27, 37, 47, 57, 67, 77, 87, 97], [8, 18, 28, 38, 48, 58, 68, 78, 88, 98], [9, 19, 29, 39, 49, 59, 69, 79, 89, 99]]\n"
     ]
    }
   ],
   "source": [
    "## Esto genera el una lista de listas segun el formato\n",
    "lista = [_ for _ in range(0,100)]\n",
    "\n",
    "def frm_list(lista, side):\n",
    "    \"\"\"Forma conjuntos de tamaño 'side' con los elementos de la lista, \n",
    "        deja fuera elementos restantes\"\"\"\n",
    "    inicio=0\n",
    "    listaFormat = []\n",
    "    for i in range (len(lista)+1):\n",
    "        if i%side==0 and i>0:\n",
    "            listaFormat.append(lista[inicio:i])\n",
    "            inicio = i\n",
    "    return listaFormat\n",
    "\n",
    "def matriz_numeros(lista, size):\n",
    "    rows = frm_list(lista, size)\n",
    "    columns = []\n",
    "    for i in range(size):\n",
    "        for j in rows:\n",
    "            columns.append(j[i])\n",
    "    # Se agrupa segun tamaño requerido\n",
    "    columns = frm_list(columns,size)\n",
    "    return (rows,columns)\n",
    "\n",
    "filas, columnas = matriz_numeros(lista, 10) \n",
    "print(filas)\n",
    "print()\n",
    "print(columnas)\n"
   ]
  },
  {
   "cell_type": "code",
   "execution_count": null,
   "metadata": {},
   "outputs": [],
   "source": []
  }
 ],
 "metadata": {
  "interpreter": {
   "hash": "c469c999aae2bf6d578d6881606ced546d1546d312a4811937df5b24665ee8bc"
  },
  "kernelspec": {
   "display_name": "Python 3.8.8 64-bit ('base': conda)",
   "name": "python3"
  },
  "language_info": {
   "codemirror_mode": {
    "name": "ipython",
    "version": 3
   },
   "file_extension": ".py",
   "mimetype": "text/x-python",
   "name": "python",
   "nbconvert_exporter": "python",
   "pygments_lexer": "ipython3",
   "version": "3.8.8"
  },
  "orig_nbformat": 4
 },
 "nbformat": 4,
 "nbformat_minor": 2
}
