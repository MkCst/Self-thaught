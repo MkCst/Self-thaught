{
 "cells": [
  {
   "cell_type": "markdown",
   "metadata": {},
   "source": [
    "# Calculador de media varianza y desviacion estandar\n",
    "\n",
    "**Asignación**\n",
    "Crea una función llamada calculate() en mean_var_std.py que utilice Numpy para obtener la media, la varianza, la desviación estándar, el máximo, el mínimo y la suma de las filas, las columnas y los elementos de una matriz de 3 x 3.\n",
    "\n",
    "La entrada de la función debe ser una lista que contenga 9 dígitos. La función debe convertir la lista en una matriz Numpy de 3 x 3, y luego devolver un diccionario que contenga la media, la varianza, la desviación estándar, el máximo, el mínimo y la suma en ambos ejes y para la matriz aplanada.\n",
    "\n",
    "El diccionario devuelto debe seguir este formato:\n",
    "\n",
    "```python\n",
    "\n",
    "{\n",
    "  'mean': [axis1, axis2, flattened],\n",
    "  'variance': [axis1, axis2, flattened],\n",
    "  'standard deviation': [axis1, axis2, flattened],\n",
    "  'max': [axis1, axis2, flattened],\n",
    "  'min': [axis1, axis2, flattened],\n",
    "  'sum': [axis1, axis2, flattened]\n",
    "}\n",
    "\n",
    "```\n",
    "\n",
    "Si se pasa a la función una lista que contenga menos de 9 elementos, debería lanzar una excepción ValueError con el mensaje \"List must contain nine numbers.\" Los valores del diccionario devuelto deben ser listas y no matrices Numpy.\n",
    "\n",
    "Por ejemplo: `calculate([0,1,2,3,4,5,6,7,8])` debe devolver:\n",
    "\n",
    "```python\n",
    "{\n",
    "  'mean': [[3.0, 4.0, 5.0], [1.0, 4.0, 7.0], 4.0], \n",
    "  'variance': [[6.0, 6.0, 6.0], [0.6666666666666666, 0.6666666666666666, 0.6666666666666666], 6.666666666666667], \n",
    "  'standard deviation': [[2.449489742783178, 2.449489742783178, 2.449489742783178], [0.816496580927726, 0.816496580927726, 0.816496580927726], 2.581988897471611],\n",
    "  'max': [[6, 7, 8], [2, 5, 8], 8],\n",
    "  'min': [[0, 1, 2], [0, 3, 6], 0],\n",
    "  'sum': [[9, 12, 15], [3, 12, 21], 36]\n",
    "}\n",
    "\n",
    "```\n"
   ]
  },
  {
   "cell_type": "code",
   "execution_count": 23,
   "metadata": {},
   "outputs": [
    {
     "name": "stdout",
     "output_type": "stream",
     "text": [
      "[[0, 1, 2], [3, 4, 5], [6, 7, 8]]\n",
      "\n",
      "[[0, 3, 6], [1, 4, 7], [2, 5, 8]]\n"
     ]
    }
   ],
   "source": [
    "## Esto genera el una lista de listas segun el formato\n",
    "lista = [_ for _ in range(0,9)]\n",
    "\n",
    "def frm_list(lista, side):\n",
    "    \"\"\"Forma conjuntos de tamaño 'side' con los elementos de la lista, \n",
    "        deja fuera elementos restantes\"\"\"\n",
    "    inicio=0\n",
    "    listaFormat = []\n",
    "    for i in range (len(lista)+1):\n",
    "        if i%side==0 and i>0:\n",
    "            listaFormat.append(lista[inicio:i])\n",
    "            inicio = i\n",
    "    return listaFormat\n",
    "\n",
    "def matriz_numeros(lista, size):\n",
    "    rows = frm_list(lista, size)\n",
    "    columns = []\n",
    "    for i in range(size):\n",
    "        for j in rows:\n",
    "            columns.append(j[i])\n",
    "    # Se agrupa segun tamaño requerido\n",
    "    columns = frm_list(columns,size)\n",
    "    return (rows,columns)\n",
    "\n",
    "filas, columnas = matriz_numeros(lista,3) \n",
    "print(filas)\n",
    "print()\n",
    "print(columnas)\n"
   ]
  },
  {
   "cell_type": "code",
   "execution_count": null,
   "metadata": {},
   "outputs": [],
   "source": []
  },
  {
   "cell_type": "code",
   "execution_count": 5,
   "metadata": {},
   "outputs": [
    {
     "name": "stdout",
     "output_type": "stream",
     "text": [
      "[2, 6, 2, 8, 4, 0, 1, 5, 7]\n",
      "{'mean': [[3.6666666666666665, 5.0, 3.0], [3.3333333333333335, 4.0, 4.333333333333333], 3.888888888888889], 'variance': [[9.555555555555557, 0.6666666666666666, 8.666666666666666], [3.555555555555556, 10.666666666666666, 6.222222222222221], 6.987654320987654], 'standar desviaton': [[3.091206165165235, 0.816496580927726, 2.943920288775949], [1.8856180831641267, 3.265986323710904, 2.494438257849294], 2.6434171674156266], 'max': [[8, 6, 7], [6, 8, 7], 8], 'min': [[1, 4, 0], [2, 0, 1], 0], 'sum': [[11, 15, 9], [10, 12, 13], 35]}\n"
     ]
    }
   ],
   "source": [
    "import numpy as np\n",
    "\n",
    "def frm_list(lista, side):\n",
    "    \"\"\"Forma conjuntos de tamaño 'side' con los elementos de la lista, \n",
    "        deja fuera elementos restantes\"\"\"\n",
    "    inicio=0\n",
    "    listaFormat = []\n",
    "    for i in range (len(lista)+1):\n",
    "        if i%side==0 and i>0:\n",
    "            listaFormat.append(lista[inicio:i])\n",
    "            inicio = i\n",
    "    return listaFormat\n",
    "\n",
    "def matriz_numeros(lista, size):\n",
    "    rows = frm_list(lista, size)\n",
    "    columns = []\n",
    "    for i in range(size):\n",
    "        for j in rows:\n",
    "            columns.append(j[i])\n",
    "    # Se agrupa segun tamaño requerido\n",
    "    columns = frm_list(columns,size)\n",
    "    return (rows,columns)\n",
    "\n",
    "\n",
    "def calculate(lista):\n",
    "    if (len(lista)!=9):\n",
    "        raise ValueError(\"List must contain nine numbers.\")\n",
    "    \n",
    "    rows, columns= matriz_numeros(lista, 3)\n",
    "    # creando arreglos numpy para usar sus metodos\n",
    "    rows = np.array(rows)\n",
    "    columns = np.array(columns)\n",
    "    #print(rows)\n",
    "    #print(columns)\n",
    "    \n",
    "    # Creando listas segun lo que se necesite calcular\n",
    "    mean_rows = ([x.mean() for x in rows]) #media\n",
    "    mean_columns = ([x.mean() for x in columns])\n",
    "    \n",
    "    var_rows = ([x.var() for x in rows]) #varianza\n",
    "    var_columns = ([x.var() for x in columns])\n",
    "    \n",
    "    std_rows = ([x.std() for x in rows]) #desviacion estandar\n",
    "    std_columns = ([x.std() for x in columns])\n",
    "    \n",
    "    max_rows = ([x.max() for x in rows])\n",
    "    max_columns = ([x.max() for x in columns])\n",
    "    \n",
    "    min_rows = ([x.min() for x in rows])\n",
    "    min_columns = ([x.min() for x in columns])\n",
    "    \n",
    "    sum_rows = ([x.sum() for x in rows])\n",
    "    sum_columns = ([x.sum() for x in columns])\n",
    "    \n",
    "    \n",
    "    return{\n",
    "        \"mean\": [ mean_columns, mean_rows, rows.mean()],\n",
    "        \"variance\": [var_columns, var_rows, rows.var()],\n",
    "        \"standard desviaton\": [std_columns, std_rows, rows.std()],\n",
    "        \"max\": [max_columns, max_rows, rows.max()],\n",
    "        \"min\": [min_columns, min_rows, rows.min()],\n",
    "        \"sum\": [sum_columns, sum_rows, rows.sum()],\n",
    "    }\n",
    "\n",
    "lista = [2,6,2,8,4,0,1,5,7]\n",
    "print(lista)\n",
    "print(calculate(lista))"
   ]
  },
  {
   "cell_type": "markdown",
   "metadata": {},
   "source": [
    "# Demographic Data Analyzer\n",
    "En este reto debes analizar datos demográficos utilizando Pandas. Se te da un conjunto de datos demográficos extraídos de la base de datos del Censo de 1994. Esta es una muestra del aspecto de los datos:\n",
    "\n",
    "```\n",
    "\tage\tworkclass\tfnlwgt\teducation\teducation-num\tmarital-status\toccupation\trelationship\trace\tsex\tcapital-gain\tcapital-loss\thours-per-week\tnative-country\tsalary\n",
    "0\t39\tState-gov\t77516\tBachelors\t13\tNever-married\tAdm-clerical\tNot-in-family\tWhite\tMale\t2174\t0\t40\tUnited-States\t<=50K\n",
    "1\t50\tSelf-emp-not-inc\t83311\tBachelors\t13\tMarried-civ-spouse\tExec-managerial\tHusband\tWhite\tMale\t0\t0\t13\tUnited-States\t<=50K\n",
    "2\t38\tPrivate\t215646\tHS-grad\t9\tDivorced\tHandlers-cleaners\tNot-in-family\tWhite\tMale\t0\t0\t40\tUnited-States\t<=50K\n",
    "3\t53\tPrivate\t234721\t11th\t7\tMarried-civ-spouse\tHandlers-cleaners\tHusband\tBlack\tMale\t0\t0\t40\tUnited-States\t<=50K\n",
    "\n",
    "```\n",
    "\n",
    "Debes utilizar Pandas para responder a las siguientes preguntas:\n",
    "\n",
    "* ¿Cuántas personas de cada raza están representadas en este conjunto de datos? Esto debe ser una serie de Pandas con los nombres de las razas como etiquetas de índice. (columna \"race\")\n",
    "* ¿Cuál es la edad media de los hombres?\n",
    "* ¿Cuál es el porcentaje de personas que tienen una licenciatura?\n",
    "* ¿Qué porcentaje de personas con estudios superiores (licenciatura, máster o doctorado) ganan más de 50.000 dólares?\n",
    "* ¿Qué porcentaje de personas sin estudios superiores ganan más de 50.000?\n",
    "* ¿Cuál es el número mínimo de horas que una persona trabaja a la semana?\n",
    "* ¿Qué porcentaje de las personas que trabajan el número mínimo de horas a la semana tienen un salario superior a 50K?\n",
    "* ¿Qué país tiene el mayor porcentaje de personas que ganan >50K y cuál es ese porcentaje?\n",
    "* Identifica la ocupación más popular para quienes ganan >50K en la India.\n",
    "\n",
    "Utilice el código de inicio en el archivo `demographic_data_analyzer`. Actualice el código para que todas las variables establecidas en \"Ninguno\" se establezcan en el cálculo o código apropiado. Redondee todos los decimales a la décima más cercana.\n",
    "\n",
    "Las pruebas unitarias se escriben para usted en `test_module.py`."
   ]
  },
  {
   "cell_type": "code",
   "execution_count": 20,
   "metadata": {},
   "outputs": [
    {
     "name": "stdout",
     "output_type": "stream",
     "text": [
      "   age         workclass  fnlwgt  education  education-num  \\\n",
      "0   39         State-gov   77516  Bachelors             13   \n",
      "1   50  Self-emp-not-inc   83311  Bachelors             13   \n",
      "2   38           Private  215646    HS-grad              9   \n",
      "\n",
      "       marital-status         occupation   relationship   race   sex  \\\n",
      "0       Never-married       Adm-clerical  Not-in-family  White  Male   \n",
      "1  Married-civ-spouse    Exec-managerial        Husband  White  Male   \n",
      "2            Divorced  Handlers-cleaners  Not-in-family  White  Male   \n",
      "\n",
      "   capital-gain  capital-loss  hours-per-week native-country salary  \n",
      "0          2174             0              40  United-States  <=50K  \n",
      "1             0             0              13  United-States  <=50K  \n",
      "2             0             0              40  United-States  <=50K  \n",
      "       age     workclass  fnlwgt education  education-num      marital-status  \\\n",
      "32558   58       Private  151910   HS-grad              9             Widowed   \n",
      "32559   22       Private  201490   HS-grad              9       Never-married   \n",
      "32560   52  Self-emp-inc  287927   HS-grad              9  Married-civ-spouse   \n",
      "\n",
      "            occupation relationship   race     sex  capital-gain  \\\n",
      "32558     Adm-clerical    Unmarried  White  Female             0   \n",
      "32559     Adm-clerical    Own-child  White    Male             0   \n",
      "32560  Exec-managerial         Wife  White  Female         15024   \n",
      "\n",
      "       capital-loss  hours-per-week native-country salary  \n",
      "32558             0              40  United-States  <=50K  \n",
      "32559             0              20  United-States  <=50K  \n",
      "32560             0              40  United-States   >50K  \n",
      "Info filas, columnas:\t (32561, 15)\n"
     ]
    }
   ],
   "source": [
    "# Demographic data\n",
    "import pandas as pd\n",
    "\n",
    "df = pd.read_csv(\"adult.data.csv\")\n",
    "\n",
    "# Primeros y ultimos registros del archivo\n",
    "print(df.head(3))\n",
    "print(df.tail(3))\n",
    "print(\"Info filas, columnas:\\t\",df.shape)\n"
   ]
  },
  {
   "cell_type": "code",
   "execution_count": 15,
   "metadata": {},
   "outputs": [
    {
     "name": "stdout",
     "output_type": "stream",
     "text": [
      "0        White\n",
      "1        White\n",
      "2        White\n",
      "3        Black\n",
      "4        Black\n",
      "         ...  \n",
      "32556    White\n",
      "32557    White\n",
      "32558    White\n",
      "32559    White\n",
      "32560    White\n",
      "Name: race, Length: 32561, dtype: object\n",
      "\n",
      "\n",
      "Cuenta los elementos de cada etiqueta\n",
      " White                 27816\n",
      "Black                  3124\n",
      "Asian-Pac-Islander     1039\n",
      "Amer-Indian-Eskimo      311\n",
      "Other                   271\n",
      "Name: race, dtype: int64\n"
     ]
    }
   ],
   "source": [
    "# ¿Cuántos de cada raza están representados en este conjunto de datos?\n",
    "## las etiquetas de raza deben de ser el indice\n",
    "\n",
    "race = df[\"race\"] #Selecciona solo la columna 'race'\n",
    "race_count = df[\"race\"].value_counts()\n",
    "print(race)\n",
    "print(\"\\n\\nCuenta los elementos de cada etiqueta\\n\",race_count)"
   ]
  },
  {
   "cell_type": "code",
   "execution_count": null,
   "metadata": {},
   "outputs": [],
   "source": []
  },
  {
   "cell_type": "code",
   "execution_count": null,
   "metadata": {},
   "outputs": [],
   "source": []
  },
  {
   "cell_type": "code",
   "execution_count": null,
   "metadata": {},
   "outputs": [],
   "source": []
  },
  {
   "cell_type": "markdown",
   "metadata": {},
   "source": []
  }
 ],
 "metadata": {
  "interpreter": {
   "hash": "c469c999aae2bf6d578d6881606ced546d1546d312a4811937df5b24665ee8bc"
  },
  "kernelspec": {
   "display_name": "Python 3.8.8 64-bit ('base': conda)",
   "name": "python3"
  },
  "language_info": {
   "codemirror_mode": {
    "name": "ipython",
    "version": 3
   },
   "file_extension": ".py",
   "mimetype": "text/x-python",
   "name": "python",
   "nbconvert_exporter": "python",
   "pygments_lexer": "ipython3",
   "version": "3.8.8"
  },
  "orig_nbformat": 4
 },
 "nbformat": 4,
 "nbformat_minor": 2
}
