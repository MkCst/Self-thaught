{
 "cells": [
  {
   "cell_type": "markdown",
   "metadata": {},
   "source": [
    "# Introduccion a los conjuntos\n",
    "Un conjunto es una colección desordenada de elementos sin entradas duplicadas.\n",
    "Cuando se imprime, se itera o se convierte en una secuencia, sus elementos aparecerán en un orden arbitrario.\n",
    "\n",
    "## Obtener la media de las estaturas de n participantes"
   ]
  },
  {
   "cell_type": "code",
   "execution_count": 4,
   "metadata": {},
   "outputs": [
    {
     "name": "stdout",
     "output_type": "stream",
     "text": [
      "[161, 182, 161, 154, 176, 170, 167, 171, 170, 174, 174]\n",
      "169.375\n"
     ]
    }
   ],
   "source": [
    "# Obteniendo la media\n",
    "estaturas = \"161 182 161 154 176 170 167 171 170 174 174\" # predefinidos\n",
    "\n",
    "#estaturas = list(map(int, input().split())) # Si se desea crear la lista\n",
    "\n",
    "l_estaturas = [int(x) for x in estaturas.split(\" \")]\n",
    "print(l_estaturas)\n",
    "print(sum(set(l_estaturas))/len(set(l_estaturas)))"
   ]
  },
  {
   "cell_type": "markdown",
   "metadata": {},
   "source": [
    "# Diferencia simetrica\n",
    "\n",
    "```python\n",
    "Creacion de Sets (conjuntos)\n",
    "miSet = {}\n",
    "mySet = set()\n",
    "mySet = set([\"a\",\"b\"])\n",
    "``` \n",
    "\n",
    "```python\n",
    "print(\"Modificando datos\")\n",
    ">> myset.add('c')\n",
    ">> myset\n",
    "{'a', 'c', 'b'}\n",
    ">> myset.add('a') # As 'a' already exists in the set, nothing happens\n",
    ">> myset.add((5, 4))\n",
    ">> myset\n",
    "{'a', 'c', 'b', (5, 4)}\n",
    "```\n",
    "\n",
    "**Uso de la funcion `update`**\n",
    "```python\n",
    ">> myset.update([1, 2, 3, 4]) # update() only works for iterable objects\n",
    ">> myset\n",
    "{'a', 1, 'c', 'b', 4, 2, (5, 4), 3}\n",
    ">> myset.update({1, 7, 8})\n",
    ">> myset\n",
    "{'a', 1, 'c', 'b', 4, 7, 8, 2, (5, 4), 3}\n",
    ">> myset.update({1, 6}, [5, 13])\n",
    ">> myset\n",
    "{'a', 1, 'c', 'b', 4, 5, 6, 7, 8, 2, (5, 4), 13, 3}\n",
    "```\n",
    "\n",
    "**Removiendo items**\n",
    "Tanto las funciones `discard()` como `remove()` toman un único valor como argumento y eliminan ese valor del conjunto. Si ese valor no está presente, `discard()` no hace nada, pero `remove()` lanzará una excepción KeyError.\n",
    "\n",
    "## Operaciones comunes\n",
    "Uso de las funciones: `union()`, `intersection()` y `difference()`\n",
    "```python\n",
    ">> a = {2, 4, 5, 9}\n",
    ">> b = {2, 4, 11, 12}\n",
    ">> a.union(b) # Values which exist in a or b\n",
    "{2, 4, 5, 9, 11, 12}\n",
    ">> a.intersection(b) # Values which exist in a and b\n",
    "{2, 4}\n",
    ">> a.difference(b) # Values which exist in a but not in b\n",
    "{9, 5}\n",
    "```\n",
    "\n",
    "## Propiedad simetrica de los metodos `union()` e `intersection()`\n",
    "\n",
    "```python\n",
    ">> a.union(b) == b.union(a)\n",
    "True\n",
    ">> a.intersection(b) == b.intersection(a)\n",
    "True\n",
    ">> a.difference(b) == b.difference(a)\n",
    "False\n",
    "```"
   ]
  },
  {
   "cell_type": "code",
   "execution_count": 6,
   "metadata": {},
   "outputs": [
    {
     "name": "stdout",
     "output_type": "stream",
     "text": [
      "Valor de p {'11', '12'}\n",
      "Valor de q {'5', '9'}\n",
      "Union valor r {'5', '11', '12', '9'}\n",
      "Valores ordenados r:\n",
      "5 9 11 12\n"
     ]
    }
   ],
   "source": [
    "# Diferencia simetrica\n",
    "#a,b = (int(input(\"Size\")), input().split())\n",
    "#c,d = (int(input(\"Size\")), input().split())\n",
    "\n",
    "a,b = (4, \"2 4 5 9\")\n",
    "c,d = (4, \"2 4 11 12\")\n",
    "\n",
    "## Formacion de conjuntos x, y\n",
    "x = set(b.split())\n",
    "y = set(d.split())\n",
    "\n",
    "p = y.difference(x)\n",
    "print(\"Valor de p\", p)\n",
    "\n",
    "q = x.difference(y)\n",
    "print(\"Valor de q\", q)\n",
    "\n",
    "r = p.union(q)\n",
    "print(\"Union valor r\", r)\n",
    "print(\"Valores ordenados r:\")\n",
    "print(\" \".join(sorted(r,key=int)))\n",
    "\n"
   ]
  },
  {
   "cell_type": "code",
   "execution_count": 7,
   "metadata": {},
   "outputs": [
    {
     "name": "stdout",
     "output_type": "stream",
     "text": [
      "Impresion de conjuntos\n",
      "{'5', '2', '9', '4'}\n",
      "{'12', '2', '11', '4'}\n",
      "5, 9, 11, 12\n"
     ]
    }
   ],
   "source": [
    "# Programa pythonista\n",
    "## Se selecciona solo los conjuntos\n",
    "## El imput es en este orden {4}{2 4 5 9}{4}{2 4 11 12}\n",
    "a,b = [set(input().split()) for _ in range(4)][1::2] \n",
    "print(\"Impresion de conjuntos\")\n",
    "print(a)\n",
    "print(b)\n",
    "\n",
    "print(\", \".join(sorted(a^b,key=int))) #alternativa a: difference y union\n"
   ]
  },
  {
   "cell_type": "markdown",
   "metadata": {},
   "source": [
    "# Sentimientos \n",
    "Se tienen dos conjuntos A y B, conteniendo cada uno $m$ enteros, te animaran todos los numeros en A y te desanimaran los numero en B. Tu felicidad inicial es 0. Para cada elementos de i en A aumenta tu felicidad, si i pertenece a B tu felicidad disminuye. Tu felicidad no cambia si i no existe en A o B.\n",
    "\n",
    "Mostrar la felicidad final\n"
   ]
  },
  {
   "cell_type": "code",
   "execution_count": 18,
   "metadata": {},
   "outputs": [
    {
     "name": "stdout",
     "output_type": "stream",
     "text": [
      "[1, 1, 1, -1, -1]\n",
      "1\n"
     ]
    }
   ],
   "source": [
    "# Feelings\n",
    "\n",
    "n, m = input(\"Elementos en arreglo, Elementos en conjuntos\").split(\",\")\n",
    "\n",
    "arreglo =input().split() \n",
    "\n",
    "A = set(input().split())\n",
    "B = set(input().split())\n",
    "print([(i in A) - (i in B) for i in arreglo])\n",
    "print(sum([(i in A) - (i in B) for i in arreglo]))"
   ]
  },
  {
   "cell_type": "markdown",
   "metadata": {},
   "source": [
    "# Uso de set.add()\n",
    "Si queremos añadir un solo elemento a un conjunto existente, podemos utilizar la operación .add().\n",
    "Ésta añade el elemento al conjunto y devuelve 'None'.\n"
   ]
  },
  {
   "cell_type": "code",
   "execution_count": 10,
   "metadata": {},
   "outputs": [
    {
     "name": "stdout",
     "output_type": "stream",
     "text": [
      "Conjunto:  {'6', '5', '4', '1', '2', '3'}\n",
      "Tamaño del conjunto:  6\n"
     ]
    }
   ],
   "source": [
    "n = int(input(\"Elementos a añadir: \"))\n",
    "s = set()\n",
    "for i in range(n):\n",
    "    s.add(input(f\"Elemento: {i}: \"))\n",
    "print(\"Conjunto: \", s)\n",
    "print(\"Tamaño del conjunto: \",len(s))"
   ]
  },
  {
   "cell_type": "code",
   "execution_count": 22,
   "metadata": {},
   "outputs": [
    {
     "name": "stdout",
     "output_type": "stream",
     "text": [
      "{'uk', 'new zealand', 'china', 'UK', 'france', 'usa'}\n",
      "6\n"
     ]
    }
   ],
   "source": [
    "number_stamps = int(input())\n",
    "countries = set([input() for _ in range(number_stamps)])\n",
    "print(countries)\n",
    "print(len(countries))"
   ]
  },
  {
   "cell_type": "code",
   "execution_count": 24,
   "metadata": {},
   "outputs": [
    {
     "name": "stdout",
     "output_type": "stream",
     "text": [
      "5\n"
     ]
    }
   ],
   "source": [
    "print(len(set([input() for x in range(int(input()))])))"
   ]
  },
  {
   "cell_type": "markdown",
   "metadata": {},
   "source": [
    "# Set .discard(), .remove() & .pop()\n",
    "\n",
    "**`.remove(x)`**\n",
    "* Esta operación elimina el elemento del conjunto.\n",
    "* Si el elemento no existe, genera un KeyError.\n",
    "* La operación .remove(x) devuelve None.\n",
    "\n",
    "**`.discard(x)`**\n",
    "* Esta operación también elimina el elemento del conjunto.\n",
    "* Si el elemento no existe, no genera un KeyError.\n",
    "* La operación .discard(x) devuelve None.\n",
    "\n",
    "**`.pop()`**\n",
    "* Esta operación elimina y devuelve un elemento arbitrario del conjunto.\n",
    "* Si no hay elementos que eliminar, genera un KeyError."
   ]
  },
  {
   "cell_type": "code",
   "execution_count": 14,
   "metadata": {},
   "outputs": [
    {
     "name": "stdout",
     "output_type": "stream",
     "text": [
      "{1, 2, 3, 4, 5, 6, 7, 8, 9, 10, 11}\n",
      "{2, 3, 4, 5, 6, 7, 8, 9, 10, 11}\n",
      "{3, 4, 5, 6, 7, 8, 9, 10, 11}\n",
      "Elementos conjunto:  {3, 4, 5, 6, 7, 8, 9, 11}\n",
      "53\n"
     ]
    }
   ],
   "source": [
    "# Ejemplo de uso\n",
    "# Forma 1 de resolverlo\n",
    "\n",
    "n = int(input('Elementos: '))\n",
    "s = set(map(int, input().split()))\n",
    "\n",
    "size = int(input('Operaciones totales: ')) # num. operaciones\n",
    "\n",
    "for i in range(size):\n",
    "    print(s)\n",
    "    choice = input().split()\n",
    "    if choice[0] == 'pop':\n",
    "        s.pop()\n",
    "    elif choice[0]=='remove':\n",
    "        s.remove(int(choice[1]))\n",
    "    elif choice[0]=='discard':\n",
    "        s.discard(int(choice[1]))\n",
    "\n",
    "print('Elementos conjunto: ',s)\n",
    "print(sum(s))\n",
    "    "
   ]
  },
  {
   "cell_type": "code",
   "execution_count": null,
   "metadata": {},
   "outputs": [],
   "source": [
    "# Forma 2 de resolverlo\n",
    "n = int(input('Elementos: '))\n",
    "s = set(map(int, input().split()))\n",
    "\n",
    "size = int(input('Operaciones totales: ')) # num. operaciones\n",
    "\n",
    "for i in range(size):\n",
    "    "
   ]
  },
  {
   "cell_type": "code",
   "execution_count": null,
   "metadata": {},
   "outputs": [],
   "source": []
  },
  {
   "cell_type": "code",
   "execution_count": null,
   "metadata": {},
   "outputs": [],
   "source": []
  },
  {
   "cell_type": "code",
   "execution_count": null,
   "metadata": {},
   "outputs": [],
   "source": []
  },
  {
   "cell_type": "code",
   "execution_count": null,
   "metadata": {},
   "outputs": [],
   "source": []
  },
  {
   "cell_type": "code",
   "execution_count": null,
   "metadata": {},
   "outputs": [],
   "source": []
  }
 ],
 "metadata": {
  "interpreter": {
   "hash": "647c91732f687f04ac3fa3d97a8fa8ca0b712424f88378b61dfaa883ec24d4e6"
  },
  "kernelspec": {
   "display_name": "Python 3.9.7 64-bit ('spydr': conda)",
   "name": "python3"
  },
  "language_info": {
   "codemirror_mode": {
    "name": "ipython",
    "version": 3
   },
   "file_extension": ".py",
   "mimetype": "text/x-python",
   "name": "python",
   "nbconvert_exporter": "python",
   "pygments_lexer": "ipython3",
   "version": "3.9.7"
  },
  "orig_nbformat": 4
 },
 "nbformat": 4,
 "nbformat_minor": 2
}
