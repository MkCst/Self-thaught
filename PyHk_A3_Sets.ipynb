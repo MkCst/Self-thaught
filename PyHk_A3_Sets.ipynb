{
 "cells": [
  {
   "cell_type": "markdown",
   "source": [
    "# Introduccion a los conjuntos\r\n",
    "Un conjunto es una colección desordenada de elementos sin entradas duplicadas.\r\n",
    "Cuando se imprime, se itera o se convierte en una secuencia, sus elementos aparecerán en un orden arbitrario.\r\n",
    "\r\n",
    "## Obtener la media de las estaturas de n participantes"
   ],
   "metadata": {}
  },
  {
   "cell_type": "code",
   "execution_count": 4,
   "source": [
    "# Obteniendo la media\r\n",
    "estaturas = \"161 182 161 154 176 170 167 171 170 174 174\" # predefinidos\r\n",
    "\r\n",
    "#estaturas = list(map(int, input().split())) # Si se desea crear la lista\r\n",
    "\r\n",
    "l_estaturas = [int(x) for x in estaturas.split(\" \")]\r\n",
    "print(l_estaturas)\r\n",
    "print(sum(set(l_estaturas))/len(set(l_estaturas)))"
   ],
   "outputs": [
    {
     "output_type": "stream",
     "name": "stdout",
     "text": [
      "[161, 182, 161, 154, 176, 170, 167, 171, 170, 174, 174]\n",
      "169.375\n"
     ]
    }
   ],
   "metadata": {}
  },
  {
   "cell_type": "markdown",
   "source": [
    "# Diferencia simetrica\r\n",
    "\r\n",
    "```python\r\n",
    "Creacion de Sets (conjuntos)\r\n",
    "miSet = {}\r\n",
    "mySet = set()\r\n",
    "mySet = set([\"a\",\"b\"])\r\n",
    "``` \r\n",
    "\r\n",
    "```python\r\n",
    "print(\"Modificando datos\")\r\n",
    ">> myset.add('c')\r\n",
    ">> myset\r\n",
    "{'a', 'c', 'b'}\r\n",
    ">> myset.add('a') # As 'a' already exists in the set, nothing happens\r\n",
    ">> myset.add((5, 4))\r\n",
    ">> myset\r\n",
    "{'a', 'c', 'b', (5, 4)}\r\n",
    "```\r\n",
    "\r\n",
    "**Uso de la funcion `update`**\r\n",
    "```python\r\n",
    ">> myset.update([1, 2, 3, 4]) # update() only works for iterable objects\r\n",
    ">> myset\r\n",
    "{'a', 1, 'c', 'b', 4, 2, (5, 4), 3}\r\n",
    ">> myset.update({1, 7, 8})\r\n",
    ">> myset\r\n",
    "{'a', 1, 'c', 'b', 4, 7, 8, 2, (5, 4), 3}\r\n",
    ">> myset.update({1, 6}, [5, 13])\r\n",
    ">> myset\r\n",
    "{'a', 1, 'c', 'b', 4, 5, 6, 7, 8, 2, (5, 4), 13, 3}\r\n",
    "```\r\n",
    "\r\n",
    "**Removiendo items**\r\n",
    "Tanto las funciones `discard()` como `remove()` toman un único valor como argumento y eliminan ese valor del conjunto. Si ese valor no está presente, `discard()` no hace nada, pero `remove()` lanzará una excepción KeyError.\r\n",
    "\r\n",
    "## Operaciones comunes\r\n",
    "Uso de las funciones: `unio()`, `intersection()` y `difference()`\r\n",
    "```python\r\n",
    ">> a = {2, 4, 5, 9}\r\n",
    ">> b = {2, 4, 11, 12}\r\n",
    ">> a.union(b) # Values which exist in a or b\r\n",
    "{2, 4, 5, 9, 11, 12}\r\n",
    ">> a.intersection(b) # Values which exist in a and b\r\n",
    "{2, 4}\r\n",
    ">> a.difference(b) # Values which exist in a but not in b\r\n",
    "{9, 5}\r\n",
    "```\r\n",
    "\r\n",
    "## Propiedad simetrica de los metodos `union()` e `intersection()`\r\n",
    "\r\n",
    "```python\r\n",
    ">> a.union(b) == b.union(a)\r\n",
    "True\r\n",
    ">> a.intersection(b) == b.intersection(a)\r\n",
    "True\r\n",
    ">> a.difference(b) == b.difference(a)\r\n",
    "False\r\n",
    "```"
   ],
   "metadata": {}
  },
  {
   "cell_type": "code",
   "execution_count": 1,
   "source": [
    "# Diferencia simetrica\r\n",
    "#a,b = (int(input(\"Size\")), input().split())\r\n",
    "#c,d = (int(input(\"Size\")), input().split())\r\n",
    "\r\n",
    "a,b = (4, \"2 4 5 9\")\r\n",
    "c,d = (4, \"2 4 11 12\")\r\n",
    "\r\n",
    "x = set(b.split())\r\n",
    "y = set(d.split())\r\n",
    "\r\n",
    "p = y.difference(x)\r\n",
    "q = x.difference(y)\r\n",
    "r = p.union(q)\r\n",
    "print(\"\\n\".join(sorted(r,key=int)))\r\n",
    "\r\n"
   ],
   "outputs": [
    {
     "output_type": "stream",
     "name": "stdout",
     "text": [
      "5\n",
      "9\n",
      "11\n",
      "12\n"
     ]
    }
   ],
   "metadata": {}
  },
  {
   "cell_type": "code",
   "execution_count": 8,
   "source": [
    "# Programa pythonista\r\n",
    "## Se selecciona solo los conjuntos\r\n",
    "## El imput es en este orden {4}{2 4 5 9}{4}{2 4 11 12}\r\n",
    "a,b = [set(input().split()) for _ in range(4)][1::2] \r\n",
    "print(\"Impresion de conjuntos\")\r\n",
    "print(a)\r\n",
    "print(b)\r\n",
    "\r\n",
    "print(\",\".join(sorted(a^b,key=int))) #alternativa a: difference y union\r\n"
   ],
   "outputs": [
    {
     "output_type": "stream",
     "name": "stdout",
     "text": [
      "Impresion de conjuntos\n",
      "{'9', '4', '2', '5'}\n",
      "{'4', '2', '12', '11'}\n",
      "5,9,11,12\n"
     ]
    }
   ],
   "metadata": {}
  },
  {
   "cell_type": "markdown",
   "source": [
    "# Sentimientos \r\n",
    "Se tienen dos conjuntos A y B, conteniendo cada uno $m$ enteros, te animaran todos los numeros en A y te desanimaran los numero en B. Tu felicidad inicial es 0. Para cada elementos de i en A aumenta tu felicidad, si i pertenece a B tu felicidad disminuye. Tu felicidad no cambia si i no existe en A o B.\r\n",
    "\r\n",
    "Mostrar la felicidad final\r\n"
   ],
   "metadata": {}
  },
  {
   "cell_type": "code",
   "execution_count": 18,
   "source": [
    "# Feelings\r\n",
    "\r\n",
    "n, m = input(\"Elementos en arreglo, Elementos en conjuntos\").split(\",\")\r\n",
    "\r\n",
    "arreglo =input().split() \r\n",
    "\r\n",
    "A = set(input().split())\r\n",
    "B = set(input().split())\r\n",
    "print([(i in A) - (i in B) for i in arreglo])\r\n",
    "print(sum([(i in A) - (i in B) for i in arreglo]))"
   ],
   "outputs": [
    {
     "output_type": "stream",
     "name": "stdout",
     "text": [
      "[1, 1, 1, -1, -1]\n",
      "1\n"
     ]
    }
   ],
   "metadata": {}
  },
  {
   "cell_type": "markdown",
   "source": [
    "# Uso de set.add()\r\n",
    "Si queremos añadir un solo elemento a un conjunto existente, podemos utilizar la operación .add().\r\n",
    "Ésta añade el elemento al conjunto y devuelve 'None'.\r\n"
   ],
   "metadata": {}
  },
  {
   "cell_type": "code",
   "execution_count": 27,
   "source": [
    "n = int(input())\r\n",
    "s = set()\r\n",
    "for i in range(n):\r\n",
    "    s.add(input())\r\n",
    "print(len(s))"
   ],
   "outputs": [
    {
     "output_type": "stream",
     "name": "stdout",
     "text": [
      "5\n"
     ]
    }
   ],
   "metadata": {}
  },
  {
   "cell_type": "code",
   "execution_count": 22,
   "source": [
    "number_stamps = int(input())\r\n",
    "countries = set([input() for _ in range(number_stamps)])\r\n",
    "print(countries)\r\n",
    "print(len(countries))"
   ],
   "outputs": [
    {
     "output_type": "stream",
     "name": "stdout",
     "text": [
      "{'uk', 'new zealand', 'china', 'UK', 'france', 'usa'}\n",
      "6\n"
     ]
    }
   ],
   "metadata": {}
  },
  {
   "cell_type": "code",
   "execution_count": 24,
   "source": [
    "print(len(set([input() for x in range(int(input()))])))"
   ],
   "outputs": [
    {
     "output_type": "stream",
     "name": "stdout",
     "text": [
      "5\n"
     ]
    }
   ],
   "metadata": {}
  }
 ],
 "metadata": {
  "orig_nbformat": 4,
  "language_info": {
   "name": "python",
   "version": "3.8.8",
   "mimetype": "text/x-python",
   "codemirror_mode": {
    "name": "ipython",
    "version": 3
   },
   "pygments_lexer": "ipython3",
   "nbconvert_exporter": "python",
   "file_extension": ".py"
  },
  "kernelspec": {
   "name": "python3",
   "display_name": "Python 3.8.8 64-bit ('base': conda)"
  },
  "interpreter": {
   "hash": "c469c999aae2bf6d578d6881606ced546d1546d312a4811937df5b24665ee8bc"
  }
 },
 "nbformat": 4,
 "nbformat_minor": 2
}