{
 "cells": [
  {
   "cell_type": "markdown",
   "source": [
    "# Introduccion a los conjuntos\r\n",
    "Un conjunto es una colección desordenada de elementos sin entradas duplicadas.\r\n",
    "Cuando se imprime, se itera o se convierte en una secuencia, sus elementos aparecerán en un orden arbitrario.\r\n",
    "\r\n",
    "## Obtener la media de las estaturas de n participantes"
   ],
   "metadata": {}
  },
  {
   "cell_type": "code",
   "execution_count": 4,
   "source": [
    "# Obteniendo la media\r\n",
    "estaturas = \"161 182 161 154 176 170 167 171 170 174 174\" # predefinidos\r\n",
    "\r\n",
    "#estaturas = list(map(int, input().split())) # Si se desea crear la lista\r\n",
    "\r\n",
    "l_estaturas = [int(x) for x in estaturas.split(\" \")]\r\n",
    "print(l_estaturas)\r\n",
    "print(sum(set(l_estaturas))/len(set(l_estaturas)))"
   ],
   "outputs": [
    {
     "output_type": "stream",
     "name": "stdout",
     "text": [
      "[161, 182, 161, 154, 176, 170, 167, 171, 170, 174, 174]\n",
      "169.375\n"
     ]
    }
   ],
   "metadata": {}
  },
  {
   "cell_type": "code",
   "execution_count": null,
   "source": [],
   "outputs": [],
   "metadata": {}
  }
 ],
 "metadata": {
  "orig_nbformat": 4,
  "language_info": {
   "name": "python",
   "version": "3.8.8",
   "mimetype": "text/x-python",
   "codemirror_mode": {
    "name": "ipython",
    "version": 3
   },
   "pygments_lexer": "ipython3",
   "nbconvert_exporter": "python",
   "file_extension": ".py"
  },
  "kernelspec": {
   "name": "python3",
   "display_name": "Python 3.8.8 64-bit ('base': conda)"
  },
  "interpreter": {
   "hash": "c469c999aae2bf6d578d6881606ced546d1546d312a4811937df5b24665ee8bc"
  }
 },
 "nbformat": 4,
 "nbformat_minor": 2
}