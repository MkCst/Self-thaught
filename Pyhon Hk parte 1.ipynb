{
 "cells": [
  {
   "cell_type": "markdown",
   "metadata": {},
   "source": [
    "# Retos basicos python"
   ]
  },
  {
   "cell_type": "code",
   "execution_count": 4,
   "metadata": {},
   "outputs": [
    {
     "name": "stdin",
     "output_type": "stream",
     "text": [
      "Ingrese un elemento:  5\n"
     ]
    },
    {
     "name": "stdout",
     "output_type": "stream",
     "text": [
      "inicial\n",
      "0 1 4 9 16 \n",
      "Avanzado\n",
      "0 1 4 9 16\n"
     ]
    }
   ],
   "source": [
    "# Cia\n",
    "n = int(input(\"Ingrese un elemento: \"))\n",
    "\n",
    "print(\"Avanzado\")\n",
    "print(*[num**2 for num in range(n)], sep=\" \")\n"
   ]
  },
  {
   "cell_type": "code",
   "execution_count": 7,
   "metadata": {},
   "outputs": [
    {
     "name": "stdin",
     "output_type": "stream",
     "text": [
      "Ingrese un año se le dira si es biciesto:  1990\n"
     ]
    },
    {
     "name": "stdout",
     "output_type": "stream",
     "text": [
      "False\n"
     ]
    }
   ],
   "source": [
    "# El año es biciesto?\n",
    "\n",
    "#Buenos plantemientos del problema\n",
    "def is_leap(year):\n",
    "    return year%4==0 and (year%400==0 or year%100!=0)\n",
    "\n",
    "year = int(input(\"Ingrese un año se le dira si es biciesto: \"))\n",
    "print(is_leap(year))"
   ]
  },
  {
   "cell_type": "code",
   "execution_count": 11,
   "metadata": {},
   "outputs": [
    {
     "name": "stdin",
     "output_type": "stream",
     "text": [
      "Numero:  5\n"
     ]
    },
    {
     "name": "stdout",
     "output_type": "stream",
     "text": [
      "12345\n"
     ]
    }
   ],
   "source": [
    "n = int(input(\"Numero: \"))\n",
    "print(*[ _ for _ in range(1,n+1)], sep=\"\")\n"
   ]
  },
  {
   "cell_type": "code",
   "execution_count": 10,
   "metadata": {},
   "outputs": [
    {
     "name": "stdin",
     "output_type": "stream",
     "text": [
      " 5\n"
     ]
    },
    {
     "name": "stdout",
     "output_type": "stream",
     "text": [
      "12345\n"
     ]
    }
   ],
   "source": [
    "#otra solucion sin crear una lista\n",
    "print(*range(1, int(input())+1), sep=\"\")"
   ]
  },
  {
   "cell_type": "code",
   "execution_count": 2,
   "metadata": {},
   "outputs": [
    {
     "name": "stdin",
     "output_type": "stream",
     "text": [
      " 5\n"
     ]
    },
    {
     "name": "stdout",
     "output_type": "stream",
     "text": [
      "Weird\n"
     ]
    }
   ],
   "source": [
    "# Solucion especializada\n",
    "\n",
    "n = int(input().strip())\n",
    "check = {True: \"No Weird\", False:\"Weird\"}\n",
    "\n",
    "print(check[n%2==0 and(n in range(2,6) or n>20)])"
   ]
  },
  {
   "cell_type": "code",
   "execution_count": 4,
   "metadata": {},
   "outputs": [
    {
     "name": "stdin",
     "output_type": "stream",
     "text": [
      "Ingrese numero: 1\n",
      "Ingrese numero: 1\n",
      "Ingrese numero: 1\n",
      "Ingrese numero: 2\n"
     ]
    },
    {
     "name": "stdout",
     "output_type": "stream",
     "text": [
      "[[0, 0, 0], [0, 0, 1], [0, 1, 0], [1, 0, 0], [1, 1, 1]]\n"
     ]
    }
   ],
   "source": [
    "#Compresion de listas\n",
    "\n",
    "x,y,z,n =(int(input(\"Ingrese numero:\")) for _ in range(4))\n",
    "print([[a,b,c] for a in range(x+1) for b in range(y+1) for c in range(z+1) if a+b+c!=n])"
   ]
  },
  {
   "cell_type": "code",
   "execution_count": 12,
   "metadata": {},
   "outputs": [
    {
     "name": "stdout",
     "output_type": "stream",
     "text": [
      "[15, 24, 50, 27, 42, 18, 10, 27, 32, 45]\n",
      "[10, 15, 18, 24, 27, 32, 42, 45, 50]\n",
      "50\n",
      "45\n"
     ]
    }
   ],
   "source": [
    "#Muestra la segunda puntuacion\n",
    "from random import randint\n",
    "\n",
    "puntaje = [randint(1,50) for _ in range(10)]\n",
    "\n",
    "print(puntaje)\n",
    "print(sorted(set(puntaje))) #Lo convierte en una lista\n",
    "print(sorted(set(puntaje))[-1]) #Primer lugar\n",
    "print(sorted(set(puntaje))[-2]) #Segundo lugar\n",
    "\n"
   ]
  },
  {
   "cell_type": "code",
   "execution_count": null,
   "metadata": {},
   "outputs": [],
   "source": [
    "# Muestra la segunda puntuacion\n",
    "\n"
   ]
  }
 ],
 "metadata": {
  "kernelspec": {
   "display_name": "Python 3",
   "language": "python",
   "name": "python3"
  },
  "language_info": {
   "codemirror_mode": {
    "name": "ipython",
    "version": 3
   },
   "file_extension": ".py",
   "mimetype": "text/x-python",
   "name": "python",
   "nbconvert_exporter": "python",
   "pygments_lexer": "ipython3",
   "version": "3.8.3"
  }
 },
 "nbformat": 4,
 "nbformat_minor": 4
}
