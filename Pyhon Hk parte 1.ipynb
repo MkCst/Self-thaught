{
 "cells": [
  {
   "cell_type": "markdown",
   "metadata": {},
   "source": [
    "# Retos basicos python"
   ]
  },
  {
   "cell_type": "code",
   "execution_count": 1,
   "metadata": {},
   "outputs": [
    {
     "name": "stdout",
     "output_type": "stream",
     "text": [
      "Avanzado\n",
      "0 1 4 9 16 25 36 49 64 81\n"
     ]
    }
   ],
   "source": [
    "# Cia\n",
    "n = int(input(\"Ingrese un elemento: \"))\n",
    "\n",
    "print(\"Avanzado\")\n",
    "print(*[num**2 for num in range(n)], sep=\" \")\n"
   ]
  },
  {
   "cell_type": "code",
   "execution_count": 2,
   "metadata": {},
   "outputs": [
    {
     "name": "stdout",
     "output_type": "stream",
     "text": [
      "False\n"
     ]
    }
   ],
   "source": [
    "# El año es biciesto?\n",
    "\n",
    "#Buenos plantemientos del problema\n",
    "def is_leap(year):\n",
    "    return year%4==0 and (year%400==0 or year%100!=0)\n",
    "\n",
    "year = int(input(\"Ingrese un año se le dira si es biciesto: \"))\n",
    "print(is_leap(year))"
   ]
  },
  {
   "cell_type": "code",
   "execution_count": 1,
   "metadata": {},
   "outputs": [
    {
     "name": "stdout",
     "output_type": "stream",
     "text": [
      "Numero: 10\n",
      "1 2 3 4 5 6 7 8 9 10\n"
     ]
    }
   ],
   "source": [
    "n = int(input(\"Numero: \"))\n",
    "print(*[ _ for _ in range(1,n+1)], sep=\" \")\n"
   ]
  },
  {
   "cell_type": "code",
   "execution_count": 2,
   "metadata": {},
   "outputs": [
    {
     "name": "stdout",
     "output_type": "stream",
     "text": [
      "10\n",
      "1 2 3 4 5 6 7 8 9 10\n"
     ]
    }
   ],
   "source": [
    "#otra solucion sin crear una lista\n",
    "print(*range(1, int(input())+1), sep=\" \")"
   ]
  },
  {
   "cell_type": "code",
   "execution_count": 5,
   "metadata": {},
   "outputs": [
    {
     "name": "stdout",
     "output_type": "stream",
     "text": [
      "Weird\n"
     ]
    }
   ],
   "source": [
    "# Solucion especializada\n",
    "\n",
    "n = int(input().strip())\n",
    "check = {True: \"No Weird\", False:\"Weird\"}\n",
    "\n",
    "print(check[n%2==0 and(n in range(2,6) or n>20)])"
   ]
  },
  {
   "cell_type": "code",
   "execution_count": 9,
   "metadata": {},
   "outputs": [
    {
     "name": "stdout",
     "output_type": "stream",
     "text": [
      "[[0, 0, 0], [0, 1, 1], [1, 0, 1], [1, 1, 0], [1, 1, 1]]\n"
     ]
    }
   ],
   "source": [
    "#Compresion de listas\n",
    "\n",
    "x,y,z,n =(int(input(\"Ingrese numero:\")) for _ in range(4))\n",
    "print([[a,b,c] for a in range(x+1) for b in range(y+1) for c in range(z+1) if a+b+c!=n])"
   ]
  },
  {
   "cell_type": "code",
   "execution_count": 7,
   "metadata": {},
   "outputs": [
    {
     "name": "stdout",
     "output_type": "stream",
     "text": [
      "[18, 32, 12, 5, 15, 17, 41, 43, 15, 23]\n",
      "[5, 12, 15, 17, 18, 23, 32, 41, 43]\n",
      "43\n",
      "41\n"
     ]
    }
   ],
   "source": [
    "#Muestra la segunda puntuacion\n",
    "from random import randint\n",
    "\n",
    "puntaje = [randint(1,50) for _ in range(10)]\n",
    "\n",
    "print(puntaje)\n",
    "print(sorted(set(puntaje))) #Lo convierte en una lista\n",
    "print(sorted(set(puntaje))[-1]) #Primer lugar\n",
    "print(sorted(set(puntaje))[-2]) #Segundo lugar\n",
    "\n"
   ]
  },
  {
   "cell_type": "code",
   "execution_count": 8,
   "metadata": {},
   "outputs": [],
   "source": [
    "# Muestra la segunda puntuacion\n",
    "\n"
   ]
  }
 ],
 "metadata": {
  "kernelspec": {
   "display_name": "Python 3",
   "language": "python",
   "name": "python3"
  },
  "language_info": {
   "codemirror_mode": {
    "name": "ipython",
    "version": 3
   },
   "file_extension": ".py",
   "mimetype": "text/x-python",
   "name": "python",
   "nbconvert_exporter": "python",
   "pygments_lexer": "ipython3",
   "version": "3.8.5"
  }
 },
 "nbformat": 4,
 "nbformat_minor": 4
}
