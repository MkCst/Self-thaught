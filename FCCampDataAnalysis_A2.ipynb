{
 "cells": [
  {
   "cell_type": "markdown",
   "metadata": {},
   "source": [
    "# Medical Data Visualizer"
   ]
  },
  {
   "cell_type": "markdown",
   "metadata": {},
   "source": [
    "En este proyecto, visualizarás y harás cálculos a partir de datos de exámenes médicos utilizando matplotlib, seaborn y pandas. Los valores del conjunto de datos se recogieron durante los exámenes médicos.\n",
    "\n",
    "## Descripcion de datos\n",
    "Las filas del conjunto de datos representan a los pacientes y las columnas representan información como las mediciones corporales, los resultados de varios análisis de sangre y las opciones de estilo de vida. Utilizará el conjunto de datos para explorar la relación entre la enfermedad cardíaca, las medidas corporales, los marcadores sanguíneos y las opciones de estilo de vida.\n",
    "\n",
    "Nombre del archivo: `medical_examination.csv` el cual tiene la siguiente estructura\n",
    "\n",
    "| Feature | Variable Type | Variable      | Value Type |\n",
    "|:-------:|:------------:|:-------------:|:----------:|\n",
    "| Age | Objective Feature | age | int (days) |\n",
    "| Height | Objective Feature | height | int (cm) |\n",
    "| Weight | Objective Feature | weight | float (kg) |\n",
    "| Gender | Objective Feature | gender | categorical code |\n",
    "| Systolic blood pressure | Examination Feature | ap_hi | int |\n",
    "| Diastolic blood pressure | Examination Feature | ap_lo | int |\n",
    "| Cholesterol | Examination Feature | cholesterol | 1: normal, 2: above normal, 3: well above normal |\n",
    "| Glucose | Examination Feature | gluc | 1: normal, 2: above normal, 3: well above normal |\n",
    "| Smoking | Subjective Feature | smoke | binary |\n",
    "| Alcohol intake | Subjective Feature | alco | binary |\n",
    "| Physical activity | Subjective Feature | active | binary |\n",
    "| Presence or absence of cardiovascular disease | Target Variable | cardio | binary |\n",
    "\n",
    "\n"
   ]
  },
  {
   "cell_type": "markdown",
   "metadata": {},
   "source": [
    "# Actividades a realizar\n",
    "\n",
    "Cree un gráfico, en el que se muestren los recuentos de resultados buenos y malos para las variables `cholesterol`, `gluc`, `alco`, `active` y `smoke` para pacientes con cardio=1 y cardio=0 en diferentes paneles.\n",
    "\n",
    "Usa los datos para completar las siguientes tareas en `medical_data_visualizer.py`:\n",
    "* Añadir una columna de `overweight` a los datos. Para determinar si una persona tiene sobrepeso, primero calcula su IMC dividiendo su peso en kilogramos por el cuadrado de su altura en metros. Si ese valor es > 25, la persona tiene sobrepeso. Utilice el valor 0 para NO tener sobrepeso y el valor 1 para tenerlo.\n",
    "* Normalice los datos haciendo que 0 sea siempre bueno y 1 siempre malo. Si el valor de `cholesterol` o `gluc` es 1, haga el valor 0. Si el valor es más de 1, haga el valor 1.\n",
    "* Convierta los datos en formato \"long\" y cree un gráfico que muestre los recuentos de valores de las características categóricas utilizando `catplot()` de seaborn. El conjunto de datos debe ser dividido por 'cardio' para que haya un gráfico para cada valor de `cardio`.\n",
    "* Limpie los datos. Filtre los siguientes segmentos de pacientes que representan datos incorrectos:\n",
    "  - la presión diastólica es mayor que la sistólica (Mantenga los datos correctos con `(df['ap_lo'] <= df['ap_hi'])`)\n",
    "  - la altura es inferior al percentil 2,5 (Mantenga los datos correctos con `(df['altura'] >= df['altura'].quantile(0,025))`)\n",
    "  - la altura es superior al percentil 97,5\n",
    "  - el peso es inferior al percentil 2,5\n",
    "  - el peso es superior al percentil 97,5\n",
    "* Crea una matriz de correlaciones utilizando el conjunto de datos. Grafique la matriz de correlación utilizando `heatmap()` de seaborn. Enmascare el triángulo superior. "
   ]
  },
  {
   "cell_type": "code",
   "execution_count": null,
   "metadata": {},
   "outputs": [],
   "source": []
  },
  {
   "cell_type": "code",
   "execution_count": null,
   "metadata": {},
   "outputs": [],
   "source": []
  }
 ],
 "metadata": {
  "language_info": {
   "name": "python"
  },
  "orig_nbformat": 4
 },
 "nbformat": 4,
 "nbformat_minor": 2
}
