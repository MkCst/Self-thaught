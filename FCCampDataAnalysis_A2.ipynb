{
 "cells": [
  {
   "cell_type": "markdown",
   "metadata": {},
   "source": [
    "# Medical Data Visualizer"
   ]
  },
  {
   "cell_type": "markdown",
   "metadata": {},
   "source": [
    "En este proyecto, visualizarás y harás cálculos a partir de datos de exámenes médicos utilizando matplotlib, seaborn y pandas. Los valores del conjunto de datos se recogieron durante los exámenes médicos.\n",
    "\n",
    "## Descripcion de datos\n",
    "Las filas del conjunto de datos representan a los pacientes y las columnas representan información como las mediciones corporales, los resultados de varios análisis de sangre y las opciones de estilo de vida. Utilizará el conjunto de datos para explorar la relación entre la enfermedad cardíaca, las medidas corporales, los marcadores sanguíneos y las opciones de estilo de vida.\n",
    "\n",
    "Nombre del archivo: `medical_examination.csv` el cual tiene la siguiente estructura\n",
    "\n",
    "| Feature | Variable Type | Variable      | Value Type |\n",
    "|:-------:|:------------:|:-------------:|:----------:|\n",
    "| Age | Objective Feature | age | int (days) |\n",
    "| Height | Objective Feature | height | int (cm) |\n",
    "| Weight | Objective Feature | weight | float (kg) |\n",
    "| Gender | Objective Feature | gender | categorical code |\n",
    "| Systolic blood pressure | Examination Feature | ap_hi | int |\n",
    "| Diastolic blood pressure | Examination Feature | ap_lo | int |\n",
    "| Cholesterol | Examination Feature | cholesterol | 1: normal, 2: above normal, 3: well above normal |\n",
    "| Glucose | Examination Feature | gluc | 1: normal, 2: above normal, 3: well above normal |\n",
    "| Smoking | Subjective Feature | smoke | binary |\n",
    "| Alcohol intake | Subjective Feature | alco | binary |\n",
    "| Physical activity | Subjective Feature | active | binary |\n",
    "| Presence or absence of cardiovascular disease | Target Variable | cardio | binary |\n",
    "\n",
    "\n"
   ]
  },
  {
   "cell_type": "markdown",
   "metadata": {},
   "source": [
    "# Actividades a realizar\n",
    "\n",
    "Cree un gráfico, en el que se muestren los recuentos de resultados buenos y malos para las variables `cholesterol`, `gluc`, `alco`, `active` y `smoke` para pacientes con cardio=1 y cardio=0 en diferentes paneles.\n",
    "\n",
    "Usa los datos para completar las siguientes tareas en `medical_data_visualizer.py`:\n",
    "* Añadir una columna de `overweight` a los datos. Para determinar si una persona tiene sobrepeso, primero calcula su IMC dividiendo su peso en kilogramos por el cuadrado de su altura en metros. Si ese valor es > 25, la persona tiene sobrepeso. Utilice el valor 0 para NO tener sobrepeso y el valor 1 para tenerlo.\n",
    "* Normalice los datos haciendo que 0 sea siempre bueno y 1 siempre malo. Si el valor de `cholesterol` o `gluc` es 1, haga el valor 0. Si el valor es más de 1, haga el valor 1.\n",
    "* Convierta los datos en formato \"long\" y cree un gráfico que muestre los recuentos de valores de las características categóricas utilizando `catplot()` de seaborn. El conjunto de datos debe ser dividido por 'cardio' para que haya un gráfico para cada valor de `cardio`.\n",
    "* Limpie los datos. Filtre los siguientes segmentos de pacientes que representan datos incorrectos:\n",
    "  - la presión diastólica es mayor que la sistólica (Mantenga los datos correctos con `(df['ap_lo'] <= df['ap_hi'])`)\n",
    "  - la altura es inferior al percentil 2,5 (Mantenga los datos correctos con `(df['altura'] >= df['altura'].quantile(0,025))`)\n",
    "  - la altura es superior al percentil 97,5\n",
    "  - el peso es inferior al percentil 2,5\n",
    "  - el peso es superior al percentil 97,5\n",
    "* Crea una matriz de correlaciones utilizando el conjunto de datos. Grafique la matriz de correlación utilizando `heatmap()` de seaborn. Enmascare el triángulo superior. "
   ]
  },
  {
   "cell_type": "code",
   "execution_count": 1,
   "metadata": {},
   "outputs": [],
   "source": [
    "\n",
    "## Librerias necesarias\n",
    "import pandas as pd\n",
    "import seaborn as sns\n",
    "import matplotlib.pyplot as plt\n",
    "import numpy as np\n",
    "\n",
    "# Importe de datos\n",
    "df = pd.read_csv(\"medical_examination.csv\")\n"
   ]
  },
  {
   "cell_type": "code",
   "execution_count": 2,
   "metadata": {},
   "outputs": [],
   "source": [
    "# Añadiendo columna \"overweight\" sobrepeso\n",
    "## Aplicando 1 si es sobrepeso\n",
    "df[\"overweight\"] = (df[\"weight\"] / (df[\"height\"]/100)**2).apply(\n",
    "    lambda x:1 if x >25 else 0\n",
    "    )\n"
   ]
  },
  {
   "cell_type": "code",
   "execution_count": 3,
   "metadata": {},
   "outputs": [],
   "source": [
    "# Normalizar los datos haciendo los valores 1 siempre malo y 0 bueno\n",
    "## Si el valor de cholesterol o gluc es 1, haga el valor 0. \n",
    "## Si el valor es más de 1, haga el valor 1.\n",
    "df[\"cholesterol\"] = df[\"cholesterol\"].apply(lambda x:0 if x==1 else 1)\n",
    "df[\"gluc\"] = df[\"gluc\"].apply(lambda x:0 if x==1 else 1)"
   ]
  },
  {
   "cell_type": "code",
   "execution_count": 4,
   "metadata": {},
   "outputs": [],
   "source": [
    "def draw_cat_plot():\n",
    "    \"\"\"Crear un dataframe pd.melt solo para los valores de:\n",
    "         cholesterol, gluc, smoke, alco, active, overweight\n",
    "    \"\"\"\n",
    "    df_cat = pd.melt(df, id_vars=[\"cardio\"], value_vars=[\n",
    "        \"cholesterol\", \"gluc\", \"smoke\", \"alco\", \"active\", \"overweight\"\n",
    "        ])\n",
    "    \n",
    "    # conjunto de datos divididos por cardio\n",
    "    df_cat[\"total\"] = 1 # Util para el recuento\n",
    "    df_cat = df_cat.groupby(\n",
    "        [\"cardio\", \"variable\",\"value\"], as_index=False).count()\n",
    "\n",
    "    # Grafica de catplot usando sns.catplot()\n",
    "    fig = sns.catplot(x=\"variable\", y=\"total\", \n",
    "                      data=df_cat, hue=\"value\", kind=\"bar\", col=\"cardio\").fig \n",
    "    \n",
    "    fig.savefig(\"catplot.png\")\n",
    "    return fig"
   ]
  },
  {
   "cell_type": "code",
   "execution_count": 5,
   "metadata": {},
   "outputs": [],
   "source": [
    "\n",
    "def draw_scatter_plot():\n",
    "    fig = sns.relplot(x=\"weight\", y=\"height\", \n",
    "                      hue=\"active\", style=\"gender\", data=df)\n",
    "    return fig"
   ]
  },
  {
   "cell_type": "code",
   "execution_count": 6,
   "metadata": {},
   "outputs": [],
   "source": [
    "def draw_heat_map():\n",
    "    # tratamiento de datos erroneos o sospechosos\n",
    "    df_heat = df[\n",
    "        (df['ap_lo'] <= df['ap_hi']) & \n",
    "        (df['height'] >= df['height'].quantile(0.025)) &\n",
    "        (df['height'] <= df['height'].quantile(0.975)) &\n",
    "        (df['weight'] >= df['weight'].quantile(0.025)) &\n",
    "        (df['weight'] <= df['weight'].quantile(0.975)) \n",
    "        ] \n",
    "    ## Calculo de la matriz de correlaciones\n",
    "    corr = df_heat.corr(method='pearson')\n",
    "    \n",
    "    ## mask para el triangulo superior\n",
    "    mask = np.triu(corr)\n",
    "    \n",
    "    ## Configuracion para la figura\n",
    "    fig, ax = plt.subplots(figsize=(12, 12))\n",
    "    \n",
    "    ## 'dibujar' el heatmap \n",
    "    sns.heatmap(\n",
    "        corr, linewidths=1, annot=True, square=True, \n",
    "        mask=mask, fmt='.1f',\n",
    "        center=0.08, cbar_kws={'shrink':0.5}\n",
    "        )\n",
    "    #fig.savefig('heatmap.png')\n",
    "    \n",
    "    return fig"
   ]
  },
  {
   "cell_type": "markdown",
   "metadata": {},
   "source": [
    "# Page View Time Series Visualizer\n",
    "\n",
    "Para este proyecto visualizarás datos de series temporales utilizando un gráfico de líneas, un gráfico de barras y gráficos de caja. Utilizarás Pandas, Matplotlib y Seaborn para visualizar un conjunto de datos que contiene el número de páginas vistas cada día en el foro de freeCodeCamp.org desde 2016-05-09 hasta 2019-12-03. Las visualizaciones de datos te ayudarán a entender los patrones de las visitas y a identificar el crecimiento anual y mensual\n",
    "\n",
    "\n"
   ]
  },
  {
   "cell_type": "markdown",
   "metadata": {},
   "source": [
    "## Actividades a reaizar\n",
    "* Usa Pandas para importar los datos de `fcc-forum-pageviews.csv`. Establezca el índice en la columna \"date\".\n",
    "* Limpiar los datos filtrando los días en los que las páginas vistas estaban en el 2,5% superior del conjunto de datos o en el 2,5% inferior del conjunto de datos.\n",
    "* Crear una función `draw_line_plot` que utilice Matplotlib para dibujar un gráfico de líneas. El título debería ser \"Daily freeCodeCamp Forum Page Views 5/2016-12/2019\". La etiqueta en el eje x debe ser \"Date\" y la etiqueta en el eje y debe ser \"Page Views\".\n",
    "* Crear una función `draw_bar_plot` que dibuje un gráfico de barras. Debe mostrar el promedio de páginas vistas diarias para cada mes agrupadas por año. La leyenda debe mostrar las etiquetas de los meses y tener un título de \"Months\". En el gráfico, la etiqueta del eje x debe ser \"Years\" y la etiqueta del eje y debe ser \"Average Page Views\".\n",
    "* Cree una función `draw_box_plot` que utilice Searborn para dibujar dos gráficos de caja adyacentes. Estos gráficos de caja deben mostrar cómo se distribuyen los valores dentro de un año o mes determinado y cómo se comparan a lo largo del tiempo. El título del primer gráfico debe ser \"Year-wise Box Plot (Trend)\" y el título del segundo gráfico debe ser \"Month-wise Box Plot (Seasonality)\", Asegurarse que las etiquetas de los meses en la parte inferior comienzan en \"enero\" y que los ejes (x,x) están etiquetados correctamente.\n"
   ]
  },
  {
   "cell_type": "code",
   "execution_count": 1,
   "metadata": {},
   "outputs": [],
   "source": [
    "# Librerias a usar\n",
    "import matplotlib.pyplot as plt\n",
    "import pandas as pd\n",
    "import seaborn as sns\n",
    "from pandas.plotting import register_matplotlib_converters\n",
    "register_matplotlib_converters()"
   ]
  },
  {
   "cell_type": "code",
   "execution_count": null,
   "metadata": {},
   "outputs": [],
   "source": [
    "# Importe de datos, definiendo indice: 'date'\n",
    "## Confifurando que se pasaran fechas\n",
    "df = pd.read_csv(\"fcc-forum-pageviews.csv\", \n",
    "                 parse_dates=['date'], \n",
    "                 index_col='date')"
   ]
  },
  {
   "cell_type": "code",
   "execution_count": null,
   "metadata": {},
   "outputs": [],
   "source": [
    "# Clean data\n",
    "df = df[\n",
    "        (df['value'] >= df['value'].quantile(0.025)) &\n",
    "        (df['value'] <= df['value'].quantile(0.975))\n",
    "        ]"
   ]
  },
  {
   "cell_type": "code",
   "execution_count": null,
   "metadata": {},
   "outputs": [],
   "source": [
    "def draw_line_plot():\n",
    "    \"\"\"Grafico de lineas\"\"\"\n",
    "    fig, ax = plt.subplots(figsize=(10,5))\n",
    "    ax.plot(df.index, df['value'], 'r', linewidth=1)\n",
    "    ax.set_title('Daily freeCodeCamp Forum Page Views 5/2016-12/2019')\n",
    "    ax.set_xlabel('Date')\n",
    "    ax.set_ylabel('Page Views')\n",
    "\n",
    "    # Save image and return fig (don't change this part)\n",
    "    #fig.savefig('line_plot.png')\n",
    "    return fig"
   ]
  },
  {
   "cell_type": "code",
   "execution_count": null,
   "metadata": {},
   "outputs": [],
   "source": [
    "def draw_bar_plot():\n",
    "   # Draw bar plot\n",
    "   df['month'] = df.index.month\n",
    "   df['year'] = df.index.year\n",
    "   df_bar = df.groupby(['year', 'month'])['value'].mean()\n",
    "   df_bar = df_bar.unstack()\n",
    "   \n",
    "   # Dibuja el grafico de barras\n",
    "   fig = df_bar.plot.bar(legend=True, figsize=(13,6),\n",
    "                         ylabel='Average Page Views', xlabel='Years').figure\n",
    "   \n",
    "   plt.legend(['January', 'February', 'March', 'April', 'May', 'June', 'July', \n",
    "               'August', 'September', 'October', 'November', 'December'])\n",
    "   \n",
    "   plt.xticks(fontsize=8)\n",
    "   plt.yticks(fontsize=8)\n",
    "\n",
    "   # Save image and return fig (don't change this part)\n",
    "   fig.savefig('bar_plot.png')\n",
    "   return fig"
   ]
  },
  {
   "cell_type": "code",
   "execution_count": null,
   "metadata": {},
   "outputs": [],
   "source": [
    "def draw_box_plot():\n",
    "    # Prepare data for box plots (this part is done!)\n",
    "    df_box = df.copy()\n",
    "    df_box.reset_index(inplace=True)\n",
    "    df_box['year'] = [d.year for d in df_box.date]\n",
    "    df_box['month'] = [d.strftime('%b') for d in df_box.date]\n",
    "\n",
    "    # Draw box plots (using Seaborn)\n",
    "    df_box['month_num'] = df_box['date'].dt.month\n",
    "    df_box = df_box.sort_values('month_num')\n",
    "    \n",
    "    fig, axes = plt.subplots(nrows=1, ncols=2, figsize=(10,5))\n",
    "    axes[0] = sns.boxplot(x=df_box['year'], y=df_box['value'], ax= axes[0])\n",
    "    axes[1] = sns.boxplot(x=df_box['month'], y=df_box['value'], ax= axes[1])\n",
    "    \n",
    "    axes[0].set_title('Year-wise Box Plot (Trend)')\n",
    "    axes[0].set_xlabel('Year')\n",
    "    axes[0].set_ylabel('Page Views')\n",
    "    \n",
    "    axes[1].set_title('Month-wise Box Plot (Seasonality)')\n",
    "    axes[1].set_xlabel('Month')\n",
    "    axes[1].set_ylabel('Page Views')\n",
    "\n",
    "\n",
    "    # Save image and return fig (don't change this part)\n",
    "    fig.savefig('box_plot.png')\n",
    "    return fig\n"
   ]
  },
  {
   "cell_type": "code",
   "execution_count": null,
   "metadata": {},
   "outputs": [],
   "source": []
  },
  {
   "cell_type": "code",
   "execution_count": null,
   "metadata": {},
   "outputs": [],
   "source": []
  }
 ],
 "metadata": {
  "interpreter": {
   "hash": "c469c999aae2bf6d578d6881606ced546d1546d312a4811937df5b24665ee8bc"
  },
  "kernelspec": {
   "display_name": "Python 3 (ipykernel)",
   "language": "python",
   "name": "python3"
  },
  "language_info": {
   "codemirror_mode": {
    "name": "ipython",
    "version": 3
   },
   "file_extension": ".py",
   "mimetype": "text/x-python",
   "name": "python",
   "nbconvert_exporter": "python",
   "pygments_lexer": "ipython3",
   "version": "3.8.8"
  }
 },
 "nbformat": 4,
 "nbformat_minor": 2
}
