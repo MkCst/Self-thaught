{
 "cells": [
  {
   "cell_type": "markdown",
   "source": [
    "# Strings"
   ],
   "metadata": {}
  },
  {
   "cell_type": "markdown",
   "source": [
    "## Swap case\r\n",
    "\r\n",
    "Se te da una cadena y tu tarea es intercambiar las mayúsculas y minúsculas. En otras palabras, convertir todas las letras minúsculas en mayúsculas y viceversa\r\n"
   ],
   "metadata": {}
  },
  {
   "cell_type": "code",
   "execution_count": 8,
   "source": [
    "# Usando las  inbuilt libraries\r\n",
    "cadena = \"HOLA Me llamo mike\"\r\n",
    "dir(cadena)\r\n",
    "print(cadena.swapcase())"
   ],
   "outputs": [
    {
     "output_type": "stream",
     "name": "stdout",
     "text": [
      "hola mE LLAMO MIKE\n"
     ]
    }
   ],
   "metadata": {}
  },
  {
   "cell_type": "code",
   "execution_count": 9,
   "source": [
    "# En caso de querer recordar las demas\r\n",
    "print(\"\".join([i.lower() if i.isupper() else i.upper() for i in input()]))"
   ],
   "outputs": [
    {
     "output_type": "stream",
     "name": "stdout",
     "text": [
      "3\n"
     ]
    }
   ],
   "metadata": {}
  },
  {
   "cell_type": "code",
   "execution_count": 10,
   "source": [
    "# Sin hacer uso de los metodos islower, isupper\r\n",
    "def swap_case(s):\r\n",
    "    result = \"\"\r\n",
    "    for letter in s:\r\n",
    "        if letter == letter.upper():\r\n",
    "            result += letter.lower()\r\n",
    "        else:\r\n",
    "            result += letter.upper()\r\n",
    "    return result\r\n",
    "\r\n",
    "print(swap_case(\"mañana NOS VEMOS JEje adios\"))"
   ],
   "outputs": [
    {
     "output_type": "stream",
     "name": "stdout",
     "text": [
      "MAÑANA nos vemos jeJE ADIOS\n"
     ]
    }
   ],
   "metadata": {}
  },
  {
   "cell_type": "code",
   "execution_count": 11,
   "source": [
    "# Usando el metodo lambda\r\n",
    "print(*map(lambda char:char.lower() if char.isupper() else char.upper(), input()), sep=\"\")"
   ],
   "outputs": [
    {
     "output_type": "stream",
     "name": "stdout",
     "text": [
      "3\n"
     ]
    }
   ],
   "metadata": {}
  },
  {
   "cell_type": "markdown",
   "source": [
    "## Metodos split y join\n",
    "\n",
    "El metodo `split` devuelve una lista de strings"
   ],
   "metadata": {}
  },
  {
   "cell_type": "code",
   "execution_count": 12,
   "source": [
    "# Solucion basica\r\n",
    "nombre = \"Miguel Angel Lopez Castillo\"\r\n",
    "lista_nombre = nombre.split(\" \")\r\n",
    "\r\n",
    "print(nombre)\r\n",
    "print(lista_nombre)\r\n",
    "\r\n",
    "nombre2 = \"-\".join(lista_nombre)+\"\\tdesde la lista\"\r\n",
    "print(nombre2)\r\n"
   ],
   "outputs": [
    {
     "output_type": "stream",
     "name": "stdout",
     "text": [
      "Miguel Angel Lopez Castillo\n",
      "['Miguel', 'Angel', 'Lopez', 'Castillo']\n",
      "Miguel-Angel-Lopez-Castillo\tdesde la lista\n"
     ]
    }
   ],
   "metadata": {}
  },
  {
   "cell_type": "code",
   "execution_count": 13,
   "source": [
    "# Solucion elegante\r\n",
    "cadena = input(\"Cadena: \")\r\n",
    "print(cadena.replace(\" \",\"-\"))"
   ],
   "outputs": [
    {
     "output_type": "stream",
     "name": "stdout",
     "text": [
      "\n"
     ]
    }
   ],
   "metadata": {}
  },
  {
   "cell_type": "code",
   "execution_count": 14,
   "source": [
    "# Solucion elegante\r\n",
    "print(\"-\".join(input(\"Cadena: \").split(\" \")))"
   ],
   "outputs": [
    {
     "output_type": "stream",
     "name": "stdout",
     "text": [
      "3\n"
     ]
    }
   ],
   "metadata": {}
  },
  {
   "cell_type": "markdown",
   "source": [
    "### Cual es tu nombre\n",
    "Te dan el nombre y el apellido de una persona en dos líneas diferentes. Tu tarea es leerlos e imprimir lo siguiente:\n",
    "\n",
    "_Hello `firstname lastname`! You just delved into python._"
   ],
   "metadata": {}
  },
  {
   "cell_type": "code",
   "execution_count": 15,
   "source": [
    "# Usando funciones\r\n",
    "def print_full_name(first, last):\r\n",
    "    full_name = first.split() + last.split()\r\n",
    "    full_name = \" \".join(full_name)\r\n",
    "    print(f\"Hello {full_name} You just delved into python!\")\r\n",
    "\r\n",
    "\r\n",
    "firstname = input(\"Nombre: \")\r\n",
    "lastname = input(\"Apellido: \")\r\n",
    "print_full_name(firstname, lastname)\r\n",
    "\r\n"
   ],
   "outputs": [
    {
     "output_type": "stream",
     "name": "stdout",
     "text": [
      "Hello 3 3 You just delved into python!\n"
     ]
    }
   ],
   "metadata": {}
  },
  {
   "cell_type": "code",
   "execution_count": 16,
   "source": [
    "# Programa acortado\r\n",
    "\r\n",
    "print(f\"Hello {input('name: ')} {input('last name: ')} You just delved into python!\")"
   ],
   "outputs": [
    {
     "output_type": "stream",
     "name": "stdout",
     "text": [
      "Hello 3 3 You just delved into python!\n"
     ]
    }
   ],
   "metadata": {}
  },
  {
   "cell_type": "code",
   "execution_count": 17,
   "source": [
    "# Usando funciones\r\n",
    "def print_full_name(first, last):\r\n",
    "    full_name =[first, last]\r\n",
    "    print(*full_name)\r\n",
    "    print(*[_ for _ in full_name])\r\n",
    "\r\n",
    "\r\n",
    "firstname = input(\"Nombre:\\t\")\r\n",
    "lastname = input(\"Apellido:\\t\")\r\n",
    "print_full_name(firstname, lastname)"
   ],
   "outputs": [
    {
     "output_type": "stream",
     "name": "stdout",
     "text": [
      " \n",
      " \n"
     ]
    }
   ],
   "metadata": {}
  },
  {
   "cell_type": "markdown",
   "source": [
    "## Mutabilidad e inmutabilidad\n",
    "Lee una cadena dada, cambia el carácter en un índice dado y luego imprime la cadena modificada."
   ],
   "metadata": {}
  },
  {
   "cell_type": "code",
   "execution_count": 19,
   "source": [
    "def mutate_string(string, position, character):\r\n",
    "    return string[:position] + character + string[position+1:]\r\n",
    "\r\n",
    "s = \"amigos\" \r\n",
    "i, c = input().split()\r\n",
    "s_new = mutate_string(s, int(i), c)\r\n",
    "print(s_new)"
   ],
   "outputs": [
    {
     "output_type": "stream",
     "name": "stdout",
     "text": [
      "amigas\n"
     ]
    }
   ],
   "metadata": {}
  },
  {
   "cell_type": "markdown",
   "source": [
    "## Buscando una string\r\n",
    "El usuario ingresara una cadena y una subcadena, se tiene que imprimir el numero de veces en que la subcadena se encuentra en la cadena principal.\r\n",
    "El recorrido de la cadena es de izquierda a derecha.\r\n",
    "\r\n"
   ],
   "metadata": {}
  },
  {
   "cell_type": "code",
   "execution_count": null,
   "source": [
    "def search_substring(cadena, subcadena):\r\n",
    "    posiciones =[]\r\n",
    "    posicion =0\r\n",
    "    \r\n",
    "    while posicion != -1:\r\n",
    "        posicion  = cadena.find(subcadena, posicion)\r\n",
    "        if posicion != -1:\r\n",
    "            posiciones.append(posicion)\r\n",
    "            posicion += 1\r\n",
    "    return len(posiciones)\r\n",
    "    \r\n",
    "\r\n",
    "test ={\r\n",
    "    \"wrd1\":\"mi mama me mima\",\r\n",
    "    \"wrd2\":\"mama que amamanta\",\r\n",
    "    \"wrd3\":\"mi mama ama que la amamos\"\r\n",
    "}\r\n",
    "\r\n",
    "subcadena =[\"ama\", \"ma\"]\r\n",
    "\r\n",
    "#CON SOLAPAMIENTO\r\n",
    "print(\"CON SOLAPAMIENTO\")\r\n",
    "for clave  in test:\r\n",
    "    apariciones = [search_substring(test[clave], sub) for sub in subcadena]\r\n",
    "    print(apariciones)\r\n",
    "    \r\n",
    "\r\n",
    "#SIN SOLAPAMIENTO USANDO EL METODO COUNT\r\n",
    "print(\"\\n\\nSIN SOLAPAMIENTO USO DE METODO count\")\r\n",
    "for clave  in test:\r\n",
    "    apariciones = [test[clave].count(sub) for sub in subcadena]\r\n",
    "    print(apariciones)\r\n",
    "\r\n"
   ],
   "outputs": [
    {
     "output_type": "stream",
     "name": "stdout",
     "text": [
      "CON SOLAPAMIENTO\n",
      "[1, 3]\n",
      "[3, 4]\n",
      "[3, 4]\n",
      "\n",
      "\n",
      "SIN SOLAPAMIENTO USO DE METODO count\n",
      "[1, 3]\n",
      "[2, 4]\n",
      "[3, 4]\n"
     ]
    }
   ],
   "metadata": {}
  },
  {
   "cell_type": "code",
   "execution_count": null,
   "source": [
    "# USANDO COMPRESION DE LISTAS------\r\n",
    "# BASADO EN:\r\n",
    "\"\"\"\r\n",
    "string, substring = (input().strip(), input().strip())\r\n",
    "print(sum([ 1 for i in range(len(string)-len(substring)+1) \r\n",
    "if string[i:i+len(substring)] == substring]))\r\n",
    "\"\"\"\r\n",
    "\r\n",
    "test ={\r\n",
    "    \"wrd1\":\"mi mama me mima\",\r\n",
    "    \"wrd2\":\"mama que amamanta\",\r\n",
    "    \"wrd3\":\"mi mama ama que la amamos\"\r\n",
    "}\r\n",
    "\r\n",
    "\r\n",
    "subcadena =[\"ama\", \"ma\"]\r\n",
    "\r\n",
    "coincidencias = []\r\n",
    "for clave in test:\r\n",
    "    for sub in subcadena:\r\n",
    "        cuenta = sum(\r\n",
    "            [1 for i in range(len(test[clave])-len(sub)+1)\r\n",
    "            if test[clave][i:i+len(sub)] == sub]\r\n",
    "        )\r\n",
    "        coincidencias.append(cuenta)\r\n",
    "\r\n",
    "print(coincidencias)"
   ],
   "outputs": [
    {
     "output_type": "stream",
     "name": "stdout",
     "text": [
      "[1, 3, 3, 4, 3, 4]\n"
     ]
    }
   ],
   "metadata": {}
  },
  {
   "cell_type": "markdown",
   "source": [
    "## Comprobacion de cadenas\r\n",
    "Python tiene métodos de validación de cadenas incorporados para los datos básicos. Puede comprobar si una cadena está compuesta por caracteres alfabéticos, caracteres alfanuméricos, dígitos, etc."
   ],
   "metadata": {}
  },
  {
   "cell_type": "code",
   "execution_count": null,
   "source": [
    "# Comprobando cadenas\r\n",
    "## No se recomienda el uso de eval\r\n",
    "s = input()\r\n",
    "\r\n",
    "for test in (\"isalnum\", \"isalpha\", \"isdigit\", \"islower\"):\r\n",
    "    print(any(eval(\"c.\"+test+\"()\") for c in s))"
   ],
   "outputs": [
    {
     "output_type": "stream",
     "name": "stdout",
     "text": [
      "True\n",
      "True\n",
      "True\n",
      "True\n"
     ]
    }
   ],
   "metadata": {}
  },
  {
   "cell_type": "code",
   "execution_count": null,
   "source": [
    "# Evitando el uso de eval\r\n",
    "\r\n",
    "s = input()\r\n",
    "for method in [str.isalnum, str.isalpha, str.isdigit, str.islower, str.isupper]:\r\n",
    "    print(any(method(c) for c in s))"
   ],
   "outputs": [
    {
     "output_type": "stream",
     "name": "stdout",
     "text": [
      "True\n",
      "True\n",
      "True\n",
      "True\n"
     ]
    }
   ],
   "metadata": {}
  },
  {
   "cell_type": "markdown",
   "source": [
    "## Envoltura de texto\r\n",
    "Se asigna una cadena `S` con un ancho `w`\r\n",
    "Envolver la cadena segun el tamaño de texto"
   ],
   "metadata": {}
  },
  {
   "cell_type": "code",
   "execution_count": null,
   "source": [
    "test = \"ABCDEFGHIJKLIMNOQRSTUVWXYZ\"\r\n",
    "ancho = 4\r\n",
    "\r\n",
    "contador=0\r\n",
    "for i in test:\r\n",
    "    contador+=1\r\n",
    "    if contador%ancho==0:\r\n",
    "        i+=\"\\n\"\r\n",
    "    print(i,end=\"\")"
   ],
   "outputs": [
    {
     "output_type": "stream",
     "name": "stdout",
     "text": [
      "ABCD\n",
      "EFGH\n",
      "IJKL\n",
      "IMNO\n",
      "QRST\n",
      "UVWX\n",
      "YZ"
     ]
    }
   ],
   "metadata": {}
  },
  {
   "cell_type": "code",
   "execution_count": null,
   "source": [
    "import string\r\n",
    "import random\r\n",
    "import textwrap\r\n",
    "\r\n",
    "# Metodos\r\n",
    "def wrap(string, max_width):\r\n",
    "    contador = 1\r\n",
    "    cad = \"\"\r\n",
    "    for i in string:\r\n",
    "        cad +=i\r\n",
    "        if contador % int(max_width) ==0:\r\n",
    "            cad+=\"\\n\"\r\n",
    "        contador+=1\r\n",
    "    return cad\r\n",
    "\r\n",
    "def wrap2(string, max_width):\r\n",
    "    return \"\\n\".join([string[i:i+max_width] for i in range(0, len(string),max_width)])\r\n",
    "\r\n",
    "def wrap3(string, max_width):\r\n",
    "    \"\"\"Uso metodo de python\"\"\"\r\n",
    "    return \"\\n\".join(textwrap.wrap(string, max_width))\r\n",
    "\r\n"
   ],
   "outputs": [],
   "metadata": {}
  },
  {
   "cell_type": "code",
   "execution_count": null,
   "source": [
    "\r\n",
    "## Definiendo cadena tamaño 50\r\n",
    "string_unformated = \"\".join(random.choices(string.ascii_letters+string.digits, k=50))\r\n",
    "print(\"Cadena sin formato\")\r\n",
    "print(string_unformated)\r\n",
    "print(\"\\nCadena con formato\")\r\n",
    "formated_str = wrap2(string_unformated, 10)\r\n",
    "print(formated_str)"
   ],
   "outputs": [
    {
     "output_type": "stream",
     "name": "stdout",
     "text": [
      "Cadena sin formato\n",
      "h9fMvhoNup7ZC2nJ8MclSWC2u7j5j7gBGSa25417JPN0w33e0m\n",
      "\n",
      "Cadena con formato\n",
      "h9fMvhoNup\n",
      "7ZC2nJ8Mcl\n",
      "SWC2u7j5j7\n",
      "gBGSa25417\n",
      "JPN0w33e0m\n"
     ]
    }
   ],
   "metadata": {}
  },
  {
   "cell_type": "code",
   "execution_count": null,
   "source": [
    "import string\r\n",
    "\"\"\"\r\n",
    "Explicacion del funcionamiento de este metodo.\r\n",
    "def wrap2(string, max_width):\r\n",
    "    return \"\\n\".join([string[i:i+max_width] for i in range(0, len(string),max_width)])\r\n",
    "\"\"\"\r\n",
    "\r\n",
    "cadena = \"Holaminombreesmiketengo24añosyestudioparaserungranfinanciero\"\r\n",
    "print(cadena)\r\n",
    "lsta = [cadena[i:i+5] for i in range(0, len(cadena),5)] \r\n",
    "print(lsta)\r\n",
    "print(*lsta,sep=\"\\n\")"
   ],
   "outputs": [
    {
     "output_type": "stream",
     "name": "stdout",
     "text": [
      "Holaminombreesmiketengo24añosyestudioparaserungranfinanciero\n",
      "['Holam', 'inomb', 'reesm', 'ikete', 'ngo24', 'añosy', 'estud', 'iopar', 'aseru', 'ngran', 'finan', 'ciero']\n",
      "Holam\n",
      "inomb\n",
      "reesm\n",
      "ikete\n",
      "ngo24\n",
      "añosy\n",
      "estud\n",
      "iopar\n",
      "aseru\n",
      "ngran\n",
      "finan\n",
      "ciero\n"
     ]
    }
   ],
   "metadata": {}
  },
  {
   "cell_type": "markdown",
   "source": [
    "# Diseño de tapete"
   ],
   "metadata": {}
  },
  {
   "cell_type": "markdown",
   "source": [
    "El Sr. Vincent trabaja en una empresa de fabricación de felpudos. Un día, diseñó un nuevo felpudo con las siguientes especificaciones:\r\n",
    "\r\n",
    "El tamaño del felpudo debe ser NxM. (N es un número natural impar y M es 3 veces N).\r\n",
    "El diseño debe tener escrito \"WELCOME\" en el centro.\r\n",
    "\r\n"
   ],
   "metadata": {}
  },
  {
   "cell_type": "code",
   "execution_count": null,
   "source": [
    "# Usando ciclos usuales\r\n",
    "N, M = map(int, input().split(\" \"))\r\n",
    "\r\n",
    "for i in range(N):\r\n",
    "    pattern = \".|.\"\r\n",
    "    if i<(N-1)/2:\r\n",
    "        print((pattern*(2*i+1)).center(M,\"-\"))\r\n",
    "    elif i == (N-1)/2:\r\n",
    "        print(\"WELCOME\".center(M,\"-\"))\r\n",
    "    else:\r\n",
    "        print((pattern*(2*(N-1-i)+1)).center(M,\"-\"))"
   ],
   "outputs": [
    {
     "output_type": "stream",
     "name": "stdout",
     "text": [
      "------------.|.------------\n",
      "---------.|..|..|.---------\n",
      "------.|..|..|..|..|.------\n",
      "---.|..|..|..|..|..|..|.---\n",
      "----------WELCOME----------\n",
      "---.|..|..|..|..|..|..|.---\n",
      "------.|..|..|..|..|.------\n",
      "---------.|..|..|.---------\n",
      "------------.|.------------\n"
     ]
    }
   ],
   "metadata": {}
  },
  {
   "cell_type": "code",
   "execution_count": null,
   "source": [
    "# Usando compresion de listas\r\n",
    "\r\n",
    "n, m = map(int, input().split())\r\n",
    "\r\n",
    "pattern = [(\".|.\"*(2*i+1)).center(m,\"-\") for i in range(n//2)]\r\n",
    "cadena = \"\\n\".join(pattern + [\"WELCOME\".center(m,\"-\")]+pattern[::-1])\r\n",
    "print(cadena)"
   ],
   "outputs": [
    {
     "output_type": "stream",
     "name": "stdout",
     "text": [
      "------------.|.------------\n",
      "---------.|..|..|.---------\n",
      "------.|..|..|..|..|.------\n",
      "---.|..|..|..|..|..|..|.---\n",
      "----------WELCOME----------\n",
      "---.|..|..|..|..|..|..|.---\n",
      "------.|..|..|..|..|.------\n",
      "---------.|..|..|.---------\n",
      "------------.|.------------\n"
     ]
    }
   ],
   "metadata": {}
  },
  {
   "cell_type": "markdown",
   "source": [
    "# String formating\r\n",
    "\r\n",
    "Dado un número entero, n, imprime los siguientes valores para cada número entero i de 1 a n:\r\n",
    "\r\n",
    "1. Decimal\r\n",
    "2. Octal\r\n",
    "3. Hexadecimal (en mayúsculas)\r\n",
    "4. Binario"
   ],
   "metadata": {}
  },
  {
   "cell_type": "code",
   "execution_count": null,
   "source": [
    "\r\n",
    "n = int(input(\"Elementos\"))\r\n",
    "width = len(f\"{n:b}\") # Numero de bits para representacion binaria\r\n",
    "#width = len(\"{0:b}\".format(n))\r\n",
    "\r\n",
    "for i in range(1, n+1):\r\n",
    "    print(f\"{i:{width}d} {i:{width}o} {i:{width}X} {i:{width}b}\") \r\n"
   ],
   "outputs": [
    {
     "output_type": "stream",
     "name": "stdout",
     "text": [
      "   1    1    1    1\n",
      "   2    2    2   10\n",
      "   3    3    3   11\n",
      "   4    4    4  100\n",
      "   5    5    5  101\n",
      "   6    6    6  110\n",
      "   7    7    7  111\n",
      "   8   10    8 1000\n",
      "   9   11    9 1001\n",
      "  10   12    A 1010\n"
     ]
    }
   ],
   "metadata": {}
  },
  {
   "cell_type": "code",
   "execution_count": null,
   "source": [
    "number = int(input(\"Elementos: \"))\r\n",
    "padding = number.bit_length()\r\n",
    "for i in range(1, number+1):\r\n",
    "    print(f\"{i:{padding}d} {i:{padding}o} {i:{padding}X} {i:{padding}b}\")"
   ],
   "outputs": [
    {
     "output_type": "stream",
     "name": "stdout",
     "text": [
      "1\n",
      "   1    1    1    1\n",
      "   2    2    2   10\n",
      "   3    3    3   11\n",
      "   4    4    4  100\n",
      "   5    5    5  101\n",
      "   6    6    6  110\n",
      "   7    7    7  111\n",
      "   8   10    8 1000\n",
      "   9   11    9 1001\n",
      "  10   12    A 1010\n"
     ]
    }
   ],
   "metadata": {}
  },
  {
   "cell_type": "markdown",
   "source": [
    "# Rangoli alfabetico\r\n",
    "Se te da un número entero, N. Tu tarea es imprimir un rangoli del alfabeto de tamaño N. \r\n",
    "\r\n",
    "The center of the rangoli has the first alphabet letter a, and the boundary has the N alphabet letter (in alphabetical order).\r\n",
    "\r\n",
    "Restriccion: 0 < size < 27"
   ],
   "metadata": {}
  },
  {
   "cell_type": "code",
   "execution_count": null,
   "source": [
    "import string\r\n",
    "\r\n",
    "alpha = string.ascii_lowercase\r\n",
    "\r\n",
    "n = int(input())\r\n",
    "lst = []\r\n",
    "for i in range(n):\r\n",
    "    s = \"-\".join(alpha[i:n])\r\n",
    "    lst.append((s[::-1]+s[1:]).center(4*n-3, \"-\"))\r\n",
    "\r\n",
    "print(\"\\n\".join(lst[:0:-1]+lst))"
   ],
   "outputs": [
    {
     "output_type": "stream",
     "name": "stdout",
     "text": [
      "abcdefghijklmnopqrstuvwxyz\n",
      "--------e--------\n",
      "------e-d-e------\n",
      "----e-d-c-d-e----\n",
      "--e-d-c-b-c-d-e--\n",
      "e-d-c-b-a-b-c-d-e\n",
      "--e-d-c-b-c-d-e--\n",
      "----e-d-c-d-e----\n",
      "------e-d-e------\n",
      "--------e--------\n"
     ]
    }
   ],
   "metadata": {}
  },
  {
   "cell_type": "markdown",
   "source": [
    "# Capitalize\r\n",
    "Se le pide que se asegure de que los nombres y apellidos de las personas empiecen con mayúscula en sus pasaportes. Por ejemplo, alison heck debe escribirse correctamente en mayúsculas como Alison Heck"
   ],
   "metadata": {}
  },
  {
   "cell_type": "code",
   "execution_count": null,
   "source": [
    "name_c =input()\r\n",
    "name_c = [name.capitalize()  for name in name_c.split(\" \")]\r\n",
    "print(*name_c)\r\n"
   ],
   "outputs": [
    {
     "output_type": "stream",
     "name": "stdout",
     "text": [
      "Miguel Angel Lopez Castillo As Sdf Dfd Ds As\n"
     ]
    }
   ],
   "metadata": {}
  },
  {
   "cell_type": "code",
   "execution_count": null,
   "source": [
    "def solve(s):\r\n",
    "    name_c = s.split(\" \")\r\n",
    "    name_c = \" \".join([name.capitalize() for name in name_c])\r\n",
    "    return name_c\r\n",
    "\r\n",
    "name = solve(\"hj h h h h h h h sd\")\r\n",
    "print(name)"
   ],
   "outputs": [
    {
     "output_type": "stream",
     "name": "stdout",
     "text": [
      "Hj H H H H H H H Sd\n"
     ]
    }
   ],
   "metadata": {}
  },
  {
   "cell_type": "code",
   "execution_count": null,
   "source": [
    "a_string = input().split(\" \")\r\n",
    "print(\" \".join((word.capitalize() for word in a_string)))"
   ],
   "outputs": [
    {
     "output_type": "stream",
     "name": "stdout",
     "text": [
      "Mañana M K L I Error\n"
     ]
    }
   ],
   "metadata": {}
  },
  {
   "cell_type": "markdown",
   "source": [
    "# The minion game\r\n",
    "Ambos jugadores reciben la misma cadena, S.\r\n",
    "\r\n",
    "Ambos jugadores tienen que hacer subcadenas utilizando las letras de la cadena S.\r\n",
    "\r\n",
    "* Stuart tiene que formar palabras que empiecen por consonantes.\r\n",
    "* Kevin tiene que hacer palabras que empiecen por vocales.\r\n",
    "\r\n",
    "El juego termina cuando ambos jugadores han hecho todas las subcadenas posibles.\r\n",
    "\r\n",
    "Puntuación:\r\n",
    "* Un jugador obtiene +1 punto por cada aparición de la subcadena en la cadena.\r\n",
    "\r\n",
    "Por ejemplo\r\n",
    "\r\n",
    "Cadena S= BANANA\r\n",
    "\r\n",
    "Palabra de inicio de vocal de Kevin = ANA\r\n",
    "\r\n",
    "Aquí, ANA aparece dos veces en BANANA. Por lo tanto, Kevin obtendrá 2 puntos.\r\n"
   ],
   "metadata": {}
  },
  {
   "cell_type": "code",
   "execution_count": null,
   "source": [
    "# Minion game\r\n",
    "s = input(\"String (mayusculas)\")\r\n",
    "\r\n",
    "vowels = \"AEIOU\"\r\n",
    "kevsc = 0\r\n",
    "stusc = 0\r\n",
    "\r\n",
    "for i in range(len(s)):\r\n",
    "    if s[i] in vowels:\r\n",
    "        kevsc += (len(s)-i)\r\n",
    "    else:\r\n",
    "        stusc += (len(s)-i)\r\n",
    "\r\n",
    "if kevsc > stusc:\r\n",
    "    print(f\"Kevin {kevsc}\")\r\n",
    "elif kevsc < stusc:\r\n",
    "    print(f\"Stuart {stusc}\")\r\n",
    "else:\r\n",
    "    print(\"Draw\")\r\n"
   ],
   "outputs": [],
   "metadata": {}
  },
  {
   "cell_type": "markdown",
   "source": [
    "# Fusione las herramientas\r\n",
    "\r\n",
    "Considere los siguiente:\r\n",
    "* Una cadena S, de tamaño $n$ donde $S = C_0C_1...C_{n-1}$\r\n",
    "* Un entero, K, donde k es factor de $n$\r\n",
    "\r\n",
    "Podemos dividir $S$ en $\\frac{n}{k}$ subcadenas donde cada subcadena $t_i$ consiste en un bloque contiguo de $k$ caracteres en $S$\r\n",
    "\r\n",
    "Se usa cada bloque de caracteres $t_i$ para crear una cadena $u_i$ tal que:\r\n",
    "* Los caracteres en $u_i$ son una subsecuencia de los caracteres en $t_i$\r\n",
    "* Cualquier aparición repetida de un carácter se elimina de la cadena de tal manera que cada carácter en $u_i$ ocurre exactamente una vez, en otras palabras si un caracter en un indice $j$ en $t_i$ ocurre en un indice anterior $< j$, entonces no se incluye el caracter en la cadena $u_i$\r\n",
    "\r\n",
    "Dado un valor $S$ y $k$, imprime $n/k$ lineas donde cada linea $i$ denota la cadena $u_i$\r\n"
   ],
   "metadata": {}
  },
  {
   "cell_type": "code",
   "execution_count": 21,
   "source": [
    "S = \"AABCAAADA\"\r\n",
    "K = int(input())\r\n",
    "temp = []\r\n",
    "len_temp = 0\r\n",
    "for item in S:\r\n",
    "    len_temp +=1\r\n",
    "    if item not in temp:\r\n",
    "        temp.append(item)\r\n",
    "    if len_temp == K:\r\n",
    "        print(\"\".join(temp))\r\n",
    "        temp=[]\r\n",
    "        len_temp = 0\r\n"
   ],
   "outputs": [
    {
     "output_type": "stream",
     "name": "stdout",
     "text": [
      "AB\n",
      "CA\n",
      "AD\n"
     ]
    }
   ],
   "metadata": {}
  },
  {
   "cell_type": "code",
   "execution_count": 7,
   "source": [
    "# Metodo pythonista\r\n",
    "#S = input(\"Cadena\")\r\n",
    "S = \"AABCAAADA\"\r\n",
    "N = int(input(\"Split: \"))\r\n",
    "\r\n",
    "for part in zip(*[iter(S)]*N):\r\n",
    "    d = dict()\r\n",
    "    print(\"\".join([d.setdefault(c,c) for c in part if c not in d]))\r\n",
    "    print(d)"
   ],
   "outputs": [
    {
     "output_type": "stream",
     "name": "stdout",
     "text": [
      "AB\n",
      "{'A': 'A', 'B': 'B'}\n",
      "CA\n",
      "{'C': 'C', 'A': 'A'}\n",
      "AD\n",
      "{'A': 'A', 'D': 'D'}\n"
     ]
    }
   ],
   "metadata": {}
  }
 ],
 "metadata": {
  "kernelspec": {
   "name": "python3",
   "display_name": "Python 3.8.8 64-bit ('base': conda)"
  },
  "language_info": {
   "codemirror_mode": {
    "name": "ipython",
    "version": 3
   },
   "file_extension": ".py",
   "mimetype": "text/x-python",
   "name": "python",
   "nbconvert_exporter": "python",
   "pygments_lexer": "ipython3",
   "version": "3.8.8"
  },
  "interpreter": {
   "hash": "c469c999aae2bf6d578d6881606ced546d1546d312a4811937df5b24665ee8bc"
  }
 },
 "nbformat": 4,
 "nbformat_minor": 5
}