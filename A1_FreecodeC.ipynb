{
 "cells": [
  {
   "cell_type": "markdown",
   "id": "9477af4c",
   "metadata": {},
   "source": [
    "# Formato aritmetico"
   ]
  },
  {
   "cell_type": "markdown",
   "id": "d3412f3a",
   "metadata": {},
   "source": [
    "Cree una función que reciba una lista de cadenas que sean problemas aritméticos y devuelva los problemas ordenados verticalmente y uno al lado del otro. La función debe tomar opcionalmente un segundo argumento. Cuando el segundo argumento sea True, se mostrarán las respuestas.\n",
    "\n",
    "**Indicaciones**\n",
    "\n",
    "La función devolverá la conversión correcta si los problemas suministrados están correctamente formateados, de lo contrario, devolverá una cadena que describe un error significativo para el usuario.\n",
    "\n",
    "_**Situaciones que devolverán un error:**_\n",
    "* Si hay demasiados problemas suministrados a la función. El límite es de cinco, cualquier cosa más regresará: _Error: Demasiados problemas._\n",
    "* Los operadores apropiados que la función aceptará son la suma y la resta. La multiplicación y la división devolverán un error. No será necesario comprobar otros operadores no mencionados en este punto. El error devuelto será: _Error: El operador debe ser '+' o '-'._\n",
    "* Cada número (operando) debe contener sólo dígitos. En caso contrario, la función devolverá: _Error: Los números sólo deben contener dígitos._\n",
    "\n",
    "* Cada operando (número a cada lado del operador) tiene un máximo de cuatro dígitos de ancho. En caso contrario, la cadena de error devuelta será: _Error: Los números no pueden tener más de cuatro dígitos._\n",
    "\n",
    "_**Si el usuario suministra el formato correcto de los problemas, el resultado devuel obedece las siguientes reglas**_\n",
    "* Debe haber un solo espacio entre el operador y el más largo de los dos operandos, el operador estará en la misma línea que el segundo operando, ambos operandos estarán en el mismo orden proporcionado (el primero será el superior y el segundo el inferior.\n",
    "* Los números deben estar alineados a la derecha.\n",
    "* Debe haber cuatro espacios entre cada problema.\n",
    "* Debe haber guiones en la parte inferior de cada problema. Los guiones deben recorrer toda la longitud de cada problema individualmente. (El ejemplo anterior muestra cómo debe ser esto).\n"
   ]
  },
  {
   "cell_type": "code",
   "execution_count": 1,
   "id": "8adfaa6b",
   "metadata": {
    "tags": []
   },
   "outputs": [
    {
     "name": "stdout",
     "output_type": "stream",
     "text": [
      "[['32', '+', '698'], ['3801', '-', '2'], ['45', '+', '43'], ['123', '+', '49']]\n"
     ]
    },
    {
     "ename": "TypeError",
     "evalue": "'list' object is not callable",
     "output_type": "error",
     "traceback": [
      "\u001b[1;31m---------------------------------------------------------------------------\u001b[0m",
      "\u001b[1;31mTypeError\u001b[0m                                 Traceback (most recent call last)",
      "\u001b[1;32m<ipython-input-1-b4c572c37eac>\u001b[0m in \u001b[0;36m<module>\u001b[1;34m\u001b[0m\n\u001b[0;32m     36\u001b[0m \u001b[1;33m\u001b[0m\u001b[0m\n\u001b[0;32m     37\u001b[0m \u001b[0mproblemas\u001b[0m \u001b[1;33m=\u001b[0m \u001b[1;33m[\u001b[0m\u001b[1;34m\"32 + 698\"\u001b[0m\u001b[1;33m,\u001b[0m \u001b[1;34m\"3801 - 2\"\u001b[0m\u001b[1;33m,\u001b[0m \u001b[1;34m\"45 + 43\"\u001b[0m\u001b[1;33m,\u001b[0m \u001b[1;34m\"123 + 49\"\u001b[0m\u001b[1;33m]\u001b[0m\u001b[1;33m\u001b[0m\u001b[1;33m\u001b[0m\u001b[0m\n\u001b[1;32m---> 38\u001b[1;33m \u001b[0mformato_aritmetico\u001b[0m\u001b[1;33m(\u001b[0m\u001b[0mproblemas\u001b[0m\u001b[1;33m)\u001b[0m\u001b[1;33m\u001b[0m\u001b[1;33m\u001b[0m\u001b[0m\n\u001b[0m",
      "\u001b[1;32m<ipython-input-1-b4c572c37eac>\u001b[0m in \u001b[0;36mformato_aritmetico\u001b[1;34m(problemas, display)\u001b[0m\n\u001b[0;32m     28\u001b[0m \u001b[1;33m\u001b[0m\u001b[0m\n\u001b[0;32m     29\u001b[0m         \u001b[1;31m#Longitud maxima del operador\u001b[0m\u001b[1;33m\u001b[0m\u001b[1;33m\u001b[0m\u001b[1;33m\u001b[0m\u001b[0m\n\u001b[1;32m---> 30\u001b[1;33m         \u001b[0mmax_length\u001b[0m\u001b[1;33m(\u001b[0m\u001b[1;33m)\u001b[0m\u001b[1;33m\u001b[0m\u001b[1;33m\u001b[0m\u001b[0m\n\u001b[0m\u001b[0;32m     31\u001b[0m \u001b[1;33m\u001b[0m\u001b[0m\n\u001b[0;32m     32\u001b[0m \u001b[1;33m\u001b[0m\u001b[0m\n",
      "\u001b[1;31mTypeError\u001b[0m: 'list' object is not callable"
     ]
    }
   ],
   "source": [
    "# Primera solucion\n",
    "def formato_aritmetico(problemas, display=False):\n",
    "    lst = []\n",
    "    max_length = []\n",
    "    required_length = []\n",
    "\n",
    "    # Construccion lista de operaciones\n",
    "    for i in range(len(problemas)):\n",
    "        lst.append(problemas[i].split(\" \"))\n",
    "    print(lst)\n",
    "    \n",
    "    # Condiciones\n",
    "    if len(lst) > 5:\n",
    "        \"\"\"Mas problemas de los permitidos\"\"\"\n",
    "        return \"Error: Too many problems.\"\n",
    "    \n",
    "    for i in range(len(lst)):\n",
    "        if (len(lst[i])!=3):\n",
    "            return \"Error: Expression must only contain 2 operands and 1 operator.\"\n",
    "        if lst[i][1]!='+' and lst[i][1]!='-':\n",
    "            return \"Error: Operator must be '+' or '-'.\"\n",
    "        \n",
    "        try: # Conversion de numeros a enteros\n",
    "            lst[i][0]=int(lst[i][0])\n",
    "            lst[i][2]=int(lst[i][2])\n",
    "        except:\n",
    "            return \"Error: Numbers must only contain digits\"\n",
    "        \n",
    "        #Longitud maxima del operador\n",
    "        max_length.append(\n",
    "            max(len(str(lst[i][0])),  )\n",
    "        )\n",
    "    \n",
    "    \n",
    "    \n",
    "    \n",
    "    \n",
    "problemas = [\"32 + 698\", \"3801 - 2\", \"45 + 43\", \"123 + 49\"]\n",
    "formato_aritmetico(problemas)"
   ]
  },
  {
   "cell_type": "code",
   "execution_count": 8,
   "metadata": {},
   "outputs": [
    {
     "output_type": "stream",
     "name": "stdout",
     "text": [
      "[0, 1, 2, 3, 4, 5, 6, 7, 8, 9, 10, 11, 12, 13, 14, 15, 16, 17, 18, 19]\n"
     ]
    }
   ],
   "source": [
    "lista1 = [x for x in range(10)]\n",
    "lista2 = [x for x in range(20)]\n",
    "\n",
    "print(max(lista1, lista2))"
   ]
  },
  {
   "cell_type": "code",
   "execution_count": null,
   "metadata": {},
   "outputs": [],
   "source": []
  }
 ],
 "metadata": {
  "kernelspec": {
   "name": "python3",
   "display_name": "Python 3.8.8 64-bit ('base': conda)"
  },
  "language_info": {
   "codemirror_mode": {
    "name": "ipython",
    "version": 3
   },
   "file_extension": ".py",
   "mimetype": "text/x-python",
   "name": "python",
   "nbconvert_exporter": "python",
   "pygments_lexer": "ipython3",
   "version": "3.8.8"
  },
  "toc-autonumbering": false,
  "interpreter": {
   "hash": "a943dc03c518a544c66c9fe1d706c3e00fd4cf00b538b3fc6efd3c02fc5e4d46"
  }
 },
 "nbformat": 4,
 "nbformat_minor": 5
}