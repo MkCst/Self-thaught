{
 "cells": [
  {
   "cell_type": "markdown",
   "metadata": {},
   "source": [
    "# Recursion"
   ]
  },
  {
   "cell_type": "markdown",
   "metadata": {},
   "source": [
    "**Cada funcion recursiva esta compuesta por dos partes**\n",
    "> Caso base\n",
    "\n",
    "> Caso recursivo"
   ]
  },
  {
   "cell_type": "markdown",
   "metadata": {},
   "source": [
    "## Factorial de un numero"
   ]
  },
  {
   "cell_type": "code",
   "execution_count": 1,
   "metadata": {},
   "outputs": [
    {
     "name": "stdout",
     "output_type": "stream",
     "text": [
      "10,9,8,7,6,5,4,3,2,1,0,\n",
      "10,9,8,7,6,5,4,3,2,1,0,"
     ]
    }
   ],
   "source": [
    "# Ejemplo Cuenta regresiva con recursividad\n",
    "def countdown(n):\n",
    "    print(n,end=\",\")\n",
    "    if n<=0:\n",
    "        return 0\n",
    "    else:\n",
    "        countdown(n-1)\n",
    "\n",
    "# Ejemplo cuenta regresiva caso iterativo\n",
    "def countdown_i(n):\n",
    "    while n>=0:\n",
    "        print(n, end=\",\")\n",
    "        n-=1\n",
    "        \n",
    "\n",
    "\n",
    "countdown(10)\n",
    "print()\n",
    "countdown_i(10)\n",
    "\n"
   ]
  },
  {
   "cell_type": "markdown",
   "metadata": {},
   "source": [
    "## Suma de un arreglo de numeros"
   ]
  },
  {
   "cell_type": "code",
   "execution_count": 21,
   "metadata": {},
   "outputs": [
    {
     "name": "stdout",
     "output_type": "stream",
     "text": [
      "478\n",
      "478\n"
     ]
    }
   ],
   "source": [
    "# Usando iteratividad\n",
    "from random import randint\n",
    "\n",
    "def suma_i(arreglo):\n",
    "    total = 0\n",
    "    for i in arreglo:\n",
    "        total += i\n",
    "    return total\n",
    "\n",
    "\n",
    "# Usando recursividad\n",
    "def suma_r(arreglo):\n",
    "    if len(arreglo) == 0:\n",
    "        return 0\n",
    "    else:\n",
    "        return arreglo.pop()+suma_r(arreglo)\n",
    "    \n",
    "\n",
    "\n",
    "lista = [randint(1,50) for _ in range(20)]\n",
    "print(suma_i(lista))\n",
    "print(suma_r(lista))\n",
    "\n"
   ]
  },
  {
   "cell_type": "code",
   "execution_count": null,
   "metadata": {},
   "outputs": [],
   "source": []
  },
  {
   "cell_type": "code",
   "execution_count": null,
   "metadata": {},
   "outputs": [],
   "source": []
  }
 ],
 "metadata": {
  "kernelspec": {
   "display_name": "Python 3",
   "language": "python",
   "name": "python3"
  },
  "language_info": {
   "codemirror_mode": {
    "name": "ipython",
    "version": 3
   },
   "file_extension": ".py",
   "mimetype": "text/x-python",
   "name": "python",
   "nbconvert_exporter": "python",
   "pygments_lexer": "ipython3",
   "version": "3.8.5"
  }
 },
 "nbformat": 4,
 "nbformat_minor": 4
}
