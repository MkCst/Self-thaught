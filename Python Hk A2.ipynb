{
 "cells": [
  {
   "cell_type": "markdown",
   "source": [
    "# Strings"
   ],
   "metadata": {}
  },
  {
   "cell_type": "markdown",
   "source": [
    "## Swap case\n",
    "\n",
    "Se te da una cadena y tu tarea es intercambiar las mayúsculas y minúsculas. En otras palabras, convertir todas las letras minúsculas en mayúsculas y viceversa\n"
   ],
   "metadata": {}
  },
  {
   "cell_type": "code",
   "execution_count": 3,
   "source": [
    "# Usando las  inbuilt libraries\r\n",
    "cadena = \"HOLA Me llamo mike\"\r\n",
    "dir(cadena)\r\n",
    "print(cadena.swapcase())"
   ],
   "outputs": [
    {
     "output_type": "stream",
     "name": "stdout",
     "text": [
      "hola mE LLAMO MIKE\n"
     ]
    }
   ],
   "metadata": {}
  },
  {
   "cell_type": "code",
   "execution_count": 1,
   "source": [
    "# En caso de querer recordar las demas\r\n",
    "print(\"\".join([i.lower() if i.isupper() else i.upper() for i in input()]))"
   ],
   "outputs": [
    {
     "output_type": "stream",
     "name": "stdout",
     "text": [
      "mAÑANA sERa OtRO dIa\n"
     ]
    }
   ],
   "metadata": {}
  },
  {
   "cell_type": "code",
   "execution_count": 6,
   "source": [
    "# Sin hacer uso de los metodos islower, isupper\r\n",
    "def swap_case(s):\r\n",
    "    result = \"\"\r\n",
    "    for letter in s:\r\n",
    "        if letter == letter.upper():\r\n",
    "            result += letter.lower()\r\n",
    "        else:\r\n",
    "            result += letter.upper()\r\n",
    "    return result\r\n",
    "\r\n",
    "print(swap_case(\"mañana NOS VEMOS JEje adios\"))"
   ],
   "outputs": [
    {
     "output_type": "stream",
     "name": "stdout",
     "text": [
      "MAÑANA nos vemos jeJE ADIOS\n"
     ]
    }
   ],
   "metadata": {}
  },
  {
   "cell_type": "code",
   "execution_count": 7,
   "source": [
    "# Usando el metodo lambda\r\n",
    "print(*map(lambda char:char.lower() if char.isupper() else char.upper(), input()), sep=\"\")"
   ],
   "outputs": [
    {
     "output_type": "stream",
     "name": "stdout",
     "text": [
      "Hola COmo estas mAÑANA nos vemos AYIOS\n",
      "hOLA coMO ESTAS Mañana NOS VEMOS ayios\n"
     ]
    }
   ],
   "metadata": {}
  },
  {
   "cell_type": "markdown",
   "source": [
    "## Metodos split y join\n",
    "\n",
    "El metodo `split` devuelve una lista de strings"
   ],
   "metadata": {}
  },
  {
   "cell_type": "code",
   "execution_count": 22,
   "source": [
    "# Solucion basica\r\n",
    "nombre = \"Miguel Angel Lopez Castillo\"\r\n",
    "lista_nombre = nombre.split(\" \")\r\n",
    "\r\n",
    "print(nombre)\r\n",
    "print(lista_nombre)\r\n",
    "\r\n",
    "nombre2 = \"-\".join(lista_nombre)+\"\\tdesde la lista\"\r\n",
    "print(nombre2)\r\n"
   ],
   "outputs": [
    {
     "output_type": "stream",
     "name": "stdout",
     "text": [
      "Miguel Angel Lopez Castillo\n",
      "['Miguel', 'Angel', 'Lopez', 'Castillo']\n",
      "Miguel-Angel-Lopez-Castillo\tdesde la lista\n"
     ]
    }
   ],
   "metadata": {}
  },
  {
   "cell_type": "code",
   "execution_count": 23,
   "source": [
    "# Solucion elegante\r\n",
    "cadena = input(\"Cadena: \")\r\n",
    "print(cadena.replace(\" \",\"-\"))"
   ],
   "outputs": [
    {
     "output_type": "stream",
     "name": "stdout",
     "text": [
      "Cadena: Sic parvis magna\n",
      "Sic-parvis-magna\n"
     ]
    }
   ],
   "metadata": {}
  },
  {
   "cell_type": "code",
   "execution_count": 25,
   "source": [
    "# Solucion elegante\r\n",
    "print(\"-\".join(input(\"Cadena: \").split(\" \")))"
   ],
   "outputs": [
    {
     "output_type": "stream",
     "name": "stdout",
     "text": [
      "Cadena: Intriguin possibilities\n",
      "Intriguin-possibilities\n"
     ]
    }
   ],
   "metadata": {}
  },
  {
   "cell_type": "markdown",
   "source": [
    "### Cual es tu nombre\n",
    "Te dan el nombre y el apellido de una persona en dos líneas diferentes. Tu tarea es leerlos e imprimir lo siguiente:\n",
    "\n",
    "_Hello `firstname lastname`! You just delved into python._"
   ],
   "metadata": {}
  },
  {
   "cell_type": "code",
   "execution_count": 65,
   "source": [
    "# Usando funciones\r\n",
    "def print_full_name(first, last):\r\n",
    "    full_name = first.split() + last.split()\r\n",
    "    full_name = \" \".join(full_name)\r\n",
    "    print(f\"Hello {full_name} You just delved into python!\")\r\n",
    "\r\n",
    "\r\n",
    "firstname = input(\"Nombre: \")\r\n",
    "lastname = input(\"Apellido: \")\r\n",
    "print_full_name(firstname, lastname)\r\n",
    "\r\n"
   ],
   "outputs": [
    {
     "output_type": "stream",
     "name": "stdout",
     "text": [
      "Nombre: Miguel Angel\n",
      "Apellido: Lopez Castillo\n",
      "Hello Miguel Angel Lopez Castillo You just delved into python!\n"
     ]
    }
   ],
   "metadata": {}
  },
  {
   "cell_type": "code",
   "execution_count": 53,
   "source": [
    "# Programa acortado\r\n",
    "\r\n",
    "print(f\"Hello {input('name: ')} {input('last name: ')} You just delved into python!\")"
   ],
   "outputs": [
    {
     "output_type": "stream",
     "name": "stdout",
     "text": [
      "name: miguel angel\n",
      "last name: lopez castillo\n",
      "Hello miguel angel lopez castillo You just delved into python!\n"
     ]
    }
   ],
   "metadata": {}
  },
  {
   "cell_type": "code",
   "execution_count": 3,
   "source": [
    "# Usando funciones\r\n",
    "def print_full_name(first, last):\r\n",
    "    full_name =[first, last]\r\n",
    "    print(*full_name)\r\n",
    "    print(*[_ for _ in full_name])\r\n",
    "\r\n",
    "\r\n",
    "firstname = input(\"Nombre:\\t\")\r\n",
    "lastname = input(\"Apellido:\\t\")\r\n",
    "print_full_name(firstname, lastname)"
   ],
   "outputs": [
    {
     "output_type": "stream",
     "name": "stdout",
     "text": [
      "Maria Fernanda Lugo Cortez\n",
      "Maria Fernanda Lugo Cortez\n"
     ]
    }
   ],
   "metadata": {}
  },
  {
   "cell_type": "markdown",
   "source": [
    "## Mutabilidad e inmutabilidad\n",
    "Lee una cadena dada, cambia el carácter en un índice dado y luego imprime la cadena modificada."
   ],
   "metadata": {}
  },
  {
   "cell_type": "code",
   "execution_count": 7,
   "source": [
    "def mutate_string(string, position, character):\r\n",
    "    return string[:position] + character + string[position+1:]\r\n",
    "\r\n",
    "s = input()\r\n",
    "i, c = input().split()\r\n",
    "s_new = mutate_string(s, int(i), c)\r\n",
    "print(s_new)"
   ],
   "outputs": [
    {
     "output_type": "stream",
     "name": "stdout",
     "text": [
      "Hola que tal como estas\n",
      "10 m\n",
      "Hola que tml como estas\n"
     ]
    }
   ],
   "metadata": {}
  },
  {
   "cell_type": "markdown",
   "source": [
    "## Buscando una string\r\n",
    "El usuario ingresara una cadena y una subcadena, se tiene que imprimir el numero de veces en que la subcadena se encuentra en la cadena principal.\r\n",
    "El recorrido de la cadena es de izquierda a derecha.\r\n",
    "\r\n"
   ],
   "metadata": {}
  },
  {
   "cell_type": "code",
   "execution_count": 10,
   "source": [
    "def search_substring(cadena, subcadena):\r\n",
    "    posiciones =[]\r\n",
    "    posicion =0\r\n",
    "    \r\n",
    "    while posicion != -1:\r\n",
    "        posicion  = cadena.find(subcadena, posicion)\r\n",
    "        if posicion != -1:\r\n",
    "            posiciones.append(posicion)\r\n",
    "            posicion += 1\r\n",
    "    return len(posiciones)\r\n",
    "    \r\n",
    "\r\n",
    "test ={\r\n",
    "    \"wrd1\":\"mi mama me mima\",\r\n",
    "    \"wrd2\":\"mama que amamanta\",\r\n",
    "    \"wrd3\":\"mi mama ama que la amamos\"\r\n",
    "}\r\n",
    "\r\n",
    "subcadena =[\"ama\", \"ma\"]\r\n",
    "\r\n",
    "#CON SOLAPAMIENTO\r\n",
    "print(\"CON SOLAPAMIENTO\")\r\n",
    "for clave  in test:\r\n",
    "    apariciones = [search_substring(test[clave], sub) for sub in subcadena]\r\n",
    "    print(apariciones)\r\n",
    "    \r\n",
    "\r\n",
    "#SIN SOLAPAMIENTO USANDO EL METODO COUNT\r\n",
    "print(\"\\n\\nSIN SOLAPAMIENTO USO DE METODO count\")\r\n",
    "for clave  in test:\r\n",
    "    apariciones = [test[clave].count(sub) for sub in subcadena]\r\n",
    "    print(apariciones)\r\n",
    "\r\n"
   ],
   "outputs": [
    {
     "output_type": "stream",
     "name": "stdout",
     "text": [
      "CON SOLAPAMIENTO\n",
      "[1, 3]\n",
      "[3, 4]\n",
      "[3, 4]\n",
      "\n",
      "\n",
      "SIN SOLAPAMIENTO USO DE METODO count\n",
      "[1, 3]\n",
      "[2, 4]\n",
      "[3, 4]\n"
     ]
    }
   ],
   "metadata": {}
  },
  {
   "cell_type": "code",
   "execution_count": 5,
   "source": [
    "# USANDO COMPRESION DE LISTAS------\r\n",
    "# BASADO EN:\r\n",
    "\"\"\"\r\n",
    "string, substring = (input().strip(), input().strip())\r\n",
    "print(sum([ 1 for i in range(len(string)-len(substring)+1) \r\n",
    "if string[i:i+len(substring)] == substring]))\r\n",
    "\"\"\"\r\n",
    "\r\n",
    "test ={\r\n",
    "    \"wrd1\":\"mi mama me mima\",\r\n",
    "    \"wrd2\":\"mama que amamanta\",\r\n",
    "    \"wrd3\":\"mi mama ama que la amamos\"\r\n",
    "}\r\n",
    "\r\n",
    "\r\n",
    "subcadena =[\"ama\", \"ma\"]\r\n",
    "\r\n",
    "coincidencias = []\r\n",
    "for clave in test:\r\n",
    "    for sub in subcadena:\r\n",
    "        cuenta = sum(\r\n",
    "            [1 for i in range(len(test[clave])-len(sub)+1)\r\n",
    "            if test[clave][i:i+len(sub)] == sub]\r\n",
    "        )\r\n",
    "        coincidencias.append(cuenta)\r\n",
    "\r\n",
    "print(coincidencias)"
   ],
   "outputs": [
    {
     "output_type": "stream",
     "name": "stdout",
     "text": [
      "[1, 3, 3, 4, 3, 4]\n"
     ]
    }
   ],
   "metadata": {}
  },
  {
   "cell_type": "markdown",
   "source": [
    "## Comprobacion de cadenas\r\n",
    "Python tiene métodos de validación de cadenas incorporados para los datos básicos. Puede comprobar si una cadena está compuesta por caracteres alfabéticos, caracteres alfanuméricos, dígitos, etc."
   ],
   "metadata": {}
  },
  {
   "cell_type": "code",
   "execution_count": 10,
   "source": [
    "# Comprobando cadenas\r\n",
    "## No se recomienda el uso de eval\r\n",
    "s = input()\r\n",
    "\r\n",
    "for test in (\"isalnum\", \"isalpha\", \"isdigit\", \"islower\"):\r\n",
    "    print(any(eval(\"c.\"+test+\"()\") for c in s))"
   ],
   "outputs": [
    {
     "output_type": "stream",
     "name": "stdout",
     "text": [
      "True\n",
      "True\n",
      "True\n",
      "True\n"
     ]
    }
   ],
   "metadata": {}
  },
  {
   "cell_type": "code",
   "execution_count": 12,
   "source": [
    "# Evitando el uso de eval\r\n",
    "\r\n",
    "s = input()\r\n",
    "for method in [str.isalnum, str.isalpha, str.isdigit, str.islower, str.isupper]:\r\n",
    "    print(any(method(c) for c in s))"
   ],
   "outputs": [
    {
     "output_type": "stream",
     "name": "stdout",
     "text": [
      "True\n",
      "True\n",
      "True\n",
      "True\n"
     ]
    }
   ],
   "metadata": {}
  },
  {
   "cell_type": "markdown",
   "source": [
    "## Envoltura de texto\r\n",
    "Se asigna una cadena `S` con un ancho `w`\r\n",
    "Envolver la cadena segun el tamaño de texto"
   ],
   "metadata": {}
  },
  {
   "cell_type": "code",
   "execution_count": 20,
   "source": [
    "test = \"ABCDEFGHIJKLIMNOQRSTUVWXYZ\"\r\n",
    "ancho = 4\r\n",
    "\r\n",
    "contador=0\r\n",
    "for i in test:\r\n",
    "    contador+=1\r\n",
    "    if contador%ancho==0:\r\n",
    "        i+=\"\\n\"\r\n",
    "    print(i,end=\"\")"
   ],
   "outputs": [
    {
     "output_type": "stream",
     "name": "stdout",
     "text": [
      "ABCD\n",
      "EFGH\n",
      "IJKL\n",
      "IMNO\n",
      "QRST\n",
      "UVWX\n",
      "YZ"
     ]
    }
   ],
   "metadata": {}
  },
  {
   "cell_type": "code",
   "execution_count": null,
   "source": [],
   "outputs": [],
   "metadata": {}
  }
 ],
 "metadata": {
  "kernelspec": {
   "name": "python3",
   "display_name": "Python 3.8.8 64-bit ('base': conda)"
  },
  "language_info": {
   "codemirror_mode": {
    "name": "ipython",
    "version": 3
   },
   "file_extension": ".py",
   "mimetype": "text/x-python",
   "name": "python",
   "nbconvert_exporter": "python",
   "pygments_lexer": "ipython3",
   "version": "3.8.8"
  },
  "interpreter": {
   "hash": "c469c999aae2bf6d578d6881606ced546d1546d312a4811937df5b24665ee8bc"
  }
 },
 "nbformat": 4,
 "nbformat_minor": 5
}