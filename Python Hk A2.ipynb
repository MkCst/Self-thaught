{
 "cells": [
  {
   "cell_type": "markdown",
   "id": "smooth-stranger",
   "metadata": {},
   "source": [
    "# Strings"
   ]
  },
  {
   "cell_type": "markdown",
   "id": "chronic-netherlands",
   "metadata": {},
   "source": [
    "## Swap case\n",
    "\n",
    "Se te da una cadena y tu tarea es intercambiar las mayúsculas y minúsculas. En otras palabras, convertir todas las letras minúsculas en mayúsculas y viceversa\n"
   ]
  },
  {
   "cell_type": "code",
   "execution_count": 3,
   "id": "economic-northwest",
   "metadata": {},
   "outputs": [
    {
     "name": "stdout",
     "output_type": "stream",
     "text": [
      "hola mE LLAMO MIKE\n"
     ]
    }
   ],
   "source": [
    "# Usando las  inbuilt libraries\n",
    "cadena = \"HOLA Me llamo mike\"\n",
    "dir(cadena)\n",
    "print(cadena.swapcase())"
   ]
  },
  {
   "cell_type": "code",
   "execution_count": 4,
   "id": "included-humanity",
   "metadata": {},
   "outputs": [
    {
     "name": "stdout",
     "output_type": "stream",
     "text": [
      "hoLA coMo esTas jEjE MañaNa nOS VEMos\n",
      "HOla COmO EStAS JeJe mAÑAnA Nos vemOS\n"
     ]
    }
   ],
   "source": [
    "# En caso de querer recordar las demas\n",
    "print(\"\".join([i.lower() if i.isupper() else i.upper() for i in input()]))"
   ]
  },
  {
   "cell_type": "code",
   "execution_count": 6,
   "id": "oriental-bracelet",
   "metadata": {},
   "outputs": [
    {
     "name": "stdout",
     "output_type": "stream",
     "text": [
      "MAÑANA nos vemos jeJE ADIOS\n"
     ]
    }
   ],
   "source": [
    "# Sin hacer uso de los metodos islower, isupper\n",
    "def swap_case(s):\n",
    "    result = \"\"\n",
    "    for letter in s:\n",
    "        if letter == letter.upper():\n",
    "            result += letter.lower()\n",
    "        else:\n",
    "            result += letter.upper()\n",
    "    return result\n",
    "\n",
    "print(swap_case(\"mañana NOS VEMOS JEje adios\"))"
   ]
  },
  {
   "cell_type": "code",
   "execution_count": 7,
   "id": "delayed-style",
   "metadata": {},
   "outputs": [
    {
     "name": "stdout",
     "output_type": "stream",
     "text": [
      "Hola COmo estas mAÑANA nos vemos AYIOS\n",
      "hOLA coMO ESTAS Mañana NOS VEMOS ayios\n"
     ]
    }
   ],
   "source": [
    "# Usando el metodo lambda\n",
    "print(*map(lambda char:char.lower() if char.isupper() else char.upper(), input()), sep=\"\")"
   ]
  },
  {
   "cell_type": "markdown",
   "id": "present-pathology",
   "metadata": {},
   "source": [
    "## Metodos split y join\n",
    "\n",
    "El metodo `split` devuelve una lista de strings"
   ]
  },
  {
   "cell_type": "code",
   "execution_count": 22,
   "id": "finished-montgomery",
   "metadata": {},
   "outputs": [
    {
     "name": "stdout",
     "output_type": "stream",
     "text": [
      "Miguel Angel Lopez Castillo\n",
      "['Miguel', 'Angel', 'Lopez', 'Castillo']\n",
      "Miguel-Angel-Lopez-Castillo\tdesde la lista\n"
     ]
    }
   ],
   "source": [
    "# Solucion basica\n",
    "nombre = \"Miguel Angel Lopez Castillo\"\n",
    "lista_nombre = nombre.split(\" \")\n",
    "\n",
    "print(nombre)\n",
    "print(lista_nombre)\n",
    "\n",
    "nombre2 = \"-\".join(lista_nombre)+\"\\tdesde la lista\"\n",
    "print(nombre2)\n"
   ]
  },
  {
   "cell_type": "code",
   "execution_count": 23,
   "id": "powered-expansion",
   "metadata": {},
   "outputs": [
    {
     "name": "stdout",
     "output_type": "stream",
     "text": [
      "Cadena: Sic parvis magna\n",
      "Sic-parvis-magna\n"
     ]
    }
   ],
   "source": [
    "# Solucion elegante\n",
    "cadena = input(\"Cadena: \")\n",
    "print(cadena.replace(\" \",\"-\"))"
   ]
  },
  {
   "cell_type": "code",
   "execution_count": 25,
   "id": "armed-thumb",
   "metadata": {},
   "outputs": [
    {
     "name": "stdout",
     "output_type": "stream",
     "text": [
      "Cadena: Intriguin possibilities\n",
      "Intriguin-possibilities\n"
     ]
    }
   ],
   "source": [
    "# Solucion elegante\n",
    "print(\"-\".join(input(\"Cadena: \").split(\" \")))"
   ]
  },
  {
   "cell_type": "markdown",
   "id": "surrounded-history",
   "metadata": {},
   "source": [
    "### Cual es tu nombre\n",
    "Te dan el nombre y el apellido de una persona en dos líneas diferentes. Tu tarea es leerlos e imprimir lo siguiente:\n",
    "\n",
    "_Hello `firstname lastname`! You just delved into python._"
   ]
  },
  {
   "cell_type": "code",
   "execution_count": 65,
   "id": "comprehensive-stack",
   "metadata": {},
   "outputs": [
    {
     "name": "stdout",
     "output_type": "stream",
     "text": [
      "Nombre: Miguel Angel\n",
      "Apellido: Lopez Castillo\n",
      "Hello Miguel Angel Lopez Castillo You just delved into python!\n"
     ]
    }
   ],
   "source": [
    "# Usando funciones\n",
    "def print_full_name(first, last):\n",
    "    full_name = first.split() + last.split()\n",
    "    full_name = \" \".join(full_name)\n",
    "    print(f\"Hello {full_name} You just delved into python!\")\n",
    "\n",
    "\n",
    "firstname = input(\"Nombre: \")\n",
    "lastname = input(\"Apellido: \")\n",
    "print_full_name(firstname, lastname)\n",
    "\n"
   ]
  },
  {
   "cell_type": "code",
   "execution_count": 53,
   "id": "referenced-blade",
   "metadata": {},
   "outputs": [
    {
     "name": "stdout",
     "output_type": "stream",
     "text": [
      "name: miguel angel\n",
      "last name: lopez castillo\n",
      "Hello miguel angel lopez castillo You just delved into python!\n"
     ]
    }
   ],
   "source": [
    "# Programa acortado\n",
    "\n",
    "print(f\"Hello {input('name: ')} {input('last name: ')} You just delved into python!\")"
   ]
  },
  {
   "cell_type": "code",
   "execution_count": 79,
   "id": "considered-aruba",
   "metadata": {},
   "outputs": [
    {
     "name": "stdout",
     "output_type": "stream",
     "text": [
      "Nombre:\tMiguel Angel\n",
      "Apellido:\tLopez Castillo+\n",
      "Miguel Angel Lopez Castillo+\n",
      "Miguel Angel Lopez Castillo+\n"
     ]
    }
   ],
   "source": [
    "# Usando funciones\n",
    "def print_full_name(first, last):\n",
    "    full_name =[first, last]\n",
    "    print(*full_name)\n",
    "    print(*[_ for _ in full_name])\n",
    "\n",
    "\n",
    "firstname = input(\"Nombre:\\t\")\n",
    "lastname = input(\"Apellido:\\t\")\n",
    "print_full_name(firstname, lastname)"
   ]
  },
  {
   "cell_type": "markdown",
   "id": "crude-instrumentation",
   "metadata": {},
   "source": [
    "## Mutabilidad e inmutabilidad\n",
    "Lee una cadena dada, cambia el carácter en un índice dado y luego imprime la cadena modificada."
   ]
  },
  {
   "cell_type": "code",
   "execution_count": 7,
   "id": "sonic-bachelor",
   "metadata": {},
   "outputs": [
    {
     "name": "stdout",
     "output_type": "stream",
     "text": [
      "Hola que tal como estas\n",
      "10 m\n",
      "Hola que tml como estas\n"
     ]
    }
   ],
   "source": [
    "def mutate_string(string, position, character):\n",
    "    return string[:position] + character + string[position+1:]\n",
    "\n",
    "s = input()\n",
    "i, c = input().split()\n",
    "s_new = mutate_string(s, int(i), c)\n",
    "print(s_new)"
   ]
  },
  {
   "cell_type": "markdown",
   "id": "a9aef5eb",
   "metadata": {},
   "source": [
    "## Buscando una string\n",
    "El usuario ingresara una cadena y una subcadena, se tiene que imprimir el numero de veces en que la subcadena se encuentra en la cadena principal.\n",
    "El recorrido de la cadena es de izquierda a derecha.\n",
    "\n"
   ]
  },
  {
   "cell_type": "code",
   "execution_count": 10,
   "id": "a1d16c18",
   "metadata": {},
   "outputs": [
    {
     "name": "stdout",
     "output_type": "stream",
     "text": [
      "CON SOLAPAMIENTO\n",
      "[1, 3]\n",
      "[3, 4]\n",
      "[3, 4]\n",
      "\n",
      "\n",
      "SIN SOLAPAMIENTO USO DE METODO count\n",
      "[1, 3]\n",
      "[2, 4]\n",
      "[3, 4]\n"
     ]
    }
   ],
   "source": [
    "def search_substring(cadena, subcadena):\n",
    "    posiciones =[]\n",
    "    posicion =0\n",
    "    \n",
    "    while posicion != -1:\n",
    "        posicion  = cadena.find(subcadena, posicion)\n",
    "        if posicion != -1:\n",
    "            posiciones.append(posicion)\n",
    "            posicion += 1\n",
    "    return len(posiciones)\n",
    "    \n",
    "\n",
    "test ={\n",
    "    \"wrd1\":\"mi mama me mima\",\n",
    "    \"wrd2\":\"mama que amamanta\",\n",
    "    \"wrd3\":\"mi mama ama que la amamos\"\n",
    "}\n",
    "\n",
    "subcadena =[\"ama\", \"ma\"]\n",
    "\n",
    "#CON SOLAPAMIENTO\n",
    "print(\"CON SOLAPAMIENTO\")\n",
    "for clave  in test:\n",
    "    apariciones = [search_substring(test[clave], sub) for sub in subcadena]\n",
    "    print(apariciones)\n",
    "    \n",
    "\n",
    "#SIN SOLAPAMIENTO USANDO EL METODO COUNT\n",
    "print(\"\\n\\nSIN SOLAPAMIENTO USO DE METODO count\")\n",
    "for clave  in test:\n",
    "    apariciones = [test[clave].count(sub) for sub in subcadena]\n",
    "    print(apariciones)\n",
    "\n"
   ]
  },
  {
   "cell_type": "code",
   "execution_count": 25,
   "id": "a071cd04",
   "metadata": {},
   "outputs": [
    {
     "name": "stdout",
     "output_type": "stream",
     "text": [
      "1\n",
      "3\n",
      "3\n",
      "4\n",
      "3\n",
      "4\n"
     ]
    }
   ],
   "source": [
    "# USANDO COMPRESION DE LISTAS------\n",
    "# BASADO EN:\n",
    "\"\"\"\n",
    "string, substring = (input().strip(), input().strip())\n",
    "print(sum([ 1 for i in range(len(string)-len(substring)+1) \n",
    "if string[i:i+len(substring)] == substring]))\n",
    "\"\"\"\n",
    "\n",
    "test ={\n",
    "    \"wrd1\":\"mi mama me mima\",\n",
    "    \"wrd2\":\"mama que amamanta\",\n",
    "    \"wrd3\":\"mi mama ama que la amamos\"\n",
    "}\n",
    "\n",
    "\n",
    "subcadena =[\"ama\", \"ma\"]\n",
    "\n",
    "\n",
    "for clave in test:\n",
    "    for sub in subcadena:\n",
    "        cuenta = sum(\n",
    "            [1 for i in range(len(test[clave])-len(sub)+1)\n",
    "            if test[clave][i:i+len(sub)] == sub]\n",
    "        )\n",
    "        print(cuenta)\n",
    "    \n",
    "\n",
    "\n"
   ]
  },
  {
   "cell_type": "code",
   "execution_count": null,
   "id": "585883de",
   "metadata": {},
   "outputs": [],
   "source": []
  },
  {
   "cell_type": "code",
   "execution_count": null,
   "id": "65db2b66",
   "metadata": {},
   "outputs": [],
   "source": []
  },
  {
   "cell_type": "code",
   "execution_count": null,
   "id": "3737aefe",
   "metadata": {},
   "outputs": [],
   "source": []
  },
  {
   "cell_type": "code",
   "execution_count": null,
   "id": "driven-barrel",
   "metadata": {},
   "outputs": [],
   "source": []
  }
 ],
 "metadata": {
  "kernelspec": {
   "display_name": "Python 3",
   "language": "python",
   "name": "python3"
  },
  "language_info": {
   "codemirror_mode": {
    "name": "ipython",
    "version": 3
   },
   "file_extension": ".py",
   "mimetype": "text/x-python",
   "name": "python",
   "nbconvert_exporter": "python",
   "pygments_lexer": "ipython3",
   "version": "3.8.8"
  }
 },
 "nbformat": 4,
 "nbformat_minor": 5
}
