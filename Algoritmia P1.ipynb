{
 "cells": [
  {
   "cell_type": "markdown",
   "metadata": {},
   "source": [
    "# Algoritmia"
   ]
  },
  {
   "cell_type": "markdown",
   "metadata": {},
   "source": [
    "## Algoritmos de busqueda"
   ]
  },
  {
   "cell_type": "code",
   "execution_count": 1,
   "metadata": {},
   "outputs": [
    {
     "output_type": "stream",
     "name": "stdout",
     "text": [
      "[14, 29, 4, 97, 53, 54, 149, 147, 84, 12, 10, 42, 90, 40, 28, 148, 121, 70, 133, 27, 13, 8, 112, 121, 107, 42, 35, 63, 99, 39]\nEl elemento 25 no esta en la lista \n"
     ]
    }
   ],
   "source": [
    "# Busqueda lineal\n",
    "\n",
    "from random import randint\n",
    "\n",
    "def busqueda_lineal(lista, objetivo):\n",
    "    match = False\n",
    "    for i in lista:\n",
    "        if i == objetivo:\n",
    "            match = True\n",
    "            break\n",
    "    return match\n",
    "\n",
    "\n",
    "size = int(input(\"Tamaño de la lista: \"))\n",
    "objetivo = int(input(\"Que numero quieres encontrar: \"))\n",
    "\n",
    "lista = [randint(1,150) for _ in range(size)]\n",
    "\n",
    "print(lista)\n",
    "encontrado = busqueda_lineal(lista, objetivo)\n",
    "print(f\"El elemento {objetivo} {'esta' if encontrado else 'no esta'} en la lista \")"
   ]
  },
  {
   "cell_type": "code",
   "execution_count": 19,
   "metadata": {},
   "outputs": [
    {
     "output_type": "stream",
     "name": "stdout",
     "text": [
      "[1, 3, 17, 20, 23, 33, 34, 35, 38, 40, 46, 53, 60, 61, 61, 73, 78, 79, 84, 99]\nEl elemento 15 no esta en la lista \n"
     ]
    }
   ],
   "source": [
    "# Busqueda binaria\n",
    "# Condicion la estructura ya debe estar ordenada\n",
    "\n",
    "from random import randint\n",
    "\n",
    "def busqueda_binaria(lista, inicio, fin, target):\n",
    "    if inicio > fin or (lista[inicio] > target or lista[fin - 1] < target ):\n",
    "        return False\n",
    "    mitad = (inicio + fin )//2\n",
    "    \n",
    "    if lista[mitad] == target:\n",
    "        return True\n",
    "    elif lista[mitad] < target:\n",
    "        return busqueda_binaria(lista, mitad + 1, fin, target)\n",
    "    else:\n",
    "        return busqueda_binaria(lista, inicio, mitad - 1, target)\n",
    "\n",
    "\n",
    "\n",
    "size = int(input(\"Tamaño de la lista: \"))\n",
    "objetivo = int(input(\"Que numero quieres encontrar: \"))\n",
    "\n",
    "lista = sorted([randint(1,100) for _ in range(size)])\n",
    "\n",
    "print(lista)\n",
    "encontrado = busqueda_binaria(lista, 0, len(lista)-1, objetivo)\n",
    "print(f\"El elemento {objetivo} {'esta' if encontrado else 'no esta'} en la lista \")\n",
    "\n"
   ]
  },
  {
   "source": [
    "## Algoritmos de ordenamiento"
   ],
   "cell_type": "markdown",
   "metadata": {}
  },
  {
   "source": [
    "# Ordenamiento por insercion\n",
    "# Complejidad n^2\n",
    "from random import randint\n",
    "\n",
    "def sort_insercion(lista):\n",
    "    for i in range(0, len(lista)):\n",
    "        v_actual = lista[i]\n",
    "        p_actual = i\n",
    "        \n",
    "        while p_actual > 0 and lista[p_actual - 1] > v_actual:\n",
    "            lista[p_actual] = lista[p_actual - 1]\n",
    "            p_actual -= 1\n",
    "        lista[p_actual] = v_actual\n",
    "    return lista\n",
    "\n",
    "size = int(input(\"Tamaño de la lista a ordenar: \"))\n",
    "lista = [randint(1,200) for _ in range(size)]\n",
    "\n",
    "print(\"Lista desordenada: \")\n",
    "print(lista)\n",
    "\n",
    "print(\"\\nLista ordenada\")\n",
    "lista = sort_insercion(lista)\n",
    "print(lista)"
   ],
   "cell_type": "code",
   "metadata": {},
   "execution_count": 3,
   "outputs": [
    {
     "output_type": "stream",
     "name": "stdout",
     "text": [
      "Lista desordenada: \n[6, 79, 186, 194, 175, 8, 38, 37, 186, 101, 83, 190, 92, 21, 91]\n\nLista ordenada\n[6, 8, 21, 37, 38, 79, 83, 91, 92, 101, 175, 186, 186, 190, 194]\n"
     ]
    }
   ]
  },
  {
   "cell_type": "code",
   "execution_count": 2,
   "metadata": {},
   "outputs": [
    {
     "output_type": "stream",
     "name": "stdout",
     "text": [
      "Lista desordenada: \n[97, 67, 138, 108, 200, 180, 80, 61, 35, 22, 24, 163, 116, 35, 61]\n\nLista ordenada\n[22, 24, 35, 35, 61, 61, 67, 80, 97, 108, 116, 138, 163, 180, 200]\n"
     ]
    }
   ],
   "source": [
    "# Ordenamiento de burbuja\n",
    "\n",
    "# Complejidad n^2\n",
    "from random import randint\n",
    "\n",
    "def sort_bubble(lista):\n",
    "    n = len(lista)\n",
    "    for i in range(n):\n",
    "        for j in range(0, n - i - 1):\n",
    "            if lista[j]> lista[j+1]:\n",
    "                lista[j], lista[j + 1] = lista[j + 1], lista[j]\n",
    "    return lista\n",
    "\n",
    "size = int(input(\"Tamaño de la lista a ordenar: \"))\n",
    "lista = [randint(1,200) for _ in range(size)]\n",
    "\n",
    "print(\"Lista desordenada: \")\n",
    "print(lista)\n",
    "\n",
    "print(\"\\nLista ordenada\")\n",
    "lista = sort_bubble(lista)\n",
    "print(lista)"
   ]
  },
  {
   "cell_type": "code",
   "execution_count": 18,
   "metadata": {},
   "outputs": [
    {
     "output_type": "stream",
     "name": "stdout",
     "text": [
      "Lista desordenada: \n[169, 184, 141, 4, 94, 191, 11, 141, 197, 191, 151, 95, 72, 19, 200, 41, 145, 76, 128, 92]\n--------------------\n\nLista ordenada\n[4, 11, 19, 41, 72, 76, 92, 94, 95, 128, 141, 141, 145, 151, 169, 184, 191, 191, 197, 200]\n"
     ]
    }
   ],
   "source": [
    "# Implementacion mergesorts\n",
    "\n",
    "\n",
    "def merge(izquierda, derecha, general):\n",
    "    #Auxiliares\n",
    "    i=0\n",
    "    j=0\n",
    "    k=0\n",
    "    while i<len(izquierda) and j < len(derecha):\n",
    "        if izquierda[i] < derecha[j]:\n",
    "            general[k] = izquierda[i]\n",
    "            i+=1\n",
    "            k+=1\n",
    "        else:\n",
    "            general[k]= derecha[j]\n",
    "            j+=1\n",
    "            k+=1\n",
    "\n",
    "    while i < len(izquierda):\n",
    "        general[k] = izquierda[i]\n",
    "        i+=1\n",
    "        k+=1\n",
    "    while j < len(derecha):\n",
    "        general[k] = derecha[j]\n",
    "        j+=1\n",
    "        k+=1\n",
    "        \n",
    "        \n",
    "\n",
    "def mergesort(lista):\n",
    "    n = len(lista)\n",
    "    if n > 1: \n",
    "        medio = len(lista)//2\n",
    "        lista_izq = lista[:medio]\n",
    "        lista_der = lista[medio:]\n",
    "        mergesort(lista_izq)\n",
    "        mergesort(lista_der)\n",
    "        merge(lista_izq, lista_der, lista)\n",
    "\n",
    "\n",
    "size = int(input(\"Tamaño de la lista a ordenar: \"))\n",
    "lista = [randint(1,200) for _ in range(size)]\n",
    "\n",
    "print(\"Lista desordenada: \")\n",
    "print(lista)\n",
    "\n",
    "print(\"-\" * 20)\n",
    "\n",
    "print(\"\\nLista ordenada\")\n",
    "mergesort(lista)\n",
    "print(lista)\n"
   ]
  },
  {
   "cell_type": "code",
   "execution_count": null,
   "metadata": {},
   "outputs": [],
   "source": []
  }
 ],
 "metadata": {
  "kernelspec": {
   "name": "python3",
   "display_name": "Python 3.8.5 64-bit (conda)",
   "metadata": {
    "interpreter": {
     "hash": "a943dc03c518a544c66c9fe1d706c3e00fd4cf00b538b3fc6efd3c02fc5e4d46"
    }
   }
  },
  "language_info": {
   "codemirror_mode": {
    "name": "ipython",
    "version": 3
   },
   "file_extension": ".py",
   "mimetype": "text/x-python",
   "name": "python",
   "nbconvert_exporter": "python",
   "pygments_lexer": "ipython3",
   "version": "3.8.5-final"
  }
 },
 "nbformat": 4,
 "nbformat_minor": 4
}