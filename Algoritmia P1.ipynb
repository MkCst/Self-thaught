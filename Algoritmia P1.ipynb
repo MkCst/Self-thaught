{
 "cells": [
  {
   "cell_type": "markdown",
   "metadata": {},
   "source": [
    "# Algoritmos basicos"
   ]
  },
  {
   "cell_type": "markdown",
   "metadata": {},
   "source": [
    "## Busqueda lineal"
   ]
  },
  {
   "cell_type": "code",
   "execution_count": 1,
   "metadata": {},
   "outputs": [
    {
     "name": "stdout",
     "output_type": "stream",
     "text": [
      "[14, 29, 4, 97, 53, 54, 149, 147, 84, 12, 10, 42, 90, 40, 28, 148, 121, 70, 133, 27, 13, 8, 112, 121, 107, 42, 35, 63, 99, 39]\n",
      "El elemento 25 no esta en la lista \n"
     ]
    }
   ],
   "source": [
    "# Busqueda lineal\n",
    "\n",
    "from random import randint\n",
    "\n",
    "def busqueda_lineal(lista, objetivo):\n",
    "    match = False\n",
    "    for i in lista:\n",
    "        if i == objetivo:\n",
    "            match = True\n",
    "            break\n",
    "    return match\n",
    "\n",
    "\n",
    "size = int(input(\"Tamaño de la lista: \"))\n",
    "objetivo = int(input(\"Que numero quieres encontrar: \"))\n",
    "\n",
    "lista = [randint(1,150) for _ in range(size)]\n",
    "\n",
    "print(lista)\n",
    "encontrado = busqueda_lineal(lista, objetivo)\n",
    "print(f\"El elemento {objetivo} {'esta' if encontrado else 'no esta'} en la lista \")"
   ]
  },
  {
   "cell_type": "markdown",
   "metadata": {},
   "source": [
    "## Busqueda binaria modo iterativo"
   ]
  },
  {
   "cell_type": "code",
   "execution_count": 3,
   "metadata": {},
   "outputs": [
    {
     "name": "stdout",
     "output_type": "stream",
     "text": [
      "[4, 5, 9, 9, 13, 13, 15, 20, 24, 25]\n",
      "El elemento 8 no esta en la lista \n"
     ]
    }
   ],
   "source": [
    "# Busqueda binarias caso iterativo\n",
    "\n",
    "from random import randint\n",
    "\n",
    "def binary_search(lista, target):\n",
    "    low = 0\n",
    "    high = len(lista)-1\n",
    "    \n",
    "    while low <= high:\n",
    "        mid = (low + high)//2\n",
    "        guess = lista[mid]\n",
    "        if guess == target: #Se encontro el item\n",
    "            return True\n",
    "        if guess > target:\n",
    "            high = mid -1\n",
    "        else:\n",
    "            low = mid +1\n",
    "    return False\n",
    "\n",
    "lista = sorted([randint(1,25) for _ in range(10)])\n",
    "\n",
    "print(lista)\n",
    "target = 8\n",
    "encontrado = binary_search(lista,target)\n",
    "print(f\"El elemento {target} {'esta' if encontrado else 'no esta'} en la lista \")\n"
   ]
  },
  {
   "cell_type": "markdown",
   "metadata": {},
   "source": [
    "## Busqueda binaria usando recursion"
   ]
  },
  {
   "cell_type": "code",
   "execution_count": 19,
   "metadata": {},
   "outputs": [
    {
     "name": "stdout",
     "output_type": "stream",
     "text": [
      "[1, 3, 17, 20, 23, 33, 34, 35, 38, 40, 46, 53, 60, 61, 61, 73, 78, 79, 84, 99]\n",
      "El elemento 15 no esta en la lista \n"
     ]
    }
   ],
   "source": [
    "# Busqueda binaria\n",
    "# Condicion la estructura ya debe estar ordenada\n",
    "\n",
    "from random import randint\n",
    "\n",
    "def busqueda_binaria(lista, inicio, fin, target):\n",
    "    if inicio > fin or (lista[inicio] > target or lista[fin - 1] < target ):\n",
    "        return False\n",
    "    mitad = (inicio + fin )//2\n",
    "    \n",
    "    if lista[mitad] == target:\n",
    "        return True\n",
    "    elif lista[mitad] < target:\n",
    "        return busqueda_binaria(lista, mitad + 1, fin, target)\n",
    "    else:\n",
    "        return busqueda_binaria(lista, inicio, mitad - 1, target)\n",
    "\n",
    "\n",
    "\n",
    "size = int(input(\"Tamaño de la lista: \"))\n",
    "objetivo = int(input(\"Que numero quieres encontrar: \"))\n",
    "\n",
    "lista = sorted([randint(1,100) for _ in range(size)])\n",
    "\n",
    "print(lista)\n",
    "encontrado = busqueda_binaria(lista, 0, len(lista)-1, objetivo)\n",
    "print(f\"El elemento {objetivo} {'esta' if encontrado else 'no esta'} en la lista \")\n",
    "\n"
   ]
  },
  {
   "cell_type": "markdown",
   "metadata": {},
   "source": [
    "# Algoritmos de ordenamiento"
   ]
  },
  {
   "cell_type": "markdown",
   "metadata": {},
   "source": [
    "## Ordenamiento por seleccion (Selectionsort)"
   ]
  },
  {
   "cell_type": "code",
   "execution_count": 6,
   "metadata": {},
   "outputs": [
    {
     "name": "stdin",
     "output_type": "stream",
     "text": [
      "Tamaño de la lista a ordenar:  10\n"
     ]
    },
    {
     "name": "stdout",
     "output_type": "stream",
     "text": [
      "Lista desordenada: \n",
      "[172, 38, 52, 18, 150, 8, 54, 134, 98, 15]\n",
      "\n",
      "Lista ordenada\n",
      "[8, 15, 18, 38, 52, 54, 98, 134, 150, 172]\n"
     ]
    }
   ],
   "source": [
    "# Complejidad n^2\n",
    "from random import randint\n",
    "\n",
    "\n",
    "def findSmallest(arreglo):\n",
    "    smallest = arreglo[0] #Almacena el valor mas pequeño\n",
    "    smallest_index = 0 # Almacena el indice del valor mas pequeño\n",
    "    for i in range(1, len(arreglo)):\n",
    "        if arreglo[i] < smallest:\n",
    "            smallest = arreglo[i]\n",
    "            smallest_index = i\n",
    "    return smallest_index\n",
    "    \n",
    "def selectionSort(arreglo):\n",
    "    new_arr = [arreglo.pop(findSmallest(arreglo)) for _ in range(len(arreglo))]\n",
    "    return new_arr\n",
    "\"\"\"\n",
    "    for _ in range(len(arreglo)):\n",
    "        smallest = findSmallest(arreglo)\n",
    "        new_arr.append(arreglo.pop(smallest))\n",
    "    return new_arr\"\"\"\n",
    "    \n",
    "\n",
    "\n",
    "size = int(input(\"Tamaño de la lista a ordenar: \"))\n",
    "lista = [randint(1,200) for _ in range(size)]\n",
    "\n",
    "print(\"Lista desordenada: \")\n",
    "print(lista)\n",
    "\n",
    "print(\"\\nLista ordenada\")\n",
    "lista = selectionSort(lista)\n",
    "print(lista)\n",
    "            \n",
    "\n"
   ]
  },
  {
   "cell_type": "markdown",
   "metadata": {},
   "source": [
    "## Ordenamiento por insercion"
   ]
  },
  {
   "cell_type": "code",
   "execution_count": 3,
   "metadata": {},
   "outputs": [
    {
     "name": "stdout",
     "output_type": "stream",
     "text": [
      "Lista desordenada: \n",
      "[6, 79, 186, 194, 175, 8, 38, 37, 186, 101, 83, 190, 92, 21, 91]\n",
      "\n",
      "Lista ordenada\n",
      "[6, 8, 21, 37, 38, 79, 83, 91, 92, 101, 175, 186, 186, 190, 194]\n"
     ]
    }
   ],
   "source": [
    "# Ordenamiento por insercion\n",
    "# Complejidad n^2\n",
    "from random import randint\n",
    "\n",
    "def sort_insercion(lista):\n",
    "    for i in range(0, len(lista)):\n",
    "        v_actual = lista[i]\n",
    "        p_actual = i\n",
    "        \n",
    "        while p_actual > 0 and lista[p_actual - 1] > v_actual:\n",
    "            lista[p_actual] = lista[p_actual - 1]\n",
    "            p_actual -= 1\n",
    "        lista[p_actual] = v_actual\n",
    "    return lista\n",
    "\n",
    "size = int(input(\"Tamaño de la lista a ordenar: \"))\n",
    "lista = [randint(1,200) for _ in range(size)]\n",
    "\n",
    "print(\"Lista desordenada: \")\n",
    "print(lista)\n",
    "\n",
    "print(\"\\nLista ordenada\")\n",
    "lista = sort_insercion(lista)\n",
    "print(lista)"
   ]
  },
  {
   "cell_type": "markdown",
   "metadata": {},
   "source": [
    "## Ordenamiento de burbuja (bubblesort)"
   ]
  },
  {
   "cell_type": "code",
   "execution_count": 2,
   "metadata": {},
   "outputs": [
    {
     "name": "stdout",
     "output_type": "stream",
     "text": [
      "Lista desordenada: \n",
      "[97, 67, 138, 108, 200, 180, 80, 61, 35, 22, 24, 163, 116, 35, 61]\n",
      "\n",
      "Lista ordenada\n",
      "[22, 24, 35, 35, 61, 61, 67, 80, 97, 108, 116, 138, 163, 180, 200]\n"
     ]
    }
   ],
   "source": [
    "# Ordenamiento de burbuja\n",
    "\n",
    "# Complejidad n^2\n",
    "from random import randint\n",
    "\n",
    "def sort_bubble(lista):\n",
    "    n = len(lista)\n",
    "    for i in range(n):\n",
    "        for j in range(0, n - i - 1):\n",
    "            if lista[j]> lista[j+1]:\n",
    "                lista[j], lista[j + 1] = lista[j + 1], lista[j]\n",
    "    return lista\n",
    "\n",
    "size = int(input(\"Tamaño de la lista a ordenar: \"))\n",
    "lista = [randint(1,200) for _ in range(size)]\n",
    "\n",
    "print(\"Lista desordenada: \")\n",
    "print(lista)\n",
    "\n",
    "print(\"\\nLista ordenada\")\n",
    "lista = sort_bubble(lista)\n",
    "print(lista)"
   ]
  },
  {
   "cell_type": "markdown",
   "metadata": {},
   "source": [
    "## Ordenamiento rapido (quicksort)"
   ]
  },
  {
   "cell_type": "code",
   "execution_count": 2,
   "metadata": {},
   "outputs": [
    {
     "name": "stdout",
     "output_type": "stream",
     "text": [
      "[1, 137, 112, 137, 131, 62, 68, 116, 20, 50, 52, 82, 139, 47, 35, 101, 51, 43, 109, 62, 136, 97, 71, 48, 3]\n",
      "[1, 3, 20, 35, 43, 47, 48, 50, 51, 52, 62, 62, 68, 71, 82, 97, 101, 109, 112, 116, 131, 136, 137, 137, 139]\n"
     ]
    }
   ],
   "source": [
    "from random import randint\n",
    "\n",
    "def quicksort_r(arreglo):\n",
    "    if len(arreglo)<2:\n",
    "        return arreglo #Caso base\n",
    "    else:\n",
    "        pivot = arreglo[0]\n",
    "        less = [i for i in arreglo[1:] if i<=pivot]\n",
    "        greater = [i for i in arreglo[1:] if i>pivot]\n",
    "        return quicksort_r(less) + [pivot] + quicksort_r(greater)\n",
    "\n",
    "    \n",
    "arreglo = [randint(1,150) for i in range(25)]\n",
    "\n",
    "print(arreglo)\n",
    "print(quicksort_r(arreglo))"
   ]
  },
  {
   "cell_type": "markdown",
   "metadata": {},
   "source": [
    "## Ordenamiento por mezcla (mergesort)"
   ]
  },
  {
   "cell_type": "code",
   "execution_count": 4,
   "metadata": {},
   "outputs": [
    {
     "name": "stdin",
     "output_type": "stream",
     "text": [
      "Tamaño de la lista a ordenar:  20\n"
     ]
    },
    {
     "name": "stdout",
     "output_type": "stream",
     "text": [
      "Lista desordenada: \n",
      "[190, 90, 94, 143, 3, 42, 192, 179, 135, 104, 44, 152, 50, 90, 74, 102, 146, 153, 162, 173]\n",
      "--------------------------------------------------\n",
      "\n",
      "Lista ordenada\n",
      "[3, 42, 44, 50, 74, 90, 90, 94, 102, 104, 135, 143, 146, 152, 153, 162, 173, 179, 190, 192]\n"
     ]
    }
   ],
   "source": [
    "# Implementacion mergesorts\n",
    "# Complejidad nlog(n)\n",
    "\n",
    "def merge(izquierda, derecha, general):\n",
    "    #Auxiliares\n",
    "    i=0\n",
    "    j=0\n",
    "    k=0\n",
    "    while i<len(izquierda) and j < len(derecha):\n",
    "        if izquierda[i] < derecha[j]:\n",
    "            general[k] = izquierda[i]\n",
    "            i+=1\n",
    "            k+=1\n",
    "        else:\n",
    "            general[k]= derecha[j]\n",
    "            j+=1\n",
    "            k+=1\n",
    "\n",
    "    while i < len(izquierda):\n",
    "        general[k] = izquierda[i]\n",
    "        i+=1\n",
    "        k+=1\n",
    "    while j < len(derecha):\n",
    "        general[k] = derecha[j]\n",
    "        j+=1\n",
    "        k+=1\n",
    "        \n",
    "        \n",
    "\n",
    "def mergesort(lista):\n",
    "    n = len(lista)\n",
    "    if n > 1: \n",
    "        medio = len(lista)//2\n",
    "        lista_izq = lista[:medio]\n",
    "        lista_der = lista[medio:]\n",
    "        mergesort(lista_izq)\n",
    "        mergesort(lista_der)\n",
    "        merge(lista_izq, lista_der, lista)\n",
    "\n",
    "\n",
    "size = int(input(\"Tamaño de la lista a ordenar: \"))\n",
    "lista = [randint(1,200) for _ in range(size)]\n",
    "\n",
    "print(\"Lista desordenada: \")\n",
    "print(lista)\n",
    "\n",
    "print(\"-\" * 50)\n",
    "\n",
    "print(\"\\nLista ordenada\")\n",
    "mergesort(lista)\n",
    "print(lista)\n"
   ]
  },
  {
   "cell_type": "code",
   "execution_count": null,
   "metadata": {},
   "outputs": [],
   "source": []
  }
 ],
 "metadata": {
  "kernelspec": {
   "display_name": "Python 3",
   "language": "python",
   "name": "python3"
  },
  "language_info": {
   "codemirror_mode": {
    "name": "ipython",
    "version": 3
   },
   "file_extension": ".py",
   "mimetype": "text/x-python",
   "name": "python",
   "nbconvert_exporter": "python",
   "pygments_lexer": "ipython3",
   "version": "3.8.5"
  }
 },
 "nbformat": 4,
 "nbformat_minor": 4
}
