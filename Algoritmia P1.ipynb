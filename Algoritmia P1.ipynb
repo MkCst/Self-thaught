{
 "cells": [
  {
   "cell_type": "markdown",
   "metadata": {},
   "source": [
    "# Algoritmia"
   ]
  },
  {
   "cell_type": "markdown",
   "metadata": {},
   "source": [
    "## Algoritmos de busqueda"
   ]
  },
  {
   "cell_type": "code",
   "execution_count": 1,
   "metadata": {},
   "outputs": [
    {
     "output_type": "stream",
     "name": "stdout",
     "text": [
      "[14, 29, 4, 97, 53, 54, 149, 147, 84, 12, 10, 42, 90, 40, 28, 148, 121, 70, 133, 27, 13, 8, 112, 121, 107, 42, 35, 63, 99, 39]\nEl elemento 25 no esta en la lista \n"
     ]
    }
   ],
   "source": [
    "# Busqueda lineal\n",
    "\n",
    "from random import randint\n",
    "\n",
    "def busqueda_lineal(lista, objetivo):\n",
    "    match = False\n",
    "    for i in lista:\n",
    "        if i == objetivo:\n",
    "            match = True\n",
    "            break\n",
    "    return match\n",
    "\n",
    "\n",
    "size = int(input(\"Tamaño de la lista: \"))\n",
    "objetivo = int(input(\"Que numero quieres encontrar: \"))\n",
    "\n",
    "lista = [randint(1,150) for _ in range(size)]\n",
    "\n",
    "print(lista)\n",
    "encontrado = busqueda_lineal(lista, objetivo)\n",
    "print(f\"El elemento {objetivo} {'esta' if encontrado else 'no esta'} en la lista \")"
   ]
  },
  {
   "cell_type": "code",
   "execution_count": 19,
   "metadata": {},
   "outputs": [
    {
     "output_type": "stream",
     "name": "stdout",
     "text": [
      "[1, 3, 17, 20, 23, 33, 34, 35, 38, 40, 46, 53, 60, 61, 61, 73, 78, 79, 84, 99]\nEl elemento 15 no esta en la lista \n"
     ]
    }
   ],
   "source": [
    "# Busqueda binaria\n",
    "# Condicion la estructura ya debe estar ordenada\n",
    "\n",
    "from random import randint\n",
    "\n",
    "def busqueda_binaria(lista, inicio, fin, target):\n",
    "    if inicio > fin or (lista[inicio] > target or lista[fin - 1] < target ):\n",
    "        return False\n",
    "    mitad = (inicio + fin )//2\n",
    "    \n",
    "    if lista[mitad] == target:\n",
    "        return True\n",
    "    elif lista[mitad] < target:\n",
    "        return busqueda_binaria(lista, mitad + 1, fin, target)\n",
    "    else:\n",
    "        return busqueda_binaria(lista, inicio, mitad - 1, target)\n",
    "\n",
    "\n",
    "\n",
    "size = int(input(\"Tamaño de la lista: \"))\n",
    "objetivo = int(input(\"Que numero quieres encontrar: \"))\n",
    "\n",
    "lista = sorted([randint(1,100) for _ in range(size)])\n",
    "\n",
    "print(lista)\n",
    "encontrado = busqueda_binaria(lista, 0, len(lista)-1, objetivo)\n",
    "print(f\"El elemento {objetivo} {'esta' if encontrado else 'no esta'} en la lista \")\n",
    "\n"
   ]
  },
  {
   "cell_type": "code",
   "execution_count": null,
   "metadata": {},
   "outputs": [],
   "source": []
  }
 ],
 "metadata": {
  "kernelspec": {
   "name": "python3",
   "display_name": "Python 3.8.5 64-bit (conda)",
   "metadata": {
    "interpreter": {
     "hash": "a943dc03c518a544c66c9fe1d706c3e00fd4cf00b538b3fc6efd3c02fc5e4d46"
    }
   }
  },
  "language_info": {
   "codemirror_mode": {
    "name": "ipython",
    "version": 3
   },
   "file_extension": ".py",
   "mimetype": "text/x-python",
   "name": "python",
   "nbconvert_exporter": "python",
   "pygments_lexer": "ipython3",
   "version": "3.8.5-final"
  }
 },
 "nbformat": 4,
 "nbformat_minor": 4
}