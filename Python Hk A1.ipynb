{
 "cells": [
  {
   "cell_type": "markdown",
   "metadata": {},
   "source": [
    "# Retos basicos python"
   ]
  },
  {
   "cell_type": "markdown",
   "metadata": {},
   "source": [
    "## Contenido de notebook\n",
    "*__Este notebook contine soluciones ingeniosas a retos sobre:__*\n",
    "* Introduccion\n",
    "* Tipo de datos basicos\n",
    "\n"
   ]
  },
  {
   "cell_type": "markdown",
   "metadata": {},
   "source": [
    "## Aplicacion de if - else\n",
    "**Aplicacion if - else**\n",
    "ask\n",
    "Given an integer, , perform the following conditional actions:\n",
    "\n",
    "* If n is odd, print Weird\n",
    "* If n is even and in the inclusive range of 2 to 5, print Not Weird\n",
    "* If n is even and in the inclusive range of 6 to 20, print Weird\n",
    "* If n is even and greater than 20, print Not Weird"
   ]
  },
  {
   "cell_type": "code",
   "execution_count": 1,
   "metadata": {},
   "outputs": [
    {
     "name": "stdout",
     "output_type": "stream",
     "text": [
      "1:\tWeird\n",
      "2:\tNo weird\n",
      "3:\tWeird\n",
      "4:\tNo weird\n",
      "6:\tWeird\n",
      "8:\tWeird\n",
      "25:\tNo weird\n"
     ]
    }
   ],
   "source": [
    "test = [1, 2, 3, 4, 6, 8, 25]\n",
    "\n",
    "check = {True: \"No weird\", False: \"Weird\"}\n",
    "\n",
    "for i in test:\n",
    "    print(f\"{i}:\\t{check[i%2==0 and (i in range(2,6)) or i>20]}\")"
   ]
  },
  {
   "cell_type": "markdown",
   "metadata": {},
   "source": [
    "## Operadores aritmeticos\n",
    "\n",
    "The provided code stub reads two integers and . Add code to print three lines where:\n",
    "\n",
    "* The first line contains the sum of the two numbers.\n",
    "* The second line contains the difference of the two numbers (first - second).\n",
    "* The third line contains the product of the two numbers."
   ]
  },
  {
   "cell_type": "code",
   "execution_count": 17,
   "metadata": {},
   "outputs": [
    {
     "name": "stdout",
     "output_type": "stream",
     "text": [
      "5\n",
      "1\n",
      "6\n",
      "1\n",
      "1.5\n"
     ]
    }
   ],
   "source": [
    "test ={\"a\":3, \"b\":2}\n",
    "\n",
    "print(test[\"a\"] + test[\"b\"])\n",
    "print(test[\"a\"] - test[\"b\"])\n",
    "print(test[\"a\"] * test[\"b\"])\n",
    "print(test[\"a\"] // test[\"b\"])\n",
    "print(test[\"a\"] / test[\"b\"])\n",
    "    "
   ]
  },
  {
   "cell_type": "markdown",
   "metadata": {},
   "source": [
    "## Loops\n",
    "\n",
    "The provided code stub reads and integer, n, For all non-negative integers $i<n$ print $i^2$"
   ]
  },
  {
   "cell_type": "code",
   "execution_count": 19,
   "metadata": {},
   "outputs": [
    {
     "name": "stdout",
     "output_type": "stream",
     "text": [
      "Ingrese un elemento: 10\n",
      "0 1 4 9 16 25 36 49 64 81\n"
     ]
    }
   ],
   "source": [
    "\n",
    "test = int(input(\"Ingrese un elemento: \"))\n",
    "\n",
    "print(*[num**2 for num in range(test)], sep=\" \")\n"
   ]
  },
  {
   "cell_type": "markdown",
   "metadata": {},
   "source": [
    "## Determinar si el año es biciesto\n",
    "**El año es biciesto sí**\n",
    "\n",
    "Se utilizan tres condiciones para identificar los años \n",
    "bisiestos:\n",
    "\n",
    "* El año puede ser dividido por igual entre 4, es un año  bisiesto, a menos que:\n",
    "* El año puede ser dividido por igual entre 100, \n",
    "* NO es un año bisiesto, a menos que:\n",
    "    * El año también es divisible por igual entre 400. \n",
    "    * Entonces es un año bisiesto.\n",
    "\n"
   ]
  },
  {
   "cell_type": "code",
   "execution_count": 22,
   "metadata": {},
   "outputs": [
    {
     "name": "stdout",
     "output_type": "stream",
     "text": [
      "Normal\n",
      "Normal\n",
      "Normal\n",
      "Biciesto\n",
      "Normal\n",
      "Normal\n",
      "Normal\n"
     ]
    }
   ],
   "source": [
    "def is_leap(year):\n",
    "    return year%4==0 and (year%400==0 or year%100!=0)\n",
    "\n",
    "test =[1990, 1997, 2021, 2020, 1986, 2010, 2035]\n",
    "check ={True: \"Biciesto\", False:\"Normal\"}\n",
    "\n",
    "for i in test:\n",
    "    print(check[is_leap(i)])"
   ]
  },
  {
   "cell_type": "markdown",
   "metadata": {},
   "source": [
    "## Imprimiendo valores\n",
    "**Funcion de impresion** \\\n",
    "**Unpack of values**\n",
    "\n",
    "The included code stub will read an integer, $n$, from STDIN.\n",
    "\n",
    "Without using any string methods, try to print the following:\n",
    "$123...n$\n",
    "\n",
    "Note that \"...\" represents the consecutive values in between."
   ]
  },
  {
   "cell_type": "code",
   "execution_count": 1,
   "metadata": {},
   "outputs": [
    {
     "name": "stdout",
     "output_type": "stream",
     "text": [
      "Numero: 10\n",
      "1 2 3 4 5 6 7 8 9 10\n"
     ]
    }
   ],
   "source": [
    "n = int(input(\"Numero: \"))\n",
    "print(*[ _ for _ in range(1,n+1)], sep=\" \")\n"
   ]
  },
  {
   "cell_type": "code",
   "execution_count": 3,
   "metadata": {},
   "outputs": [
    {
     "name": "stdout",
     "output_type": "stream",
     "text": [
      "Numero: 10\n",
      "1 2 3 4 5 6 7 8 9 10\n"
     ]
    }
   ],
   "source": [
    "#otra solucion sin crear una lista\n",
    "print(*range(1, int(input(\"Numero: \"))+1), sep=\" \")"
   ]
  },
  {
   "cell_type": "markdown",
   "metadata": {},
   "source": [
    "## Compresion de listas\n",
    "**Compresion de listas**\n",
    "\n",
    "Se dan tres enteros $x,y,z$ que representan las dimensiones de un cuboide junto con un entero $n$. Imprime una lista de todas las coordenadas posibles dadas por $i,j,k$ en una cuadrícula 3D donde la suma de $i+j+k$ no es igual a $n$. \n",
    "\n",
    "Aquí, $0<=i<=x;0<=j<=y;0<=k<=z; $\n",
    "\n",
    "Por favor, utiliza la comprension de lista en lugar de los bucles múltiples, como ejercicio de aprendizaje.\n"
   ]
  },
  {
   "cell_type": "code",
   "execution_count": 2,
   "metadata": {},
   "outputs": [
    {
     "name": "stdout",
     "output_type": "stream",
     "text": [
      "Ingrese numero:1\n",
      "Ingrese numero:1\n",
      "Ingrese numero:1\n",
      "Ingrese numero:2\n",
      "[[0, 0, 0], [0, 0, 1], [0, 1, 0], [1, 0, 0], [1, 1, 1]]\n"
     ]
    }
   ],
   "source": [
    "#Compresion de listas\n",
    "\n",
    "x,y,z,n =(int(input(\"Ingrese numero:\")) for _ in range(4))\n",
    "print([[a,b,c] for a in range(x+1) \n",
    "       for b in range(y+1) \n",
    "       for c in range(z+1) if a+b+c!=n])"
   ]
  },
  {
   "cell_type": "markdown",
   "metadata": {},
   "source": [
    "**Encontrar la puntuacion del corredor**\n",
    "\n",
    "Dada la hoja de puntuaciones de los participantes se le pide que encuentre la puntuación del segundo clasificado. \n",
    "Se te dan $n$ puntuaciones. Guárdalas en una lista y encuentra la puntuación del subcampeón."
   ]
  },
  {
   "cell_type": "code",
   "execution_count": 7,
   "metadata": {},
   "outputs": [
    {
     "name": "stdout",
     "output_type": "stream",
     "text": [
      "Puntajes totales:  [6, 23, 45, 18, 17, 17, 6, 21, 3, 27]\n",
      "Puntajes ordenados [3, 6, 17, 18, 21, 23, 27, 45]\n",
      "Primer lugar 45\n",
      "Segundo lugar 27\n"
     ]
    }
   ],
   "source": [
    "\n",
    "#Muestra la segunda puntuacion\n",
    "from random import randint\n",
    "\n",
    "puntaje = [randint(1,50) for _ in range(10)]\n",
    "\n",
    "\n",
    "print(\"Puntajes totales: \",puntaje)\n",
    "#Lo convierte en un conjunto para eliminar puntajes repetidos\n",
    "#Lo vuelve a convertir a una lista ordenada\n",
    "print(\"Puntajes ordenados\",sorted(set(puntaje))) \n",
    "\n",
    "\n",
    "print(\"Primer lugar\",sorted(set(puntaje))[-1]) \n",
    "print(\"Segundo lugar\",sorted(set(puntaje))[-2]) \n",
    "\n",
    "\n"
   ]
  },
  {
   "cell_type": "markdown",
   "metadata": {},
   "source": [
    "**Encontrando el porcentaje**\n",
    "\n",
    "_Uso de diccionarios_\n",
    "\n",
    "Este código leerá un diccionario que contiene pares clave/valor de nombre:[notas] para una lista de estudiantes. Imprime la media de la matriz de marcas para el nombre del estudiante proporcionado, mostrando 2 lugares después del decimal"
   ]
  },
  {
   "cell_type": "code",
   "execution_count": 26,
   "metadata": {},
   "outputs": [
    {
     "name": "stdout",
     "output_type": "stream",
     "text": [
      "Numero de estudiantes: 2\n",
      "Nombre y calificaciones: Fernando 10 9 8 7 6 10 10\n",
      "Nombre y calificaciones: Mike 10 9 8 7 7 10 8 \n",
      "Estudiante a consultar: Mike\n",
      "Promedio: 8.43\n"
     ]
    }
   ],
   "source": [
    "n = int(input(\"Numero de estudiantes: \"))\n",
    "students_marks = {}\n",
    "\n",
    "for _ in range(n):\n",
    "    name, *line = input(\"Nombre y calificaciones: \").split()\n",
    "    scores = list(map(float, line))\n",
    "    students_marks[name] = scores\n",
    "\n",
    "queryname=input(\"Estudiante a consultar: \")\n",
    "\n",
    "suma = sum(students_marks[queryname])\n",
    "size = len(students_marks[queryname])\n",
    "\n",
    "\n",
    "print(f\"Promedio: {suma/size:0.2f}\")\n"
   ]
  },
  {
   "cell_type": "markdown",
   "metadata": {},
   "source": [
    "## Metodos comunes de las listas\n",
    "**Aplicando metodos mas comunes de las listas**\n",
    "\n",
    "Considere una lista (lista = []). Puede realizar los siguientes comandos:\n",
    "\n",
    "1. insert e: Insertar un entero e en la posición i .\n",
    "2. print: Imprime la lista.\n",
    "3. remove e: Borrar la primera ocurrencia del entero e .\n",
    "4. append e: Inserta un entero al final de la lista.\n",
    "5. sort: Ordena la lista.\n",
    "6. pop: Saca el último elemento de la lista.\n",
    "7. reverse: Invierte la lista."
   ]
  },
  {
   "cell_type": "code",
   "execution_count": 26,
   "metadata": {},
   "outputs": [
    {
     "name": "stdout",
     "output_type": "stream",
     "text": [
      "Cuantas operaciones se llevaran a cabo: 12\n",
      "Comando y argumentos: insert 0 5\n",
      "Comando y argumentos: insert 0 10\n",
      "Comando y argumentos: insert 0 6\n",
      "Comando y argumentos: print\n",
      "[6, 10, 5]\n",
      "Comando y argumentos: remove 6\n",
      "Comando y argumentos: append 9\n",
      "Comando y argumentos: append 1\n",
      "Comando y argumentos: sort\n",
      "Comando y argumentos: print\n",
      "[1, 5, 9, 10]\n",
      "Comando y argumentos: pop\n",
      "Comando y argumentos: reverse\n",
      "Comando y argumentos: print\n",
      "[9, 5, 1]\n"
     ]
    }
   ],
   "source": [
    "n = int(input(\"Cuantas operaciones se llevaran a cabo: \"))\n",
    "#definimos la lista\n",
    "l = []\n",
    "\n",
    "for _ in range(n):\n",
    "    comando, *argumentos = input(\"Comando y argumentos: \").split()\n",
    "    if comando!=\"print\":\n",
    "        eval(f\"l.{comando}{tuple(map(int, argumentos))}\")\n",
    "    else:\n",
    "        print(l)\n",
    "\n",
    "        \n",
    "        "
   ]
  },
  {
   "cell_type": "markdown",
   "metadata": {},
   "source": [
    "## Tuplas y creacion de una funcion hash\n",
    "\n",
    "**Tuplas y creacion de funcion hash**\n",
    "\n",
    "_Procedimiento_\n",
    "1. Leer el numero de elementos, (no es util por el metodo que se usara para resolver el problema)\n",
    "2. Leer el numero de elementos **uso del metodo strip** \\\n",
    "    `numeros = input().strip()` >> Devuelve una lista de strings\n",
    "3. Convertir los elementos de la lista a enteros \\\n",
    "    _Opciones disponibles_ \\\n",
    "    `numeros = map(int, numeros)` funcion map \\\n",
    "    `numeros = [int(i) for i in numeros] ` compresion de listas\n",
    "4. Conversion a tupla y paso a funcion hash\n"
   ]
  },
  {
   "cell_type": "code",
   "execution_count": 27,
   "metadata": {
    "scrolled": true
   },
   "outputs": [
    {
     "name": "stdout",
     "output_type": "stream",
     "text": [
      "Numero: 2\n",
      "Enteros: 1 2 3 4\n",
      "590899387183067792\n"
     ]
    }
   ],
   "source": [
    "n = int(input(\"Numero: \"))\n",
    "\n",
    "ints = input(\"Enteros: \").split()\n",
    "t = tuple(int(i) for i in ints)\n",
    "print(hash(t))"
   ]
  },
  {
   "cell_type": "markdown",
   "metadata": {},
   "source": [
    "## Listas anidadas\n",
    "**Listas anidadas**\\\n",
    "Dados los nombres y las calificaciones de cada alumno de una clase de  $N$ estudiantes, almacénelos en una lista anidada e imprima el nombre de cualquier alumno que tenga la segunda calificación más baja.\n",
    "\n",
    "**_Nota:_**\n",
    "Si hay varios estudiantes con la segunda calificación más baja, ordene sus nombres alfabéticamente e imprima cada nombre en una nueva línea.\n"
   ]
  },
  {
   "cell_type": "code",
   "execution_count": 7,
   "metadata": {},
   "outputs": [
    {
     "name": "stdout",
     "output_type": "stream",
     "text": [
      "Alumnos: 4\n",
      "Nombre: mike\n",
      "Score: 150\n",
      "Nombre: fernand\n",
      "Score: 130\n",
      "Nombre: isa\n",
      "Score: 202\n",
      "Nombre: jorge\n",
      "Score: 110\n",
      "fernand "
     ]
    }
   ],
   "source": [
    "# Solucion sencilla\n",
    "\n",
    "database = []\n",
    "name_second_lowest=[]\n",
    "scores = set() #no deben de repetirse\n",
    "\n",
    "for _ in range(int(input(\"Alumnos: \"))):\n",
    "    name = input(\"Nombre: \")\n",
    "    score = float(input(\"Score: \"))\n",
    "    database.append([name,score])\n",
    "    scores.add(score)\n",
    "    \n",
    "second_lowest = sorted(scores)[1] # El segundo menor\n",
    "\n",
    "# iterando sobre la base de datos\n",
    "for name, score in database:\n",
    "    if score == second_lowest:\n",
    "        name_second_lowest.append(name)\n",
    "    \n",
    "\n",
    "for name in sorted(name_second_lowest):\n",
    "    print(name, end=\" \")\n"
   ]
  },
  {
   "cell_type": "code",
   "execution_count": 3,
   "metadata": {},
   "outputs": [
    {
     "name": "stdout",
     "output_type": "stream",
     "text": [
      "4\n",
      "maria\n",
      "12\n",
      "jose\n",
      "100\n",
      "mario\n",
      "1\n",
      "miguel\n",
      "150\n",
      "maria\n"
     ]
    }
   ],
   "source": [
    "# Solucion avanzada\n",
    "n=int(input())\n",
    "marksheet = [[input(), float(input())] for _ in range(n)]\n",
    "\n",
    "second_lowest = sorted(list(set([marks for name, marks in marksheet])))[1]\n",
    "print(\"\\n\\n\".join([a for a,b in sorted(marksheet) if b==second_lowest]))\n"
   ]
  },
  {
   "cell_type": "code",
   "execution_count": null,
   "metadata": {},
   "outputs": [],
   "source": []
  }
 ],
 "metadata": {
  "kernelspec": {
   "display_name": "Python 3",
   "language": "python",
   "name": "python3"
  },
  "language_info": {
   "codemirror_mode": {
    "name": "ipython",
    "version": 3
   },
   "file_extension": ".py",
   "mimetype": "text/x-python",
   "name": "python",
   "nbconvert_exporter": "python",
   "pygments_lexer": "ipython3",
   "version": "3.8.5"
  }
 },
 "nbformat": 4,
 "nbformat_minor": 4
}
